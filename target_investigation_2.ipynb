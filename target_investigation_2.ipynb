{
 "cells": [
  {
   "cell_type": "markdown",
   "source": [
    "<h1>Target variabele onderzoek.</h1>\n",
    "\n",
    "Om nuttige voorspellingen te doen, moet eerst bepaald worden wat voorspeld moet worden. Dit document in bedoelt om later in het hoofd-document in integreren, maar is voor nu stand-alone, en dekt de Business-Understanding, Data-Understanding en (gedeeltelijk) Data-Preparation voor het target variabele af.\n",
    "\n",
    "<h2>Business Understanding: target variabele.</h2>\n",
    "\n",
    "Door de interviews met onze business-expert hebben begrepen dat het voorspellen van momemt van 'functieherstel' toegevoegde waarde voor ProRail zou hebben. Dit is het moment dat een traject weer klaar is om treinverkeer toe te staan. Via ProRail hebben wij dit diagram aangeleverd gekregen, wat inzicht geeft in het bedrijfsprocess:\n",
    "\n",
    "![title](images/badkuip.png)\n",
    "De X-as beslaat tijd, en de Y-as hoeveelheid treinverkeer (beiden non-proportioneel). Dit model zal naar gerefereerd worden als 'badkuip model'.\n",
    "\n",
    "Functieherstel staat niet expliciet benoemd in dit model, maar vind plaats in de buurt van het \"Storing-Eind\" moment, en wanneer de lijn weer omhoog begint te bewegen op de Y-as.\n",
    "\n",
    "ProRail baat bij een goede voorspelling wat betreft moment van functieherstel, zodat ze kunnen zorgen dat het opstarten van de dienstregeling zo goed mogelijk hierop kan aansluiten.\n",
    "\n",
    "Uit de interviews blijkt dat de gegevens die waarschijnlijk tot een goede prognose leiden waarschijnlijk pas beschikbaar zijn wanneer een aannemer ter plekke is, in het badkuipmodel benoemd als \"oplosteam aanwezig\". Als het goed is zijn zowel het tijdstip van aankomst van de monteur, als het tijdstip van functieherstel aanwezig in de dataset, hoewel dit later in 'Data Understanding' bevestigd moet worden.\n",
    "\n",
    "De verstreken tijd tussen de melding van een incident, en het moment dat een oplosteam aanwezig is is sterk variabel. Hoewel dit in de toekomst wellicht ook te voorspellen zou zijn met een model, beperken wij in onze huidige aanpak tot het voorspellen van 'aankomst aannemer' tot 'functieherstel', omdat dat volgens onze huidige business-kennis het best voorspelbaar is aan de hand van de attributen van een specifieke storing.\n",
    "\n",
    "<h2>Data Understanding: target variabele.</h2>\n",
    "\n",
    "Om de mogelijkheid van het implementeren van het targetvariabele van (tijdstip functieherstel) - (tijdstip aankomst aannemer) te onderzoeken, moet de data geïnspecteerd om te bepalen of dit ook echt realistisch is. Hiervoor onderzoeken we de eerder benoemde hypothese voor targetvariabele, en eventuele variabelen die hier concurrentie voor zouden kunnen zijn, of meer inzicht zouden kunnen geven.\n",
    "\n",
    "We beginnen met het importeren van een aantal libraries, en de dataset:"
   ],
   "metadata": {
    "collapsed": false
   }
  },
  {
   "cell_type": "code",
   "execution_count": null,
   "metadata": {
    "collapsed": true
   },
   "outputs": [],
   "source": [
    "import numpy as np\n",
    "import pandas as pd\n",
    "import matplotlib.pyplot as plt\n",
    "from sklearn import metrics"
   ]
  },
  {
   "cell_type": "code",
   "execution_count": null,
   "outputs": [],
   "source": [
    "df = pd.read_csv(\"sap_storing_data_hu_project.csv\")\n",
    "df"
   ],
   "metadata": {
    "collapsed": false,
    "pycharm": {
     "name": "#%%\n"
    }
   }
  },
  {
   "cell_type": "markdown",
   "source": [
    "Iets interessants om te onderzoeken is de relatie tussen de tijdstippen van functieherstel, storing eind, en tijdstip van melding. We maken voor de onderzoek doeleinden hier aparte variabelen van voor gemak, en kijken naar de datatypes."
   ],
   "metadata": {
    "collapsed": false
   }
  },
  {
   "cell_type": "code",
   "execution_count": null,
   "outputs": [],
   "source": [
    "fh_tijdstip = df[\"stm_fh_ddt\"]\n",
    "stor_eind = df[\"stm_sap_storeind_ddt\"]\n",
    "stm_sap_meld_ddt = df[\"stm_sap_meld_ddt\"]"
   ],
   "metadata": {
    "collapsed": false,
    "pycharm": {
     "name": "#%%\n"
    }
   }
  },
  {
   "cell_type": "code",
   "execution_count": null,
   "outputs": [],
   "source": [
    "print(f\"\"\"{fh_tijdstip.dtype}\n",
    "{stor_eind.dtype}\n",
    "{stm_sap_meld_ddt.dtype}\"\"\")"
   ],
   "metadata": {
    "collapsed": false,
    "pycharm": {
     "name": "#%%\n"
    }
   }
  },
  {
   "cell_type": "markdown",
   "source": [
    "Al deze kolommen bestaan uit Strings. Deze moeten omgezet worden naar DateTime voor effectief rekenwerk. Hierna slaan we ze op in een apart DataFrame voor onderzoek. Uit dit dataframe verwijderen we alle rijen waar minimaal 1 NaN waarde instaat, omdat dit dataframe bedoelt is om de werking tussen de verschillende kolommen te vergelijken.\n",
    "\n",
    "Ook definieren we een TimeDelta object voor 2 minuten, omdat het exact vergelijken van tijdstippen voor onze doelen vaak niet nuttig is, en als dingen binnen 2 minuten van elkaar vallen, dit in veel gevallen meer informatie kan geven."
   ],
   "metadata": {
    "collapsed": false
   }
  },
  {
   "cell_type": "code",
   "execution_count": null,
   "outputs": [],
   "source": [
    "fh_tijdstip = pd.to_datetime(fh_tijdstip, errors=\"coerce\")\n",
    "stor_eind = pd.to_datetime(stor_eind, errors=\"coerce\")\n",
    "stm_sap_meld_ddt = pd.to_datetime(stm_sap_meld_ddt, errors=\"coerce\")\n",
    "\n",
    "twominutes = pd.to_timedelta(2, unit=\"m\")"
   ],
   "metadata": {
    "collapsed": false,
    "pycharm": {
     "name": "#%%\n"
    }
   }
  },
  {
   "cell_type": "code",
   "execution_count": null,
   "outputs": [],
   "source": [
    "#df_de_1 = DataFrame DataExploration 1\n",
    "df_de_1 = pd.DataFrame({\"fh_ddt\": fh_tijdstip,\n",
    "                       \"se_ddt\": stor_eind,\n",
    "                       \"meld_ddt\": stm_sap_meld_ddt}).dropna()\n",
    "\n",
    "df_de_1.shape  # 1/3rd is dropped from nas"
   ],
   "metadata": {
    "collapsed": false,
    "pycharm": {
     "name": "#%%\n"
    }
   }
  },
  {
   "cell_type": "markdown",
   "source": [
    "Een eerste vraag om te onderzoek is naar het verschil tussen \"Storing eind\" en \"Functieherstel\". Uit ons business-onderzoek begrijpen we dat deze waarschijnlijk de volgende betekenissen hebben:\n",
    "\n",
    "Functieherstel: Het moment dat er theoretisch weer treinverkeer over het traject kan.\n",
    "Storing eind: Wanneer het probleem opgelost is, en de herstelwerkzaamheden voltooid zijn.\n",
    "\n",
    "Omdat het probleem vaak opgelost is, wanneer er weer treinen over het traject kunnen, zullen deze 2 momenten vaak tegelijk zijn. Dit kunnen we ook bevestigen:"
   ],
   "metadata": {
    "collapsed": false
   }
  },
  {
   "cell_type": "code",
   "execution_count": null,
   "outputs": [],
   "source": [
    "def percentage(numerator: float, denominator: float) -> float:\n",
    "    \"\"\"Calculate a percentage from a fraction.\n",
    "\n",
    "    Args:\n",
    "        numerator: fraction numerator.\n",
    "        denominator: fraction denominator.\n",
    "\n",
    "    Returns:\n",
    "        Percentage between 0 and 100, as float.\"\"\"\n",
    "    return (numerator / denominator) * 100\n",
    "\n",
    "\n",
    "n_fh_is_se = (np.abs(df_de_1[\"fh_ddt\"] - df_de_1[\"se_ddt\"]) < twominutes).sum()\n",
    "f\"Storing Eind is in {percentage(n_fh_is_se, df_de_1.shape[0])}% van de gevallen binnen 2 minuten van Functie Herstel.\""
   ],
   "metadata": {
    "collapsed": false,
    "pycharm": {
     "name": "#%%\n"
    }
   }
  },
  {
   "cell_type": "markdown",
   "source": [
    "In veel andere gevallen zou men verwachten dat storing eind na functieherstel is, wanneer de aannemer het spoor weer operationeel krijgt, maar daarna wel nog werk moet afmaken."
   ],
   "metadata": {
    "collapsed": false
   }
  },
  {
   "cell_type": "code",
   "execution_count": null,
   "outputs": [],
   "source": [
    "n_fh_voor_se = ((df_de_1[\"se_ddt\"] - twominutes) > df_de_1[\"fh_ddt\"]).sum()\n",
    "f\"Storing eind is in {percentage(n_fh_voor_se, df_de_1.shape[0])}% van de gevallen meer dan 2 minuten na functieherstel.\""
   ],
   "metadata": {
    "collapsed": false,
    "pycharm": {
     "name": "#%%\n"
    }
   }
  },
  {
   "cell_type": "markdown",
   "source": [
    "Dit correspondeerd met de verwachting van Business Understanding."
   ],
   "metadata": {
    "collapsed": false
   }
  },
  {
   "cell_type": "markdown",
   "source": [
    "Eerder hebben wij op basis van businesskennis een belovend targetvariabele vastgesteld, namelijk het verschil in tijd tussen het arriveren van de aannemer, en functieherstel. Om dit daadwerkelijk te kunnen gebruiken moet de daadwerkelijke data die hieraan correspondeerd geïnspecteerd worden.\n",
    "\n",
    "In de data dictionairy staan specifiek een kolom voor datum en tijd (apart) benoemd voor het arriveren van de aannemer, namelijk \"stm_aanntpl_dd\" voor datum en \"stm_aanntpl_tijd\" voor tijd. In de dataset zit ook een kolom \"stm_aanntpl_ddt\", hoewel deze in de dictionairy als n.v.t. bestempeld is. Toch lijkt het nuttig het verschil tussen deze kolommen even te inspecteren, om te kijken welke van deze het beste is.\n",
    "\n",
    "Ten eerste is het handig een beeld te hebben hoeveel NaN waardes er in deze kolommen zitten."
   ],
   "metadata": {
    "collapsed": false
   }
  },
  {
   "cell_type": "code",
   "execution_count": null,
   "outputs": [],
   "source": [
    "n_nan_aanntpl_dd = df[\"stm_aanntpl_dd\"].isna().sum()\n",
    "f\"De datumkolom bestaat voor {percentage(n_nan_aanntpl_dd, df.shape[0])}% uit NaN waardes.\""
   ],
   "metadata": {
    "collapsed": false,
    "pycharm": {
     "name": "#%%\n"
    }
   }
  },
  {
   "cell_type": "code",
   "execution_count": null,
   "outputs": [],
   "source": [
    "n_nan_aanntpl_tijd = df[\"stm_aanntpl_tijd\"].isna().sum()\n",
    "f\"De tijdkolom bestaat voor {percentage(n_nan_aanntpl_tijd, df.shape[0])}% uit NaN waardes.\""
   ],
   "metadata": {
    "collapsed": false,
    "pycharm": {
     "name": "#%%\n"
    }
   }
  },
  {
   "cell_type": "code",
   "execution_count": null,
   "outputs": [],
   "source": [
    "n_nan_aanntpl_ddt = df[\"stm_aanntpl_ddt\"].isna().sum()\n",
    "f\"De gecombineerde datum en tijdkolom bestaat voor {percentage(n_nan_aanntpl_dd, df.shape[0])}% uit NaN waardes.\""
   ],
   "metadata": {
    "collapsed": false,
    "pycharm": {
     "name": "#%%\n"
    }
   }
  },
  {
   "cell_type": "code",
   "execution_count": null,
   "outputs": [],
   "source": [
    "wonky_format = df[\"stm_aanntpl_dd\"] + \" \" + df[\"stm_aanntpl_tijd\"]\n",
    "\n",
    "df_aan = pd.DataFrame({\"t\": pd.to_datetime(df[\"stm_aanntpl_tijd\"], errors=\"coerce\"),\n",
    "                       \"d\": pd.to_datetime(df[\"stm_aanntpl_dd\"], errors=\"coerce\"),\n",
    "                       \"dt\": pd.to_datetime(df[\"stm_aanntpl_ddt\"], errors=\"coerce\"),\n",
    "                       \"dt_wonky\": pd.to_datetime(wonky_format, errors=\"coerce\")}).dropna()\n",
    "\n",
    "df_aan.shape"
   ],
   "metadata": {
    "collapsed": false,
    "pycharm": {
     "name": "#%%\n"
    }
   }
  },
  {
   "cell_type": "code",
   "execution_count": null,
   "outputs": [],
   "source": [
    "df_aan"
   ],
   "metadata": {
    "collapsed": false,
    "pycharm": {
     "name": "#%%\n"
    }
   }
  },
  {
   "cell_type": "code",
   "execution_count": null,
   "outputs": [],
   "source": [
    "(df_aan[\"dt\"] == df_aan[\"dt_wonky\"]).sum()"
   ],
   "metadata": {
    "collapsed": false,
    "pycharm": {
     "name": "#%%\n"
    }
   }
  },
  {
   "cell_type": "markdown",
   "source": [
    "We kunnen dus als het goed is de ddt kolom dus gewoon gebruiken...\n",
    "\n",
    "Dan nog even kijken of er idd genoeg nuttige entries zijn voor functieherstel - arrival monteur"
   ],
   "metadata": {
    "collapsed": false
   }
  },
  {
   "cell_type": "code",
   "execution_count": null,
   "outputs": [],
   "source": [
    "possible_target = df_de_1[\"fh_ddt\"] - df_aan[\"dt\"]"
   ],
   "metadata": {
    "collapsed": false,
    "pycharm": {
     "name": "#%%\n"
    }
   }
  },
  {
   "cell_type": "markdown",
   "source": [],
   "metadata": {
    "collapsed": false
   }
  },
  {
   "cell_type": "code",
   "execution_count": null,
   "outputs": [],
   "source": [
    "possible_target.shape"
   ],
   "metadata": {
    "collapsed": false,
    "pycharm": {
     "name": "#%%\n"
    }
   }
  },
  {
   "cell_type": "code",
   "execution_count": null,
   "outputs": [],
   "source": [
    "possible_target.isna().sum()"
   ],
   "metadata": {
    "collapsed": false,
    "pycharm": {
     "name": "#%%\n"
    }
   }
  },
  {
   "cell_type": "code",
   "execution_count": null,
   "outputs": [],
   "source": [
    "possible_target.dropna(inplace=True)"
   ],
   "metadata": {
    "collapsed": false,
    "pycharm": {
     "name": "#%%\n"
    }
   }
  },
  {
   "cell_type": "code",
   "execution_count": null,
   "outputs": [],
   "source": [
    "target_secs = possible_target.dt.total_seconds()\n",
    "(target_secs == 0).sum()"
   ],
   "metadata": {
    "collapsed": false,
    "pycharm": {
     "name": "#%%\n"
    }
   }
  },
  {
   "cell_type": "code",
   "execution_count": null,
   "outputs": [],
   "source": [
    "target_secs = target_secs.loc[(target_secs > 1) | (target_secs < -1)]"
   ],
   "metadata": {
    "collapsed": false,
    "pycharm": {
     "name": "#%%\n"
    }
   }
  },
  {
   "cell_type": "code",
   "execution_count": null,
   "outputs": [],
   "source": [
    "(target_secs == 0).sum()"
   ],
   "metadata": {
    "collapsed": false,
    "pycharm": {
     "name": "#%%\n"
    }
   }
  },
  {
   "cell_type": "code",
   "execution_count": null,
   "outputs": [],
   "source": [
    "target_secs"
   ],
   "metadata": {
    "collapsed": false,
    "pycharm": {
     "name": "#%%\n"
    }
   }
  },
  {
   "cell_type": "code",
   "execution_count": null,
   "outputs": [],
   "source": [
    "np.max(target_secs)"
   ],
   "metadata": {
    "collapsed": false,
    "pycharm": {
     "name": "#%%\n"
    }
   }
  },
  {
   "cell_type": "code",
   "execution_count": null,
   "outputs": [],
   "source": [
    "def remove_outliers(s: pd.Series, fence: float = 3) -> pd.Series:\n",
    "    \"\"\"Remove the outliers from a Pandas series by removing all values that lie below q1 or above q3 with\n",
    "    the product of the inter quartile distance and the 'fence'.\n",
    "\n",
    "    Args:\n",
    "        s: Series to remove outliers from.\n",
    "        fence: amount of IQRs value should lie above q3 or below q1 with to get designated an outlier.\n",
    "\n",
    "    Returns:\n",
    "        Series without outliers.\"\"\"\n",
    "    q1, q3 = s.quantile(.25), s.quantile(.75)\n",
    "    iqr = q3 - q1\n",
    "    fence_iqr_prod = fence * iqr\n",
    "    return s.loc[(s > q1 - fence_iqr_prod) & (s < q3 + fence_iqr_prod)]\n",
    "\n",
    "target_secs = remove_outliers(target_secs)"
   ],
   "metadata": {
    "collapsed": false,
    "pycharm": {
     "name": "#%%\n"
    }
   }
  },
  {
   "cell_type": "code",
   "execution_count": null,
   "outputs": [],
   "source": [
    "target_secs.hist(bins=50)"
   ],
   "metadata": {
    "collapsed": false,
    "pycharm": {
     "name": "#%%\n"
    }
   }
  },
  {
   "cell_type": "code",
   "execution_count": null,
   "outputs": [],
   "source": [
    "plt.boxplot(target_secs)"
   ],
   "metadata": {
    "collapsed": false,
    "pycharm": {
     "name": "#%%\n"
    }
   }
  },
  {
   "cell_type": "code",
   "execution_count": null,
   "outputs": [],
   "source": [
    "target_secs.shape"
   ],
   "metadata": {
    "collapsed": false,
    "pycharm": {
     "name": "#%%\n"
    }
   }
  },
  {
   "cell_type": "markdown",
   "source": [
    "Als dit inderdaad een goed targetvariabele is, blijven er 560K van de 890K rows over."
   ],
   "metadata": {
    "collapsed": false
   }
  },
  {
   "cell_type": "markdown",
   "source": [
    "TEMP: FF snel de RMSE van de baseline op basis van target mean."
   ],
   "metadata": {
    "collapsed": false
   }
  },
  {
   "cell_type": "code",
   "execution_count": null,
   "outputs": [],
   "source": [
    "baseline_predictions = np.full(target_secs.shape[0], target_secs.mean())\n",
    "baseline_rmse = metrics.mean_squared_error(target_secs, baseline_predictions, squared=False)\n",
    "baseline_rmse"
   ],
   "metadata": {
    "collapsed": false,
    "pycharm": {
     "name": "#%%\n"
    }
   }
  },
  {
   "cell_type": "code",
   "execution_count": null,
   "outputs": [],
   "source": [
    "np.max(target_secs)"
   ],
   "metadata": {
    "collapsed": false,
    "pycharm": {
     "name": "#%%\n"
    }
   }
  }
 ],
 "metadata": {
  "kernelspec": {
   "display_name": "Python 3",
   "language": "python",
   "name": "python3"
  },
  "language_info": {
   "codemirror_mode": {
    "name": "ipython",
    "version": 2
   },
   "file_extension": ".py",
   "mimetype": "text/x-python",
   "name": "python",
   "nbconvert_exporter": "python",
   "pygments_lexer": "ipython2",
   "version": "2.7.6"
  }
 },
 "nbformat": 4,
 "nbformat_minor": 0
}