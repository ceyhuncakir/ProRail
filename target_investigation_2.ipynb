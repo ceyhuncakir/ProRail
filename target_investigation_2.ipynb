{
 "cells": [
  {
   "cell_type": "markdown",
   "source": [
    "NOTE: THIS IS A TEMPORARY HIGHLY-ITERATIVE RESEARCH DOCUMENT. TEXT WILL BE ADDED LATER."
   ],
   "metadata": {
    "collapsed": false
   }
  },
  {
   "cell_type": "code",
   "execution_count": null,
   "metadata": {
    "collapsed": true
   },
   "outputs": [],
   "source": [
    "import numpy as np\n",
    "import pandas as pd\n",
    "import matplotlib.pyplot as plt\n",
    "\n",
    "df = pd.read_csv(\"sap_storing_data_hu_project.csv\")\n",
    "df"
   ]
  },
  {
   "cell_type": "code",
   "execution_count": null,
   "outputs": [],
   "source": [
    "fh_tijdstip = df[\"stm_fh_ddt\"]\n",
    "stor_eind = df[\"stm_sap_storeind_ddt\"]\n",
    "stm_sap_meld_ddt = df[\"stm_sap_meld_ddt\"]"
   ],
   "metadata": {
    "collapsed": false,
    "pycharm": {
     "name": "#%%\n"
    }
   }
  },
  {
   "cell_type": "code",
   "execution_count": null,
   "outputs": [],
   "source": [
    "fh_tijdstip = pd.to_datetime(fh_tijdstip, errors=\"coerce\")\n",
    "stor_eind = pd.to_datetime(stor_eind, errors=\"coerce\")\n",
    "stm_sap_meld_ddt = pd.to_datetime(stm_sap_meld_ddt, errors=\"coerce\")\n",
    "\n",
    "twominutes = pd.to_timedelta(2, unit=\"m\")"
   ],
   "metadata": {
    "collapsed": false,
    "pycharm": {
     "name": "#%%\n"
    }
   }
  },
  {
   "cell_type": "code",
   "execution_count": null,
   "outputs": [],
   "source": [
    "new_df = pd.DataFrame({\"fh_ddt\": fh_tijdstip,\n",
    "                       \"se_ddt\": stor_eind,\n",
    "                       \"meld_ddt\": stm_sap_meld_ddt}).dropna()\n",
    "\n",
    "new_df.shape  # 1/3rd is dropped from nas"
   ],
   "metadata": {
    "collapsed": false,
    "pycharm": {
     "name": "#%%\n"
    }
   }
  },
  {
   "cell_type": "markdown",
   "source": [
    "In bijna de helft van de gevallen liggen 'storing eind' en 'functieherstel' binnen 2 minuten van elkaar.\n",
    "Storing eind (- 2min) is in de helft van de gevallen groter dan functieherstel."
   ],
   "metadata": {
    "collapsed": false
   }
  },
  {
   "cell_type": "code",
   "execution_count": null,
   "outputs": [],
   "source": [
    "(np.abs(new_df[\"fh_ddt\"] - new_df[\"se_ddt\"]) < twominutes).sum()"
   ],
   "metadata": {
    "collapsed": false,
    "pycharm": {
     "name": "#%%\n"
    }
   }
  },
  {
   "cell_type": "code",
   "execution_count": null,
   "outputs": [],
   "source": [
    "((new_df[\"se_ddt\"] - twominutes) > new_df[\"fh_ddt\"]).sum()"
   ],
   "metadata": {
    "collapsed": false,
    "pycharm": {
     "name": "#%%\n"
    }
   }
  },
  {
   "cell_type": "markdown",
   "source": [
    "Waarschijnlijk is functieherstel tijdstip - aankomst aannemer het targetvariabele. Hier hebben we tijdstip en datum apart van, of schijnbaar een datetime, maar in de data dictionairy staat die als ?.\n"
   ],
   "metadata": {
    "collapsed": false
   }
  },
  {
   "cell_type": "code",
   "execution_count": null,
   "outputs": [],
   "source": [
    "df[\"stm_aanntpl_dd\"].isna().sum()"
   ],
   "metadata": {
    "collapsed": false,
    "pycharm": {
     "name": "#%%\n"
    }
   }
  },
  {
   "cell_type": "code",
   "execution_count": null,
   "outputs": [],
   "source": [
    "df[\"stm_aanntpl_tijd\"].isna().sum()"
   ],
   "metadata": {
    "collapsed": false,
    "pycharm": {
     "name": "#%%\n"
    }
   }
  },
  {
   "cell_type": "code",
   "execution_count": null,
   "outputs": [],
   "source": [
    "df[\"stm_aanntpl_ddt\"].isna().sum()"
   ],
   "metadata": {
    "collapsed": false,
    "pycharm": {
     "name": "#%%\n"
    }
   }
  },
  {
   "cell_type": "code",
   "execution_count": null,
   "outputs": [],
   "source": [
    "df[np.logical_not(df[\"stm_aanntpl_ddt\"].isna())][\"stm_aanntpl_ddt\"]"
   ],
   "metadata": {
    "collapsed": false,
    "pycharm": {
     "name": "#%%\n"
    }
   }
  },
  {
   "cell_type": "code",
   "execution_count": null,
   "outputs": [],
   "source": [
    "wonky_format = df[\"stm_aanntpl_dd\"] + \" \" + df[\"stm_aanntpl_tijd\"]\n",
    "\n",
    "df_aan = pd.DataFrame({\"t\": pd.to_datetime(df[\"stm_aanntpl_tijd\"], errors=\"coerce\"),\n",
    "                       \"d\": pd.to_datetime(df[\"stm_aanntpl_dd\"], errors=\"coerce\"),\n",
    "                       \"dt\": pd.to_datetime(df[\"stm_aanntpl_ddt\"], errors=\"coerce\"),\n",
    "                       \"dt_wonky\": pd.to_datetime(wonky_format, errors=\"coerce\")}).dropna()\n",
    "\n",
    "df_aan.shape"
   ],
   "metadata": {
    "collapsed": false,
    "pycharm": {
     "name": "#%%\n"
    }
   }
  },
  {
   "cell_type": "code",
   "execution_count": null,
   "outputs": [],
   "source": [
    "df_aan"
   ],
   "metadata": {
    "collapsed": false,
    "pycharm": {
     "name": "#%%\n"
    }
   }
  },
  {
   "cell_type": "code",
   "execution_count": null,
   "outputs": [],
   "source": [
    "(df_aan[\"dt\"] == df_aan[\"dt_wonky\"]).sum()"
   ],
   "metadata": {
    "collapsed": false,
    "pycharm": {
     "name": "#%%\n"
    }
   }
  },
  {
   "cell_type": "markdown",
   "source": [
    "We kunnen dus als het goed is de ddt kolom dus gewoon gebruiken...\n",
    "\n",
    "Dan nog even kijken of er idd genoeg nuttige entries zijn voor functieherstel - arrival monteur"
   ],
   "metadata": {
    "collapsed": false
   }
  },
  {
   "cell_type": "code",
   "execution_count": null,
   "outputs": [],
   "source": [
    "possible_target = new_df[\"fh_ddt\"] - df_aan[\"dt\"]"
   ],
   "metadata": {
    "collapsed": false,
    "pycharm": {
     "name": "#%%\n"
    }
   }
  },
  {
   "cell_type": "markdown",
   "source": [],
   "metadata": {
    "collapsed": false
   }
  },
  {
   "cell_type": "code",
   "execution_count": null,
   "outputs": [],
   "source": [
    "possible_target.shape"
   ],
   "metadata": {
    "collapsed": false,
    "pycharm": {
     "name": "#%%\n"
    }
   }
  },
  {
   "cell_type": "code",
   "execution_count": null,
   "outputs": [],
   "source": [
    "possible_target.isna().sum()"
   ],
   "metadata": {
    "collapsed": false,
    "pycharm": {
     "name": "#%%\n"
    }
   }
  },
  {
   "cell_type": "code",
   "execution_count": null,
   "outputs": [],
   "source": [
    "possible_target.dropna(inplace=True)"
   ],
   "metadata": {
    "collapsed": false,
    "pycharm": {
     "name": "#%%\n"
    }
   }
  },
  {
   "cell_type": "code",
   "execution_count": null,
   "outputs": [],
   "source": [
    "target_secs = possible_target.dt.total_seconds()\n",
    "(target_secs == 0).sum()"
   ],
   "metadata": {
    "collapsed": false,
    "pycharm": {
     "name": "#%%\n"
    }
   }
  },
  {
   "cell_type": "code",
   "execution_count": null,
   "outputs": [],
   "source": [
    "target_secs = target_secs.loc[(target_secs > 1) | (target_secs < -1)]"
   ],
   "metadata": {
    "collapsed": false,
    "pycharm": {
     "name": "#%%\n"
    }
   }
  },
  {
   "cell_type": "code",
   "execution_count": null,
   "outputs": [],
   "source": [
    "(target_secs == 0).sum()"
   ],
   "metadata": {
    "collapsed": false,
    "pycharm": {
     "name": "#%%\n"
    }
   }
  },
  {
   "cell_type": "code",
   "execution_count": null,
   "outputs": [],
   "source": [
    "target_secs"
   ],
   "metadata": {
    "collapsed": false,
    "pycharm": {
     "name": "#%%\n"
    }
   }
  },
  {
   "cell_type": "code",
   "execution_count": null,
   "outputs": [],
   "source": [
    "np.max(target_secs)"
   ],
   "metadata": {
    "collapsed": false,
    "pycharm": {
     "name": "#%%\n"
    }
   }
  },
  {
   "cell_type": "code",
   "execution_count": null,
   "outputs": [],
   "source": [
    "def outliers(s: pd.Series) -> pd.Series:\n",
    "    q1, q3 = s.quantile(.25), s.quantile(.75)\n",
    "    iqr = q3 - q1\n",
    "    return s.loc[(s > q1 - (3 * iqr)) & (s < q3 + (3 * iqr))]\n",
    "\n",
    "target_secs = outliers(target_secs)"
   ],
   "metadata": {
    "collapsed": false,
    "pycharm": {
     "name": "#%%\n"
    }
   }
  },
  {
   "cell_type": "code",
   "execution_count": null,
   "outputs": [],
   "source": [
    "target_secs.hist(bins=50)"
   ],
   "metadata": {
    "collapsed": false,
    "pycharm": {
     "name": "#%%\n"
    }
   }
  },
  {
   "cell_type": "code",
   "execution_count": null,
   "outputs": [],
   "source": [
    "plt.boxplot(target_secs)"
   ],
   "metadata": {
    "collapsed": false,
    "pycharm": {
     "name": "#%%\n"
    }
   }
  },
  {
   "cell_type": "code",
   "execution_count": null,
   "outputs": [],
   "source": [
    "target_secs.shape"
   ],
   "metadata": {
    "collapsed": false,
    "pycharm": {
     "name": "#%%\n"
    }
   }
  },
  {
   "cell_type": "markdown",
   "source": [
    "Als dit inderdaad een goed targetvariabele is, blijven er 560K van de 890K rows over."
   ],
   "metadata": {
    "collapsed": false
   }
  }
 ],
 "metadata": {
  "kernelspec": {
   "display_name": "Python 3",
   "language": "python",
   "name": "python3"
  },
  "language_info": {
   "codemirror_mode": {
    "name": "ipython",
    "version": 2
   },
   "file_extension": ".py",
   "mimetype": "text/x-python",
   "name": "python",
   "nbconvert_exporter": "python",
   "pygments_lexer": "ipython2",
   "version": "2.7.6"
  }
 },
 "nbformat": 4,
 "nbformat_minor": 0
}