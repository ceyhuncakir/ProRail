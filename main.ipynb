{
 "cells": [
  {
   "cell_type": "markdown",
   "metadata": {},
   "source": [
    "<h1>Data Driven Business: Data Science pipeline.</h1>\n",
    "\n",
    "Om nuttige voorspellingen te doen, moet eerst bepaald worden wat voorspeld moet worden. Dit document in bedoelt om later in het hoofd-document in integreren, maar is voor nu stand-alone, en dekt de Business-Understanding, Data-Understanding en (gedeeltelijk) Data-Preparation voor het target variabele af.\n",
    "\n",
    "<h2>Target variabele.</h2>\n",
    "\n",
    "<h3>Business understanding</h3>\n",
    "\n",
    "Door de interviews met onze business-expert hebben begrepen dat het voorspellen van moment van 'functieherstel' toegevoegde waarde voor ProRail zou hebben. Dit is het moment dat een traject weer klaar is om treinverkeer toe te staan. Via ProRail hebben wij dit diagram aangeleverd gekregen, wat inzicht geeft in het bedrijfsprocess:\n",
    "\n",
    "![title](images/badkuip.png)\n",
    "De X-as beslaat tijd, en de Y-as hoeveelheid treinverkeer (beiden non-proportioneel). Dit model zal naar gerefereerd worden als 'badkuip model'.\n",
    "\n",
    "Functieherstel staat niet expliciet benoemd in dit model, maar vind plaats in de buurt van het \"Storing-Eind\" moment, en wanneer de lijn weer omhoog begint te bewegen op de Y-as.\n",
    "\n",
    "ProRail baat bij een goede voorspelling wat betreft moment van functieherstel, zodat ze kunnen zorgen dat het opstarten van de dienstregeling zo goed mogelijk hierop kan aansluiten.\n",
    "\n",
    "Uit de interviews blijkt dat de gegevens die waarschijnlijk tot een goede prognose leiden waarschijnlijk pas beschikbaar zijn wanneer een aannemer ter plekke is, in het badkuipmodel benoemd als \"oplosteam aanwezig\". Als het goed is zijn zowel het tijdstip van aankomst van de monteur, als het tijdstip van functieherstel aanwezig in de dataset, hoewel dit later in 'Data Understanding' bevestigd moet worden.\n",
    "\n",
    "De verstreken tijd tussen de melding van een incident, en het moment dat een oplosteam aanwezig is is sterk variabel. Hoewel dit in de toekomst wellicht ook te voorspellen zou zijn met een model, beperken wij in onze huidige aanpak tot het voorspellen van 'aankomst aannemer' tot 'functieherstel', omdat dat volgens onze huidige business-kennis het best voorspelbaar is aan de hand van de attributen van een specifieke storing.\n",
    "\n",
    "<h3>Data Understanding.</h3>\n",
    "\n",
    "Om de mogelijkheid van het implementeren van het targetvariabele van (tijdstip functieherstel) - (tijdstip aankomst aannemer) te onderzoeken, moet de data geïnspecteerd om te bepalen of dit ook echt realistisch is. Hiervoor onderzoeken we de eerder benoemde hypothese voor targetvariabele, en eventuele variabelen die hier concurrentie voor zouden kunnen zijn, of meer inzicht zouden kunnen geven.\n",
    "\n",
    "We beginnen met het importeren van een aantal libraries, en de dataset:"
   ]
  },
  {
   "cell_type": "code",
   "execution_count": 1,
   "metadata": {
    "collapsed": true
   },
   "outputs": [],
   "source": [
    "import enum\n",
    "import pickle\n",
    "\n",
    "import numpy as np\n",
    "import pandas as pd\n",
    "import matplotlib.pyplot as plt\n",
    "import seaborn as sns\n",
    "\n",
    "from sklearn import metrics\n",
    "from sklearn import dummy\n",
    "from sklearn import linear_model\n",
    "from sklearn import model_selection\n",
    "from sklearn import tree\n",
    "from sklearn.preprocessing import PolynomialFeatures\n",
    "from sklearn.pipeline import make_pipeline\n",
    "from sklearn.linear_model import LinearRegression"
   ]
  },
  {
   "cell_type": "code",
   "execution_count": 2,
   "metadata": {
    "pycharm": {
     "name": "#%%\n"
    }
   },
   "outputs": [
    {
     "name": "stderr",
     "output_type": "stream",
     "text": [
      "C:\\ProgramData\\Anaconda3\\lib\\site-packages\\IPython\\core\\interactiveshell.py:3165: DtypeWarning: Columns (0,11,19,21,24,25,27,32,33,36,37,38,39,40,46,47,48,49,51,53,55,56,60,73,75,78,80,82,83,86,87,91,95,99,102,103,104,107,108,109,110,111,112,113,116,118,119,120,121,122,123,124,129) have mixed types.Specify dtype option on import or set low_memory=False.\n",
      "  has_raised = await self.run_ast_nodes(code_ast.body, cell_name,\n"
     ]
    },
    {
     "data": {
      "text/html": [
       "<div>\n",
       "<style scoped>\n",
       "    .dataframe tbody tr th:only-of-type {\n",
       "        vertical-align: middle;\n",
       "    }\n",
       "\n",
       "    .dataframe tbody tr th {\n",
       "        vertical-align: top;\n",
       "    }\n",
       "\n",
       "    .dataframe thead th {\n",
       "        text-align: right;\n",
       "    }\n",
       "</style>\n",
       "<table border=\"1\" class=\"dataframe\">\n",
       "  <thead>\n",
       "    <tr style=\"text-align: right;\">\n",
       "      <th></th>\n",
       "      <th>Unnamed: 0</th>\n",
       "      <th>#stm_sap_meldnr</th>\n",
       "      <th>stm_mon_nr</th>\n",
       "      <th>stm_vl_post</th>\n",
       "      <th>stm_sap_meld_ddt</th>\n",
       "      <th>stm_sap_mon_meld_ddt</th>\n",
       "      <th>stm_sap_meldtekst_lang</th>\n",
       "      <th>stm_mon_begin_ddt</th>\n",
       "      <th>stm_sap_meldtekst</th>\n",
       "      <th>stm_mon_toelichting_trdl</th>\n",
       "      <th>...</th>\n",
       "      <th>stm_rapportage_maand</th>\n",
       "      <th>stm_rapportage_jaar</th>\n",
       "      <th>stm_x_bron_publ_dt</th>\n",
       "      <th>stm_x_bron_bestandsnaam</th>\n",
       "      <th>stm_x_bron_arch_dt</th>\n",
       "      <th>stm_x_actueel_ind</th>\n",
       "      <th>stm_x_run_id</th>\n",
       "      <th>stm_x_bk</th>\n",
       "      <th>stm_x_start_sessie_dt</th>\n",
       "      <th>stm_x_vervallen_ind</th>\n",
       "    </tr>\n",
       "  </thead>\n",
       "  <tbody>\n",
       "    <tr>\n",
       "      <th>0</th>\n",
       "      <td>0</td>\n",
       "      <td>0</td>\n",
       "      <td>NaN</td>\n",
       "      <td>NaN</td>\n",
       "      <td>NaN</td>\n",
       "      <td>NaN</td>\n",
       "      <td>NaN</td>\n",
       "      <td>NaN</td>\n",
       "      <td>NaN</td>\n",
       "      <td>NaN</td>\n",
       "      <td>...</td>\n",
       "      <td>5</td>\n",
       "      <td>2014</td>\n",
       "      <td>07/05/2014 05:30:12</td>\n",
       "      <td>\\\\PUHAPS0149\\Informatica_Prod\\Inbox\\Informatic...</td>\n",
       "      <td>31/12/9999 00:00:00</td>\n",
       "      <td>1</td>\n",
       "      <td>34415</td>\n",
       "      <td>3617016</td>\n",
       "      <td>07/05/2014 05:44:24</td>\n",
       "      <td>0</td>\n",
       "    </tr>\n",
       "    <tr>\n",
       "      <th>1</th>\n",
       "      <td>1</td>\n",
       "      <td>50053211</td>\n",
       "      <td>0.0</td>\n",
       "      <td>NaN</td>\n",
       "      <td>02/01/2006 09:00:00</td>\n",
       "      <td>02/01/2006 09:00:00</td>\n",
       "      <td>Logboeknr  Geeltje  :   49 Tijd: 0900   VL-Po...</td>\n",
       "      <td>NaN</td>\n",
       "      <td>Logboeknr  Geeltje  :   49 Tijd: 0900</td>\n",
       "      <td>NaN</td>\n",
       "      <td>...</td>\n",
       "      <td>1</td>\n",
       "      <td>2006</td>\n",
       "      <td>02/01/2006 09:00:00</td>\n",
       "      <td>\\\\PUHAPS0149\\Informatica_Prod\\Inbox\\Informatic...</td>\n",
       "      <td>31/12/9999 00:00:00</td>\n",
       "      <td>1</td>\n",
       "      <td>1518</td>\n",
       "      <td>12704590</td>\n",
       "      <td>13/06/2013 13:37:52</td>\n",
       "      <td>0</td>\n",
       "    </tr>\n",
       "    <tr>\n",
       "      <th>2</th>\n",
       "      <td>2</td>\n",
       "      <td>50053213</td>\n",
       "      <td>48.0</td>\n",
       "      <td>GN</td>\n",
       "      <td>02/01/2006 12:35:00</td>\n",
       "      <td>02/01/2006 12:35:00</td>\n",
       "      <td>Logboeknr  RBV  :   48 Tijd: 1235   VL-Post: ...</td>\n",
       "      <td>02/01/2006 12:35:00</td>\n",
       "      <td>Logboeknr  RBV  :   48 Tijd: 1235   VL-P</td>\n",
       "      <td>NaN</td>\n",
       "      <td>...</td>\n",
       "      <td>1</td>\n",
       "      <td>2006</td>\n",
       "      <td>02/01/2006 12:35:00</td>\n",
       "      <td>\\\\PUHAPS0149\\Informatica_Prod\\Inbox\\Informatic...</td>\n",
       "      <td>31/12/9999 00:00:00</td>\n",
       "      <td>1</td>\n",
       "      <td>1518</td>\n",
       "      <td>12704591</td>\n",
       "      <td>13/06/2013 13:37:52</td>\n",
       "      <td>0</td>\n",
       "    </tr>\n",
       "    <tr>\n",
       "      <th>3</th>\n",
       "      <td>3</td>\n",
       "      <td>50053214</td>\n",
       "      <td>72.0</td>\n",
       "      <td>ZL</td>\n",
       "      <td>02/01/2006 16:40:00</td>\n",
       "      <td>02/01/2006 16:40:00</td>\n",
       "      <td>Logboeknr  RBV  :   72 Tijd: 1640   VL-Post: ...</td>\n",
       "      <td>02/01/2006 16:40:00</td>\n",
       "      <td>Logboeknr  RBV  :   72 Tijd: 1640   VL-P</td>\n",
       "      <td>NaN</td>\n",
       "      <td>...</td>\n",
       "      <td>1</td>\n",
       "      <td>2006</td>\n",
       "      <td>02/01/2006 16:40:00</td>\n",
       "      <td>\\\\PUHAPS0149\\Informatica_Prod\\Inbox\\Informatic...</td>\n",
       "      <td>31/12/9999 00:00:00</td>\n",
       "      <td>1</td>\n",
       "      <td>1518</td>\n",
       "      <td>12704592</td>\n",
       "      <td>13/06/2013 13:37:52</td>\n",
       "      <td>0</td>\n",
       "    </tr>\n",
       "    <tr>\n",
       "      <th>4</th>\n",
       "      <td>4</td>\n",
       "      <td>50053215</td>\n",
       "      <td>96.0</td>\n",
       "      <td>ZL</td>\n",
       "      <td>02/01/2006 22:30:00</td>\n",
       "      <td>02/01/2006 22:30:00</td>\n",
       "      <td>Logboeknr  RBV  :   96 Tijd: 2230   VL-Post: ...</td>\n",
       "      <td>02/01/2006 22:30:00</td>\n",
       "      <td>Logboeknr  RBV  :   96 Tijd: 2230   VL-P</td>\n",
       "      <td>NaN</td>\n",
       "      <td>...</td>\n",
       "      <td>1</td>\n",
       "      <td>2006</td>\n",
       "      <td>02/01/2006 22:30:00</td>\n",
       "      <td>\\\\PUHAPS0149\\Informatica_Prod\\Inbox\\Informatic...</td>\n",
       "      <td>31/12/9999 00:00:00</td>\n",
       "      <td>1</td>\n",
       "      <td>1518</td>\n",
       "      <td>12704593</td>\n",
       "      <td>13/06/2013 13:37:52</td>\n",
       "      <td>0</td>\n",
       "    </tr>\n",
       "    <tr>\n",
       "      <th>...</th>\n",
       "      <td>...</td>\n",
       "      <td>...</td>\n",
       "      <td>...</td>\n",
       "      <td>...</td>\n",
       "      <td>...</td>\n",
       "      <td>...</td>\n",
       "      <td>...</td>\n",
       "      <td>...</td>\n",
       "      <td>...</td>\n",
       "      <td>...</td>\n",
       "      <td>...</td>\n",
       "      <td>...</td>\n",
       "      <td>...</td>\n",
       "      <td>...</td>\n",
       "      <td>...</td>\n",
       "      <td>...</td>\n",
       "      <td>...</td>\n",
       "      <td>...</td>\n",
       "      <td>...</td>\n",
       "      <td>...</td>\n",
       "      <td>...</td>\n",
       "    </tr>\n",
       "    <tr>\n",
       "      <th>898521</th>\n",
       "      <td>908625</td>\n",
       "      <td>99003505</td>\n",
       "      <td>0.0</td>\n",
       "      <td>NaN</td>\n",
       "      <td>11/05/2013 08:06:00</td>\n",
       "      <td>11/05/2013 08:06:00</td>\n",
       "      <td>GVC : sp-2 en 3  stop lampen op de stootjukke...</td>\n",
       "      <td>NaN</td>\n",
       "      <td>GVC : sp-2 en 3  stop lampen op de stoot</td>\n",
       "      <td>NaN</td>\n",
       "      <td>...</td>\n",
       "      <td>8</td>\n",
       "      <td>2013</td>\n",
       "      <td>05/08/2013 01:00:16</td>\n",
       "      <td>\\\\PUHAPS0149\\Informatica_Prod\\Inbox\\Informatic...</td>\n",
       "      <td>31/12/9999 00:00:00</td>\n",
       "      <td>1</td>\n",
       "      <td>3344</td>\n",
       "      <td>12759543</td>\n",
       "      <td>05/08/2013 01:30:37</td>\n",
       "      <td>0</td>\n",
       "    </tr>\n",
       "    <tr>\n",
       "      <th>898522</th>\n",
       "      <td>908626</td>\n",
       "      <td>99003506</td>\n",
       "      <td>0.0</td>\n",
       "      <td>NaN</td>\n",
       "      <td>11/05/2013 09:21:00</td>\n",
       "      <td>11/05/2013 09:21:00</td>\n",
       "      <td>Whz : Ovw 100.1 albert Plesmanweg blijft  dic...</td>\n",
       "      <td>NaN</td>\n",
       "      <td>Whz : Ovw 100.1 albert Plesmanweg blijft</td>\n",
       "      <td>NaN</td>\n",
       "      <td>...</td>\n",
       "      <td>5</td>\n",
       "      <td>2013</td>\n",
       "      <td>11/05/2013 09:21:00</td>\n",
       "      <td>\\\\PUHAPS0149\\Informatica_Prod\\Inbox\\Informatic...</td>\n",
       "      <td>05/08/2013 01:00:16</td>\n",
       "      <td>0</td>\n",
       "      <td>1518</td>\n",
       "      <td>12759544</td>\n",
       "      <td>13/06/2013 13:37:52</td>\n",
       "      <td>0</td>\n",
       "    </tr>\n",
       "    <tr>\n",
       "      <th>898523</th>\n",
       "      <td>908627</td>\n",
       "      <td>99003506</td>\n",
       "      <td>0.0</td>\n",
       "      <td>NaN</td>\n",
       "      <td>11/05/2013 09:21:00</td>\n",
       "      <td>11/05/2013 09:21:00</td>\n",
       "      <td>Whz : Ovw 100.1 albert Plesmanweg blijft  dic...</td>\n",
       "      <td>NaN</td>\n",
       "      <td>Whz : Ovw 100.1 albert Plesmanweg blijft</td>\n",
       "      <td>NaN</td>\n",
       "      <td>...</td>\n",
       "      <td>8</td>\n",
       "      <td>2013</td>\n",
       "      <td>05/08/2013 01:00:16</td>\n",
       "      <td>\\\\PUHAPS0149\\Informatica_Prod\\Inbox\\Informatic...</td>\n",
       "      <td>31/12/9999 00:00:00</td>\n",
       "      <td>1</td>\n",
       "      <td>3344</td>\n",
       "      <td>12759544</td>\n",
       "      <td>05/08/2013 01:30:37</td>\n",
       "      <td>0</td>\n",
       "    </tr>\n",
       "    <tr>\n",
       "      <th>898524</th>\n",
       "      <td>908628</td>\n",
       "      <td>99999999</td>\n",
       "      <td>0.0</td>\n",
       "      <td>NaN</td>\n",
       "      <td>20/08/2016 14:15:17</td>\n",
       "      <td>20/08/2016 14:15:17</td>\n",
       "      <td>Bdg-Apn : Km 12.7 twee gedode zwanen langs het...</td>\n",
       "      <td>NaN</td>\n",
       "      <td>Bdg-Apn : Km 12.7 twee gedode zwanen lan</td>\n",
       "      <td>NaN</td>\n",
       "      <td>...</td>\n",
       "      <td>8</td>\n",
       "      <td>2016</td>\n",
       "      <td>23/08/2016 06:00:19</td>\n",
       "      <td>\\\\PUHAPS0149\\Informatica_Prod\\Inbox\\Informatic...</td>\n",
       "      <td>24/10/2016 06:00:11</td>\n",
       "      <td>0</td>\n",
       "      <td>450213</td>\n",
       "      <td>3710373</td>\n",
       "      <td>01/09/2016 06:09:38</td>\n",
       "      <td>0</td>\n",
       "    </tr>\n",
       "    <tr>\n",
       "      <th>898525</th>\n",
       "      <td>908629</td>\n",
       "      <td>99999999</td>\n",
       "      <td>0.0</td>\n",
       "      <td>NaN</td>\n",
       "      <td>20/08/2016 14:15:17</td>\n",
       "      <td>20/08/2016 14:15:17</td>\n",
       "      <td>Bdg-Apn : Km 12.7 twee gedode zwanen langs het...</td>\n",
       "      <td>NaN</td>\n",
       "      <td>Bdg-Apn : Km 12.7 twee gedode zwanen lan</td>\n",
       "      <td>NaN</td>\n",
       "      <td>...</td>\n",
       "      <td>10</td>\n",
       "      <td>2016</td>\n",
       "      <td>24/10/2016 06:00:11</td>\n",
       "      <td>\\\\PUHAPS0149\\Informatica_Prod\\Inbox\\Informatic...</td>\n",
       "      <td>31/12/9999 00:00:00</td>\n",
       "      <td>1</td>\n",
       "      <td>490063</td>\n",
       "      <td>3710373</td>\n",
       "      <td>24/10/2016 06:11:40</td>\n",
       "      <td>0</td>\n",
       "    </tr>\n",
       "  </tbody>\n",
       "</table>\n",
       "<p>898526 rows × 140 columns</p>\n",
       "</div>"
      ],
      "text/plain": [
       "       Unnamed: 0  #stm_sap_meldnr  stm_mon_nr stm_vl_post  \\\n",
       "0               0                0         NaN         NaN   \n",
       "1               1         50053211         0.0         NaN   \n",
       "2               2         50053213        48.0          GN   \n",
       "3               3         50053214        72.0          ZL   \n",
       "4               4         50053215        96.0          ZL   \n",
       "...           ...              ...         ...         ...   \n",
       "898521     908625         99003505         0.0         NaN   \n",
       "898522     908626         99003506         0.0         NaN   \n",
       "898523     908627         99003506         0.0         NaN   \n",
       "898524     908628         99999999         0.0         NaN   \n",
       "898525     908629         99999999         0.0         NaN   \n",
       "\n",
       "           stm_sap_meld_ddt stm_sap_mon_meld_ddt  \\\n",
       "0                       NaN                  NaN   \n",
       "1       02/01/2006 09:00:00  02/01/2006 09:00:00   \n",
       "2       02/01/2006 12:35:00  02/01/2006 12:35:00   \n",
       "3       02/01/2006 16:40:00  02/01/2006 16:40:00   \n",
       "4       02/01/2006 22:30:00  02/01/2006 22:30:00   \n",
       "...                     ...                  ...   \n",
       "898521  11/05/2013 08:06:00  11/05/2013 08:06:00   \n",
       "898522  11/05/2013 09:21:00  11/05/2013 09:21:00   \n",
       "898523  11/05/2013 09:21:00  11/05/2013 09:21:00   \n",
       "898524  20/08/2016 14:15:17  20/08/2016 14:15:17   \n",
       "898525  20/08/2016 14:15:17  20/08/2016 14:15:17   \n",
       "\n",
       "                                   stm_sap_meldtekst_lang  \\\n",
       "0                                                     NaN   \n",
       "1        Logboeknr  Geeltje  :   49 Tijd: 0900   VL-Po...   \n",
       "2        Logboeknr  RBV  :   48 Tijd: 1235   VL-Post: ...   \n",
       "3        Logboeknr  RBV  :   72 Tijd: 1640   VL-Post: ...   \n",
       "4        Logboeknr  RBV  :   96 Tijd: 2230   VL-Post: ...   \n",
       "...                                                   ...   \n",
       "898521   GVC : sp-2 en 3  stop lampen op de stootjukke...   \n",
       "898522   Whz : Ovw 100.1 albert Plesmanweg blijft  dic...   \n",
       "898523   Whz : Ovw 100.1 albert Plesmanweg blijft  dic...   \n",
       "898524  Bdg-Apn : Km 12.7 twee gedode zwanen langs het...   \n",
       "898525  Bdg-Apn : Km 12.7 twee gedode zwanen langs het...   \n",
       "\n",
       "          stm_mon_begin_ddt                         stm_sap_meldtekst  \\\n",
       "0                       NaN                                       NaN   \n",
       "1                       NaN     Logboeknr  Geeltje  :   49 Tijd: 0900   \n",
       "2       02/01/2006 12:35:00  Logboeknr  RBV  :   48 Tijd: 1235   VL-P   \n",
       "3       02/01/2006 16:40:00  Logboeknr  RBV  :   72 Tijd: 1640   VL-P   \n",
       "4       02/01/2006 22:30:00  Logboeknr  RBV  :   96 Tijd: 2230   VL-P   \n",
       "...                     ...                                       ...   \n",
       "898521                  NaN  GVC : sp-2 en 3  stop lampen op de stoot   \n",
       "898522                  NaN  Whz : Ovw 100.1 albert Plesmanweg blijft   \n",
       "898523                  NaN  Whz : Ovw 100.1 albert Plesmanweg blijft   \n",
       "898524                  NaN  Bdg-Apn : Km 12.7 twee gedode zwanen lan   \n",
       "898525                  NaN  Bdg-Apn : Km 12.7 twee gedode zwanen lan   \n",
       "\n",
       "       stm_mon_toelichting_trdl  ... stm_rapportage_maand stm_rapportage_jaar  \\\n",
       "0                           NaN  ...                    5                2014   \n",
       "1                           NaN  ...                    1                2006   \n",
       "2                           NaN  ...                    1                2006   \n",
       "3                           NaN  ...                    1                2006   \n",
       "4                           NaN  ...                    1                2006   \n",
       "...                         ...  ...                  ...                 ...   \n",
       "898521                      NaN  ...                    8                2013   \n",
       "898522                      NaN  ...                    5                2013   \n",
       "898523                      NaN  ...                    8                2013   \n",
       "898524                      NaN  ...                    8                2016   \n",
       "898525                      NaN  ...                   10                2016   \n",
       "\n",
       "         stm_x_bron_publ_dt  \\\n",
       "0       07/05/2014 05:30:12   \n",
       "1       02/01/2006 09:00:00   \n",
       "2       02/01/2006 12:35:00   \n",
       "3       02/01/2006 16:40:00   \n",
       "4       02/01/2006 22:30:00   \n",
       "...                     ...   \n",
       "898521  05/08/2013 01:00:16   \n",
       "898522  11/05/2013 09:21:00   \n",
       "898523  05/08/2013 01:00:16   \n",
       "898524  23/08/2016 06:00:19   \n",
       "898525  24/10/2016 06:00:11   \n",
       "\n",
       "                                  stm_x_bron_bestandsnaam  \\\n",
       "0       \\\\PUHAPS0149\\Informatica_Prod\\Inbox\\Informatic...   \n",
       "1       \\\\PUHAPS0149\\Informatica_Prod\\Inbox\\Informatic...   \n",
       "2       \\\\PUHAPS0149\\Informatica_Prod\\Inbox\\Informatic...   \n",
       "3       \\\\PUHAPS0149\\Informatica_Prod\\Inbox\\Informatic...   \n",
       "4       \\\\PUHAPS0149\\Informatica_Prod\\Inbox\\Informatic...   \n",
       "...                                                   ...   \n",
       "898521  \\\\PUHAPS0149\\Informatica_Prod\\Inbox\\Informatic...   \n",
       "898522  \\\\PUHAPS0149\\Informatica_Prod\\Inbox\\Informatic...   \n",
       "898523  \\\\PUHAPS0149\\Informatica_Prod\\Inbox\\Informatic...   \n",
       "898524  \\\\PUHAPS0149\\Informatica_Prod\\Inbox\\Informatic...   \n",
       "898525  \\\\PUHAPS0149\\Informatica_Prod\\Inbox\\Informatic...   \n",
       "\n",
       "         stm_x_bron_arch_dt stm_x_actueel_ind  stm_x_run_id  stm_x_bk  \\\n",
       "0       31/12/9999 00:00:00                 1         34415   3617016   \n",
       "1       31/12/9999 00:00:00                 1          1518  12704590   \n",
       "2       31/12/9999 00:00:00                 1          1518  12704591   \n",
       "3       31/12/9999 00:00:00                 1          1518  12704592   \n",
       "4       31/12/9999 00:00:00                 1          1518  12704593   \n",
       "...                     ...               ...           ...       ...   \n",
       "898521  31/12/9999 00:00:00                 1          3344  12759543   \n",
       "898522  05/08/2013 01:00:16                 0          1518  12759544   \n",
       "898523  31/12/9999 00:00:00                 1          3344  12759544   \n",
       "898524  24/10/2016 06:00:11                 0        450213   3710373   \n",
       "898525  31/12/9999 00:00:00                 1        490063   3710373   \n",
       "\n",
       "        stm_x_start_sessie_dt stm_x_vervallen_ind  \n",
       "0         07/05/2014 05:44:24                   0  \n",
       "1         13/06/2013 13:37:52                   0  \n",
       "2         13/06/2013 13:37:52                   0  \n",
       "3         13/06/2013 13:37:52                   0  \n",
       "4         13/06/2013 13:37:52                   0  \n",
       "...                       ...                 ...  \n",
       "898521    05/08/2013 01:30:37                   0  \n",
       "898522    13/06/2013 13:37:52                   0  \n",
       "898523    05/08/2013 01:30:37                   0  \n",
       "898524    01/09/2016 06:09:38                   0  \n",
       "898525    24/10/2016 06:11:40                   0  \n",
       "\n",
       "[898526 rows x 140 columns]"
      ]
     },
     "execution_count": 2,
     "metadata": {},
     "output_type": "execute_result"
    }
   ],
   "source": [
    "df = pd.read_csv(\"sap_storing_data_hu_project.csv\", low_memory=True)\n",
    "df"
   ]
  },
  {
   "cell_type": "markdown",
   "metadata": {},
   "source": [
    "Omdat de dataset redelijk groot is, kosten veel van de operaties die tijdens het verkennen van de data gebeuren, erg veel tijd. Volgens onze business-expert zou een willikeurige selectie van ongeveer 10% van de dataset alsnog representatief voor de hele dataset moeten zijn, dus voor het verkennen maken we dit meteen aan."
   ]
  },
  {
   "cell_type": "code",
   "execution_count": 3,
   "metadata": {
    "pycharm": {
     "name": "#%%\n"
    }
   },
   "outputs": [],
   "source": [
    "sample = df.sample(frac=0.1, random_state=1)"
   ]
  },
  {
   "cell_type": "markdown",
   "metadata": {},
   "source": [
    "Iets interessants om te onderzoeken is de relatie tussen de tijdstippen van functieherstel, storing eind, en tijdstip van melding. We maken voor de onderzoek doeleinden hier aparte variabelen van voor gemak, en kijken naar de datatypes."
   ]
  },
  {
   "cell_type": "code",
   "execution_count": 4,
   "metadata": {
    "pycharm": {
     "name": "#%%\n"
    }
   },
   "outputs": [],
   "source": [
    "fh_tijdstip = sample[\"stm_fh_ddt\"]\n",
    "stor_eind = sample[\"stm_sap_storeind_ddt\"]\n",
    "stm_sap_meld_ddt = sample[\"stm_sap_meld_ddt\"]"
   ]
  },
  {
   "cell_type": "code",
   "execution_count": 5,
   "metadata": {
    "pycharm": {
     "name": "#%%\n"
    }
   },
   "outputs": [
    {
     "name": "stdout",
     "output_type": "stream",
     "text": [
      "object\n",
      "object\n",
      "object\n"
     ]
    }
   ],
   "source": [
    "print(f\"\"\"{fh_tijdstip.dtype}\n",
    "{stor_eind.dtype}\n",
    "{stm_sap_meld_ddt.dtype}\"\"\")"
   ]
  },
  {
   "cell_type": "markdown",
   "metadata": {},
   "source": [
    "Al deze kolommen bestaan uit Strings. Deze moeten omgezet worden naar DateTime voor effectief rekenwerk. Hierna slaan we ze op in een apart DataFrame voor onderzoek. Uit dit dataframe verwijderen we alle rijen waar minimaal 1 NaN waarde instaat, omdat dit dataframe bedoelt is om de werking tussen de verschillende kolommen te vergelijken.\n",
    "\n",
    "Ook definieren we een TimeDelta object voor 2 minuten, omdat het exact vergelijken van tijdstippen voor onze doelen vaak niet nuttig is, en als dingen binnen 2 minuten van elkaar vallen, dit in veel gevallen meer informatie kan geven."
   ]
  },
  {
   "cell_type": "code",
   "execution_count": 6,
   "metadata": {
    "pycharm": {
     "name": "#%%\n"
    }
   },
   "outputs": [],
   "source": [
    "fh_tijdstip = pd.to_datetime(fh_tijdstip, errors=\"coerce\")\n",
    "stor_eind = pd.to_datetime(stor_eind, errors=\"coerce\")\n",
    "stm_sap_meld_ddt = pd.to_datetime(stm_sap_meld_ddt, errors=\"coerce\")\n",
    "\n",
    "twominutes = pd.to_timedelta(2, unit=\"m\")"
   ]
  },
  {
   "cell_type": "code",
   "execution_count": 7,
   "metadata": {
    "pycharm": {
     "name": "#%%\n"
    }
   },
   "outputs": [
    {
     "data": {
      "text/plain": [
       "(66036, 3)"
      ]
     },
     "execution_count": 7,
     "metadata": {},
     "output_type": "execute_result"
    }
   ],
   "source": [
    "#sample_de_1 = DataFrame DataExploration 1\n",
    "df_de_1 = pd.DataFrame({\"fh_ddt\": fh_tijdstip,\n",
    "                       \"se_ddt\": stor_eind,\n",
    "                       \"meld_ddt\": stm_sap_meld_ddt}).dropna()\n",
    "\n",
    "df_de_1.shape  # 1/3rd is dropped from nas"
   ]
  },
  {
   "cell_type": "markdown",
   "metadata": {},
   "source": [
    "Een eerste vraag om te onderzoek is naar het verschil tussen \"Storing eind\" en \"Functieherstel\". Uit ons business-onderzoek begrijpen we dat deze waarschijnlijk de volgende betekenissen hebben:\n",
    "\n",
    "Functieherstel: Het moment dat er theoretisch weer treinverkeer over het traject kan.\n",
    "Storing eind: Wanneer het probleem opgelost is, en de herstelwerkzaamheden voltooid zijn.\n",
    "\n",
    "Omdat het probleem vaak opgelost is, wanneer er weer treinen over het traject kunnen, zullen deze 2 momenten vaak tegelijk zijn. Dit kunnen we ook bevestigen:"
   ]
  },
  {
   "cell_type": "code",
   "execution_count": 8,
   "metadata": {
    "pycharm": {
     "name": "#%%\n"
    }
   },
   "outputs": [
    {
     "data": {
      "text/plain": [
       "'Storing Eind is in 45.60997031921982% van de gevallen binnen 2 minuten van Functie Herstel.'"
      ]
     },
     "execution_count": 8,
     "metadata": {},
     "output_type": "execute_result"
    }
   ],
   "source": [
    "def percentage(numerator: float, denominator: float) -> float:\n",
    "    \"\"\"Calculate a percentage from a fraction.\n",
    "\n",
    "    Args:\n",
    "        numerator: fraction numerator.\n",
    "        denominator: fraction denominator.\n",
    "\n",
    "    Returns:\n",
    "        Percentage between 0 and 100, as float.\"\"\"\n",
    "    return (numerator / denominator) * 100\n",
    "\n",
    "\n",
    "n_fh_is_se = (np.abs(df_de_1[\"fh_ddt\"] - df_de_1[\"se_ddt\"]) < twominutes).sum()\n",
    "f\"Storing Eind is in {percentage(n_fh_is_se, df_de_1.shape[0])}% van de gevallen binnen 2 minuten van Functie Herstel.\""
   ]
  },
  {
   "cell_type": "markdown",
   "metadata": {},
   "source": [
    "In veel andere gevallen zou men verwachten dat storing eind na functieherstel is, wanneer de aannemer het spoor weer operationeel krijgt, maar daarna wel nog werk moet afmaken."
   ]
  },
  {
   "cell_type": "code",
   "execution_count": 9,
   "metadata": {
    "pycharm": {
     "name": "#%%\n"
    }
   },
   "outputs": [
    {
     "data": {
      "text/plain": [
       "'Storing eind is in 47.62553758555939% van de gevallen meer dan 2 minuten na functieherstel.'"
      ]
     },
     "execution_count": 9,
     "metadata": {},
     "output_type": "execute_result"
    }
   ],
   "source": [
    "n_fh_voor_se = ((df_de_1[\"se_ddt\"] - twominutes) > df_de_1[\"fh_ddt\"]).sum()\n",
    "f\"Storing eind is in {percentage(n_fh_voor_se, df_de_1.shape[0])}% van de gevallen meer dan 2 minuten na functieherstel.\""
   ]
  },
  {
   "cell_type": "markdown",
   "metadata": {},
   "source": [
    "Dit correspondeerd met de verwachting van Business Understanding."
   ]
  },
  {
   "cell_type": "markdown",
   "metadata": {},
   "source": [
    "Eerder hebben wij op basis van businesskennis een belovend targetvariabele vastgesteld, namelijk het verschil in tijd tussen het arriveren van de aannemer, en functieherstel. Om dit daadwerkelijk te kunnen gebruiken moet de daadwerkelijke data die hieraan correspondeerd geïnspecteerd worden.\n",
    "\n",
    "In de data dictionairy staan specifiek een kolom voor datum en tijd (apart) benoemd voor het arriveren van de aannemer, namelijk \"stm_aanntpl_dd\" voor datum en \"stm_aanntpl_tijd\" voor tijd. In de dataset zit ook een kolom \"stm_aanntpl_ddt\", hoewel deze in de dictionairy als n.v.t. bestempeld is. Toch lijkt het nuttig het verschil tussen deze kolommen even te inspecteren, om te kijken welke van deze het beste is.\n",
    "\n",
    "Ten eerste is het handig een beeld te hebben hoeveel NaN waardes er in deze kolommen zitten."
   ]
  },
  {
   "cell_type": "code",
   "execution_count": 10,
   "metadata": {
    "pycharm": {
     "name": "#%%\n"
    }
   },
   "outputs": [
    {
     "data": {
      "text/plain": [
       "'De datumkolom bestaat voor 23.01759540582952% uit NaN waardes.'"
      ]
     },
     "execution_count": 10,
     "metadata": {},
     "output_type": "execute_result"
    }
   ],
   "source": [
    "n_nan_aanntpl_dd = sample[\"stm_aanntpl_dd\"].isna().sum()\n",
    "f\"De datumkolom bestaat voor {percentage(n_nan_aanntpl_dd, sample.shape[0])}% uit NaN waardes.\""
   ]
  },
  {
   "cell_type": "code",
   "execution_count": 11,
   "metadata": {
    "pycharm": {
     "name": "#%%\n"
    }
   },
   "outputs": [
    {
     "data": {
      "text/plain": [
       "'De tijdkolom bestaat voor 0.0022258577899458% uit NaN waardes.'"
      ]
     },
     "execution_count": 11,
     "metadata": {},
     "output_type": "execute_result"
    }
   ],
   "source": [
    "n_nan_aanntpl_tijd = sample[\"stm_aanntpl_tijd\"].isna().sum()\n",
    "f\"De tijdkolom bestaat voor {percentage(n_nan_aanntpl_tijd, sample.shape[0])}% uit NaN waardes.\""
   ]
  },
  {
   "cell_type": "code",
   "execution_count": 12,
   "metadata": {
    "pycharm": {
     "name": "#%%\n"
    }
   },
   "outputs": [
    {
     "data": {
      "text/plain": [
       "'De gecombineerde datum en tijdkolom bestaat voor 23.01759540582952% uit NaN waardes.'"
      ]
     },
     "execution_count": 12,
     "metadata": {},
     "output_type": "execute_result"
    }
   ],
   "source": [
    "n_nan_aanntpl_ddt = sample[\"stm_aanntpl_ddt\"].isna().sum()\n",
    "f\"De gecombineerde datum en tijdkolom bestaat voor {percentage(n_nan_aanntpl_dd, sample.shape[0])}% uit NaN waardes.\""
   ]
  },
  {
   "cell_type": "markdown",
   "metadata": {},
   "source": [
    "De hoeveelheid NaN waardes komt overeen tussen de dd en ddt kolommen. Om te bevestigen dat deze gelijk zijn kunnen we de datum en tijd kolommen combineren naar één, en ze allemaal als DateTime objecten in een apart DataFrame zetten."
   ]
  },
  {
   "cell_type": "code",
   "execution_count": 13,
   "metadata": {
    "pycharm": {
     "name": "#%%\n"
    }
   },
   "outputs": [],
   "source": [
    "ddt_format = sample[\"stm_aanntpl_dd\"] + \" \" + sample[\"stm_aanntpl_tijd\"]\n",
    "\n",
    "df_aan = pd.DataFrame({\"t\": pd.to_datetime(sample[\"stm_aanntpl_tijd\"], errors=\"coerce\"),\n",
    "                       \"d\": pd.to_datetime(sample[\"stm_aanntpl_dd\"], errors=\"coerce\"),\n",
    "                       \"dt\": pd.to_datetime(sample[\"stm_aanntpl_ddt\"], errors=\"coerce\"),\n",
    "                       \"dt_own\": pd.to_datetime(ddt_format, errors=\"coerce\")}).dropna()\n"
   ]
  },
  {
   "cell_type": "code",
   "execution_count": 14,
   "metadata": {
    "pycharm": {
     "name": "#%%\n"
    }
   },
   "outputs": [
    {
     "data": {
      "text/plain": [
       "'In 100.0% van de non-NaN gevallen is de ddt kolom gelijk aan aan de datum en tijd kolom.'"
      ]
     },
     "execution_count": 14,
     "metadata": {},
     "output_type": "execute_result"
    }
   ],
   "source": [
    "f\"In {percentage((df_aan['dt'] == df_aan['dt_own']).sum(), df_aan.shape[0])}% van de non-NaN gevallen is de ddt kolom gelijk aan aan de datum en tijd kolom.\""
   ]
  },
  {
   "cell_type": "markdown",
   "metadata": {},
   "source": [
    "Al met al kunnen we dus net zo goed de ddt_tabel in de originele dataset gebruiken als targetvariabele.\n",
    "\n",
    "Dan nog even kijken of er idd genoeg nuttige entries zijn voor functieherstel - arrival monteur"
   ]
  },
  {
   "cell_type": "code",
   "execution_count": 15,
   "metadata": {
    "pycharm": {
     "name": "#%%\n"
    }
   },
   "outputs": [
    {
     "data": {
      "text/plain": [
       "'De mogelijke target bestaat voor 15.889250548163483% uit NaN-waardes.'"
      ]
     },
     "execution_count": 15,
     "metadata": {},
     "output_type": "execute_result"
    }
   ],
   "source": [
    "possible_target = df_de_1[\"fh_ddt\"] - df_aan[\"dt\"]  # Tijdstip functieherstel - tijdstip aankomst aannemer.\n",
    "f\"De mogelijke target bestaat voor {percentage(possible_target.isna().sum(), possible_target.shape[0])}% uit NaN-waardes.\""
   ]
  },
  {
   "cell_type": "markdown",
   "metadata": {},
   "source": []
  },
  {
   "cell_type": "code",
   "execution_count": 16,
   "metadata": {
    "pycharm": {
     "name": "#%%\n"
    }
   },
   "outputs": [
    {
     "data": {
      "text/plain": [
       "'Wanneer deze NaN-waardes worden weggelaten hou je van de originele dataset uiteindelijk ongeveer 68.73448855352632% over die een targetvariabele hebben.'"
      ]
     },
     "execution_count": 16,
     "metadata": {},
     "output_type": "execute_result"
    }
   ],
   "source": [
    "possible_target.dropna(inplace=True)\n",
    "f\"Wanneer deze NaN-waardes worden weggelaten hou je van de originele dataset uiteindelijk ongeveer {percentage(possible_target.shape[0], sample.shape[0])}% over die een targetvariabele hebben.\""
   ]
  },
  {
   "cell_type": "markdown",
   "metadata": {},
   "source": [
    "Om een nuttig targetvariabele te creeëren, zouden we uiteindelijk alle TimeDelta objecten die we gecreeërd hebben omzetten naar de hoeveelheid seconden waaruit dit tijdsinterval bestaat. Hoewel rekenen in seconden het inzicht mogelijk moeilijker maakt, verhoogt dit wel de granulariteit van het targetvariabele, waardoor deze zich meer gedraagd als continue waarde, wat de performance van het model weer ten goede komt. Om inzicht te verbeteren in performance, definieren we voor het gemak wel even een functie die een seconden-series naar minuten omzet, zodat grafieken leesbaarder gemaakt kunnen worden."
   ]
  },
  {
   "cell_type": "code",
   "execution_count": 17,
   "metadata": {
    "pycharm": {
     "name": "#%%\n"
    }
   },
   "outputs": [],
   "source": [
    "class TimeUnit(enum.Enum):\n",
    "    \"\"\"Enum that represents a unit of measurement of time, to enable easy conversion from one unit to another.\n",
    "\n",
    "    Values for units of measurements are measured in seconds.\"\"\"\n",
    "    second = 1\n",
    "    minute = 60\n",
    "    hour = 60 * 60\n",
    "    day_night_cycle = 60 * 60 * 24\n",
    "\n",
    "\n",
    "def convert_timeunit(value: pd.Series or float or int,\n",
    "                     from_type: TimeUnit,\n",
    "                     to_type: TimeUnit) -> float:\n",
    "    \"\"\"Convert an amount of time as number, or a series of those, to another.\n",
    "\n",
    "    Not class attribute of TimeUnit class to allow for better typing.\n",
    "\n",
    "    Args:\n",
    "        value:\n",
    "            a number, or a series of numbers, that represent an amount of time in a certain unit of measurement as defined in\n",
    "            TimeUnit.\n",
    "        from_type: TimeUnit scale of measurement of time that input is in.\n",
    "        to_type: TimeUnit scale of measurement of time that output should be in.\n",
    "\n",
    "    Returns:\n",
    "        Time measurement(s) converted to new unit of measurement.\n",
    "        Scalar if input was scalar, array/series of input type if input was array/series.\"\"\"\n",
    "    coef = from_type.value / to_type.value\n",
    "    return value * coef"
   ]
  },
  {
   "cell_type": "markdown",
   "metadata": {},
   "source": [
    "We creeëren voor nu een apart variabele voor het targetvariabele als seconden. Deze bevat mogelijk een aantal 0-waarden, laten we deze eerst inspecteren."
   ]
  },
  {
   "cell_type": "code",
   "execution_count": 18,
   "metadata": {
    "pycharm": {
     "name": "#%%\n"
    }
   },
   "outputs": [
    {
     "data": {
      "text/plain": [
       "'Het targetvariabele bestaat voor 2.5922927461139897% uit 0 seconden.'"
      ]
     },
     "execution_count": 18,
     "metadata": {},
     "output_type": "execute_result"
    }
   ],
   "source": [
    "de_target_secs = possible_target.dt.total_seconds()\n",
    "f\"Het targetvariabele bestaat voor {percentage((de_target_secs == 0).sum(), de_target_secs.shape[0])}% uit 0 seconden.\""
   ]
  },
  {
   "cell_type": "markdown",
   "metadata": {},
   "source": [
    "Het is wellicht interessant een beeld te hebben van outliers van ons targetvariabele:"
   ]
  },
  {
   "cell_type": "code",
   "execution_count": 19,
   "metadata": {
    "pycharm": {
     "name": "#%%\n"
    }
   },
   "outputs": [
    {
     "data": {
      "text/plain": [
       "{'whiskers': [<matplotlib.lines.Line2D at 0x21fa3d89bb0>,\n",
       "  <matplotlib.lines.Line2D at 0x21fa3d89f10>],\n",
       " 'caps': [<matplotlib.lines.Line2D at 0x21fa402c2b0>,\n",
       "  <matplotlib.lines.Line2D at 0x21fa402c610>],\n",
       " 'boxes': [<matplotlib.lines.Line2D at 0x21fa3d89820>],\n",
       " 'medians': [<matplotlib.lines.Line2D at 0x21fa402c970>],\n",
       " 'fliers': [<matplotlib.lines.Line2D at 0x21fa402ccd0>],\n",
       " 'means': []}"
      ]
     },
     "execution_count": 19,
     "metadata": {},
     "output_type": "execute_result"
    },
    {
     "data": {
      "image/png": "[encoded data removed]",
      "text/plain": [
       "<Figure size 432x288 with 1 Axes>"
      ]
     },
     "metadata": {
      "needs_background": "light"
     },
     "output_type": "display_data"
    }
   ],
   "source": [
    "plt.boxplot(de_target_secs)"
   ]
  },
  {
   "cell_type": "markdown",
   "metadata": {},
   "source": [
    "Uit deze bijna-onleesbare boxplot blijkt dat vooral boven de bovengrens, er heel veel extreme outliers zijn. Aan de onderkant zijn er ook een aantal negatieve waarden. Als we er vanuit gaan dat dit niet door foutive data word veroorzaakt, betekend dit waarschijnlijk dat er al weer treinen kunnen rijden, voordat er uberhaupt een monteur aan te pas komt. Hier moet wat aan gedaan worden.\n",
    "\n",
    "Een standaardmethode om outliers te verwijderen, is de interkwartielafstand(<i>IQR</i>) berekenen, en alle waarnemingen 3IQR boven het 3e kwartiel, en 3IQR onder het eerste kwartiel te verwijderen. Het lijkt ons echter verstandiger in dit geval het verwijderen van outliers te baseren op business-kennis.\n",
    "\n",
    "Om een nuttig voorspellend model te maken, is het waarschijnlijk handig om een ondergrens in functiehersteltijd te stellen vanaf het moment dat de aannemer komt. Omdat wij inschatten dat bij storingen onder de 5 minuten de aannemer zelf ook kan inschatten dat het heel kort gaat duren, en een voorspelling hier waarschijnlijk niet nuttig is, laten we deze weg uit onze dataset.\n",
    "\n",
    "Onze business-expert heeft aangegeven alle hersteltijden boven de 6u niet interessant te vinden, dus deze waarnemingen laten we als NaN waarde in ons targetvariabele, en maken we een aparte binaire-categorie kolom voor, zodat dit eventueel in de toekomst nog gebruikt kan worden voor een apart model.\n",
    "\n",
    "Om de verdelingen voor het eerste model te kunnen onderzoeken, halen we bij de data-exploration set nu alles onder 5 minuten en boven 6 uur eruit.\n",
    "\n"
   ]
  },
  {
   "cell_type": "code",
   "execution_count": 20,
   "metadata": {
    "pycharm": {
     "name": "#%%\n"
    }
   },
   "outputs": [],
   "source": [
    "de_target_secs = de_target_secs.loc[(de_target_secs < convert_timeunit(6, TimeUnit.hour, TimeUnit.second)) & (de_target_secs > convert_timeunit(5, TimeUnit.minute, TimeUnit.second))]"
   ]
  },
  {
   "cell_type": "code",
   "execution_count": 21,
   "metadata": {
    "pycharm": {
     "name": "#%%\n"
    }
   },
   "outputs": [
    {
     "data": {
      "text/plain": [
       "<AxesSubplot:>"
      ]
     },
     "execution_count": 21,
     "metadata": {},
     "output_type": "execute_result"
    },
    {
     "data": {
      "image/png": "[encoded data removed]",
      "text/plain": [
       "<Figure size 432x288 with 1 Axes>"
      ]
     },
     "metadata": {
      "needs_background": "light"
     },
     "output_type": "display_data"
    }
   ],
   "source": [
    "(convert_timeunit(de_target_secs, TimeUnit.second, TimeUnit.hour)).hist(bins=50)"
   ]
  },
  {
   "cell_type": "markdown",
   "metadata": {},
   "source": [
    "Ons targetvariabele lijkt exponentieel verdeeld te zijn."
   ]
  },
  {
   "cell_type": "markdown",
   "metadata": {},
   "source": [
    "Hiernaast definiëren we wel een functie die outliers op de klassieke wijze verwijderd, voor gebruik later."
   ]
  },
  {
   "cell_type": "code",
   "execution_count": 22,
   "metadata": {
    "pycharm": {
     "name": "#%%\n"
    }
   },
   "outputs": [],
   "source": [
    "def remove_outliers(s: pd.Series, fence: float = 3) -> pd.Series:\n",
    "    \"\"\"Remove the outliers from a Pandas series by removing all values that lie below q1 or above q3 with\n",
    "    the product of the inter quartile distance and the 'fence'.\n",
    "\n",
    "    Args:\n",
    "        s: Series to remove outliers from.\n",
    "        fence: amount of IQRs value should lie above q3 or below q1 with to get designated an outlier.\n",
    "\n",
    "    Returns:\n",
    "        Series without outliers.\"\"\"\n",
    "    q1, q3 = s.quantile(.25), s.quantile(.75)\n",
    "    iqr = q3 - q1\n",
    "    fence_iqr_prod = fence * iqr\n",
    "    return s.loc[(s > q1 - fence_iqr_prod) & (s < q3 + fence_iqr_prod)]"
   ]
  },
  {
   "cell_type": "markdown",
   "metadata": {},
   "source": [
    "<h3>Data preperation.</h3>\n",
    "\n",
    "Nu we een idee hebben van een (hopelijk) bruikbaar target variabele, kunnen de benodigde operaties op de originele dataset uitgevoerd worden, om hieruit een volledig uitgewerkt targetvariabele voor later gebruik uit te creeëren.\n",
    "\n",
    "We beginnen door de 2 benodigde kolommen voor het target variabele naar DateTime objecten te veranderen in nieuwe kolommen."
   ]
  },
  {
   "cell_type": "code",
   "execution_count": 23,
   "metadata": {
    "pycharm": {
     "name": "#%%\n"
    }
   },
   "outputs": [],
   "source": [
    "df[\"stm_aanntpl_ddt_as_pddt\"] = pd.to_datetime(df[\"stm_aanntpl_ddt\"], errors=\"coerce\")\n",
    "df[\"stm_fh_ddt_as_pddt\"] = pd.to_datetime(df[\"stm_fh_ddt\"], errors=\"coerce\")"
   ]
  },
  {
   "cell_type": "markdown",
   "metadata": {},
   "source": [
    "Hierna maken we een aparte kolom in de dataframe van het tijdstip van functieherstel, min tijdstip van arriveren van de monteur."
   ]
  },
  {
   "cell_type": "code",
   "execution_count": 24,
   "metadata": {
    "pycharm": {
     "name": "#%%\n"
    }
   },
   "outputs": [],
   "source": [
    "df[\"fh_min_aanntpl\"] = df[\"stm_fh_ddt_as_pddt\"] - df[\"stm_aanntpl_ddt_as_pddt\"]"
   ]
  },
  {
   "cell_type": "markdown",
   "metadata": {},
   "source": [
    "We slaan van deze nieuwe kolom het verschil op als seconden in een apart variabele."
   ]
  },
  {
   "cell_type": "code",
   "execution_count": 25,
   "metadata": {
    "pycharm": {
     "name": "#%%\n"
    }
   },
   "outputs": [],
   "source": [
    "target = df[\"fh_min_aanntpl\"].dt.total_seconds()"
   ]
  },
  {
   "cell_type": "markdown",
   "metadata": {},
   "source": [
    "We laten hieruit alles boven de 6 uur, en alles onder de 5 minuten weg, en slaan dit op in een nieuwe variabele."
   ]
  },
  {
   "cell_type": "code",
   "execution_count": 26,
   "metadata": {
    "pycharm": {
     "name": "#%%\n"
    }
   },
   "outputs": [
    {
     "data": {
      "text/plain": [
       "32099    2400.0\n",
       "60682     900.0\n",
       "60683     900.0\n",
       "84560     319.0\n",
       "84561     319.0\n",
       "Name: fh_min_aanntpl, dtype: float64"
      ]
     },
     "execution_count": 26,
     "metadata": {},
     "output_type": "execute_result"
    }
   ],
   "source": [
    "boven_5_min = target > convert_timeunit(5, TimeUnit.minute, TimeUnit.second)\n",
    "onder_6_uur = target < convert_timeunit(6, TimeUnit.hour, TimeUnit.second)\n",
    "\n",
    "target = target.loc[boven_5_min & onder_6_uur]  # Gemeten in seconden.\n",
    "\n",
    "target.head(5)"
   ]
  },
  {
   "cell_type": "markdown",
   "metadata": {},
   "source": [
    "<h3>Modelling</h3>\n",
    "\n",
    "Met een volledig voorbereid targetvariabele, kan er een 'BaseLine' model gemaakt worden, om een RMSE score vast te stellen die overtrefd kan worden. De meest logische strategie hiervoor is het gemiddelde gokken van alle bekende waardes. Hiervoor gebruiken we van SciKitLearn de DummyRegressor, met de 'mean' strategie."
   ]
  },
  {
   "cell_type": "code",
   "execution_count": 27,
   "metadata": {
    "pycharm": {
     "name": "#%%\n"
    }
   },
   "outputs": [
    {
     "data": {
      "text/plain": [
       "DummyRegressor()"
      ]
     },
     "execution_count": 27,
     "metadata": {},
     "output_type": "execute_result"
    }
   ],
   "source": [
    "baseline = dummy.DummyRegressor(strategy=\"mean\")\n",
    "baseline_X = np.arange(target.shape[0])  # Dummy feature variabelen voor BaseLine.\n",
    "baseline.fit(np.arange(target.shape[0]), target)"
   ]
  },
  {
   "cell_type": "markdown",
   "metadata": {},
   "source": [
    "Van dit baseline model kunnen we vervolgens de RMSE score in seconden bepalen."
   ]
  },
  {
   "cell_type": "code",
   "execution_count": 28,
   "metadata": {
    "pycharm": {
     "name": "#%%\n"
    }
   },
   "outputs": [
    {
     "data": {
      "text/plain": [
       "3904.8925801884657"
      ]
     },
     "execution_count": 28,
     "metadata": {},
     "output_type": "execute_result"
    }
   ],
   "source": [
    "baseline_rmse = metrics.mean_squared_error(target, baseline.predict(baseline_X), squared=False)\n",
    "baseline_rmse"
   ]
  },
  {
   "cell_type": "markdown",
   "metadata": {},
   "source": [
    "Voor inzicht is het ook wel interessant deze score even in minuten te bekijken, omdat dit toch meer inzicht geeft in de business-context."
   ]
  },
  {
   "cell_type": "code",
   "execution_count": 29,
   "metadata": {
    "pycharm": {
     "name": "#%%\n"
    }
   },
   "outputs": [
    {
     "data": {
      "text/plain": [
       "65.08154300314109"
      ]
     },
     "execution_count": 29,
     "metadata": {},
     "output_type": "execute_result"
    }
   ],
   "source": [
    "convert_timeunit(baseline_rmse, TimeUnit.second, TimeUnit.minute)"
   ]
  },
  {
   "cell_type": "markdown",
   "metadata": {},
   "source": [
    "Dit model slaan we op in een DataFrame, waar later ook andere modellen in opgeslagen kunnen worden, zodat deze overzichtelijk bekeken kunnen worden."
   ]
  },
  {
   "cell_type": "code",
   "execution_count": 30,
   "metadata": {
    "pycharm": {
     "name": "#%%\n"
    }
   },
   "outputs": [
    {
     "data": {
      "text/html": [
       "<div>\n",
       "<style scoped>\n",
       "    .dataframe tbody tr th:only-of-type {\n",
       "        vertical-align: middle;\n",
       "    }\n",
       "\n",
       "    .dataframe tbody tr th {\n",
       "        vertical-align: top;\n",
       "    }\n",
       "\n",
       "    .dataframe thead th {\n",
       "        text-align: right;\n",
       "    }\n",
       "</style>\n",
       "<table border=\"1\" class=\"dataframe\">\n",
       "  <thead>\n",
       "    <tr style=\"text-align: right;\">\n",
       "      <th></th>\n",
       "      <th>Title</th>\n",
       "      <th>Model</th>\n",
       "      <th>RMSE</th>\n",
       "    </tr>\n",
       "  </thead>\n",
       "  <tbody>\n",
       "    <tr>\n",
       "      <th>0</th>\n",
       "      <td>BaseLine model with mean strategy</td>\n",
       "      <td>DummyRegressor()</td>\n",
       "      <td>3904.89258</td>\n",
       "    </tr>\n",
       "  </tbody>\n",
       "</table>\n",
       "</div>"
      ],
      "text/plain": [
       "                               Title             Model        RMSE\n",
       "0  BaseLine model with mean strategy  DummyRegressor()  3904.89258"
      ]
     },
     "execution_count": 30,
     "metadata": {},
     "output_type": "execute_result"
    }
   ],
   "source": [
    "models = pd.DataFrame({\"Title\": [\"BaseLine model with mean strategy\"],\n",
    "                       \"Model\": [baseline],\n",
    "                       \"RMSE\": [baseline_rmse]})\n",
    "\n",
    "models"
   ]
  },
  {
   "cell_type": "markdown",
   "metadata": {},
   "source": [
    "<h2>Feature variabelen: model 1</h2>\n",
    "\n",
    "<h2>Business understanding</h2>\n",
    "\n",
    "Uit onze interviews met ProRail blijken dat een aantal variabelen die waarschijnlijk in de Dataset te vinden zijn, van significante invloed zijn op ons targetvariabele. Dit zijn:\n",
    "\n",
    "<ul>\n",
    "<li>Type storing</li>\n",
    "<li>Tijdstip op de dag</li>\n",
    "<li>Dag in het jaar</li>\n",
    "<li>Inschatting treinverkeersleider</li>\n",
    "<li>Inschatting aannemer</li>\n",
    "<li>Monitoringscode</li>\n",
    "<li>Gebied</li>\n",
    "</ul>\n",
    "\n",
    "Met als doel deze variabelen uiteindelijk in een model te gebruiken. We zullen van het CRISP-DM process per variabele de Data-Understanding en Data-Preperation stappen behandelen, met waar relevant Business-Understanding.\n",
    "Per featurevariabele:"
   ]
  },
  {
   "cell_type": "markdown",
   "metadata": {},
   "source": [
    "<h3>Monitorings informatie</h3>\n",
    "\n",
    "Zoals eerder in het document is genoemd is, zou informatie vanuit de monitoring nuttig kunnen zijn voor een voorspellend model.\n",
    "\n",
    "Hier gaan we dit onderzoeken.\n",
    "\n",
    "Vanuit business understanding weten we dat alleen de monitorings code relevant is, dus we gaan hier onderzoeken welke kolommen dat zijn.\n"
   ]
  },
  {
   "cell_type": "markdown",
   "metadata": {},
   "source": [
    "In de data dictionairy hebben 2 kolommen gevonden die mogelijk relevant zijn, namelijk: 'stm_scenario_mon' & 'stm_mon_nr__statuscode'.\n",
    "\n",
    "We zullen nu kijken hoeveel NA's deze kolommen bevatten."
   ]
  },
  {
   "cell_type": "code",
   "execution_count": 31,
   "metadata": {},
   "outputs": [
    {
     "data": {
      "text/plain": [
       "stm_mon_nr__statuscode    571685\n",
       "stm_scenario_mon          862111\n",
       "dtype: int64"
      ]
     },
     "execution_count": 31,
     "metadata": {},
     "output_type": "execute_result"
    }
   ],
   "source": [
    "df[['stm_mon_nr__statuscode', 'stm_scenario_mon']].isna().sum()"
   ]
  },
  {
   "cell_type": "markdown",
   "metadata": {},
   "source": [
    "Aantal NA's per kolom:\n",
    "\n",
    "<ul>\n",
    "<li>stm_mon_nr__statuscode   = 571685</li>\n",
    "<li>stm_scenario_mon         = 862111</li>\n",
    "</ul>\n",
    "\n",
    "Hier uit kunnen we concluderen dat de kolom 'stm_scenario_mon' niet bruikbaar is. Deze kolom bevat simpelweg te veel NA's om mee te werken.\n",
    "\n",
    "We zullen nog wel verder onderzoek doen op de kolom 'stm_mon_nr__statuscode'.\n",
    "\n",
    "We zullen nu kijken naar het aantal unieke waarde in de kolom."
   ]
  },
  {
   "cell_type": "code",
   "execution_count": 32,
   "metadata": {},
   "outputs": [
    {
     "data": {
      "text/plain": [
       "9"
      ]
     },
     "execution_count": 32,
     "metadata": {},
     "output_type": "execute_result"
    }
   ],
   "source": [
    "df['stm_mon_nr__statuscode'].nunique()"
   ]
  },
  {
   "cell_type": "markdown",
   "metadata": {},
   "source": [
    "Nu weten we dat de kolom 9 unieke waardes bevat.  (10 als je NAN zou includen)\n",
    "\n",
    "Dit is een fijn aantal om mee te werken."
   ]
  },
  {
   "cell_type": "markdown",
   "metadata": {},
   "source": [
    "Nu zullen we een boxplot maken waarin de verschillende monitoring statuscodes worden geplot tegenover het target variabele.\n",
    "\n",
    "Dit zal ons inzicht geven in het invloed per category van monitoring statuscode."
   ]
  },
  {
   "cell_type": "code",
   "execution_count": 33,
   "metadata": {},
   "outputs": [
    {
     "name": "stderr",
     "output_type": "stream",
     "text": [
      "C:\\ProgramData\\Anaconda3\\lib\\site-packages\\pandas\\io\\formats\\format.py:1405: FutureWarning: Index.ravel returning ndarray is deprecated; in a future version this will return a view on self.\n",
      "  for val, m in zip(values.ravel(), mask.ravel())\n",
      "C:\\ProgramData\\Anaconda3\\lib\\site-packages\\pandas\\io\\formats\\format.py:1405: FutureWarning: Index.ravel returning ndarray is deprecated; in a future version this will return a view on self.\n",
      "  for val, m in zip(values.ravel(), mask.ravel())\n"
     ]
    },
    {
     "data": {
      "text/plain": [
       "<AxesSubplot:xlabel='stm_mon_nr__statuscode', ylabel='target'>"
      ]
     },
     "execution_count": 33,
     "metadata": {},
     "output_type": "execute_result"
    },
    {
     "data": {
      "image/png": "[encoded data removed]",
      "text/plain": [
       "<Figure size 432x288 with 1 Axes>"
      ]
     },
     "metadata": {
      "needs_background": "light"
     },
     "output_type": "display_data"
    }
   ],
   "source": [
    "mon_code_col = np.array([\"stm_mon_nr__statuscode\"])\n",
    "mon_code = sample[mon_code_col].astype(\"category\")\n",
    "mon_code[\"target\"] = target\n",
    "\n",
    "sns.boxplot(x=mon_code[\"stm_mon_nr__statuscode\"], y=mon_code[\"target\"])"
   ]
  },
  {
   "cell_type": "markdown",
   "metadata": {},
   "source": [
    "In deze boxplot is te zien dat de mediaan van alle categorieen relatief dichtbij elkaar zitten. Van de hoogste tot laagste mediaan is het verschil maximaal rond de 1000 seconden.\n",
    "\n",
    "Voor nu concluderen wij dat deze data niet genoeg invloed zal hebben op onze target. Mogelijk komen we hier later nog op terug als ons model meer data vereist."
   ]
  },
  {
   "cell_type": "markdown",
   "metadata": {},
   "source": [
    "<h3>Tijdst op de dag, en dag in het jaar.</h3>\n",
    "\n",
    "Hier gaan we de data uit kolom 'stm_sap_meld_ddt' bruikbaar maken voor toekomstige modellen.\n",
    "Dit doen we door de datetime om te zetten naar zowel: aantal secondes vanaf middernacht & dag in het jaar\n",
    "\n",
    "Als eerst converten we stm_sap_meld_ddt naar een pandas datetime datatype. Deze kolom krijgt de naam: 'stm_sap_meld_ddt_as_pddt'.\n",
    "Op deze manier hebben we de originele data, en de omgezette data beschikbaar."
   ]
  },
  {
   "cell_type": "code",
   "execution_count": 34,
   "metadata": {
    "pycharm": {
     "name": "#%%\n"
    }
   },
   "outputs": [],
   "source": [
    "df['stm_sap_meld_ddt_as_pddt'] = pd.to_datetime(df[\"stm_sap_meld_ddt\"], errors=\"coerce\")"
   ]
  },
  {
   "cell_type": "markdown",
   "metadata": {},
   "source": [
    "Nu we een kolom hebben die in het pandas datetime datatype staat, kunnen we er gemakkelijk mee werken.\n",
    "\n",
    "We gaan hier 2 kolomen aan df toevoegen, namelijk:\n",
    "- stm_sap_meld_sec_mn:  Hierin staat het aantal secondes vanaf  00:00  tot het moment van de melding\n",
    "- stm_sap_meld_day_count:  Hierin staat de hoeveelste dag in dat jaar het is, op het moment van de melding"
   ]
  },
  {
   "cell_type": "code",
   "execution_count": 35,
   "metadata": {
    "pycharm": {
     "name": "#%%\n"
    }
   },
   "outputs": [],
   "source": [
    "df['stm_sap_meld_sec_mn'] = (df['stm_sap_meld_ddt_as_pddt'] - df['stm_sap_meld_ddt_as_pddt'].dt.normalize()) / pd.Timedelta(seconds=1)\n",
    "df['stm_sap_meld_day_count'] = df[\"stm_sap_meld_ddt_as_pddt\"].dt.day_of_year"
   ]
  },
  {
   "cell_type": "markdown",
   "metadata": {},
   "source": [
    "Deze kunnen samen met het targetvariabele gecombineerd worden in één DataFrame voor gebruik in model 1."
   ]
  },
  {
   "cell_type": "code",
   "execution_count": 36,
   "metadata": {
    "pycharm": {
     "name": "#%%\n"
    }
   },
   "outputs": [],
   "source": [
    "m1_df = pd.DataFrame({\"Target\": target,\n",
    "                      \"Tijdstip\": df[\"stm_sap_meld_sec_mn\"],\n",
    "                      \"Dag\": df[\"stm_sap_meld_day_count\"]})"
   ]
  },
  {
   "cell_type": "markdown",
   "metadata": {},
   "source": [
    "<h2>Type storing</h2>\n",
    "\n",
    "<h3>Data exploration</h3>\n",
    "\n",
    "Uit ons business-onderzoek verwachten we dat het type storing waar een verlies van functie door veroorzaakt word is is van grote invloed op de tijd die het kost om functieherstel te bereiken. Attributen uit de dataset die hier wellicht invloed op kunnen hebben zijn:\n",
    "<ol>\n",
    "<li>stm_oorz_code: de oorzaak-code</li>\n",
    "<li>stm_oorz_groep: de oorzaak-groep</li>\n",
    "<li>stm_techn_mld: het techniekveld van de melding</li>\n",
    "</ol>\n",
    "\n",
    "We zullen deze kolommen onderzoeken, tot we er een vinden die relevant lijkt te zijn.\n",
    "\n",
    "We maken van deze 3 kolommen uit de 10% subset van de dataset, en de target."
   ]
  },
  {
   "cell_type": "code",
   "execution_count": 37,
   "metadata": {
    "pycharm": {
     "name": "#%%\n"
    }
   },
   "outputs": [
    {
     "data": {
      "text/html": [
       "<div>\n",
       "<style scoped>\n",
       "    .dataframe tbody tr th:only-of-type {\n",
       "        vertical-align: middle;\n",
       "    }\n",
       "\n",
       "    .dataframe tbody tr th {\n",
       "        vertical-align: top;\n",
       "    }\n",
       "\n",
       "    .dataframe thead th {\n",
       "        text-align: right;\n",
       "    }\n",
       "</style>\n",
       "<table border=\"1\" class=\"dataframe\">\n",
       "  <thead>\n",
       "    <tr style=\"text-align: right;\">\n",
       "      <th></th>\n",
       "      <th>stm_oorz_code</th>\n",
       "      <th>stm_oorz_groep</th>\n",
       "      <th>stm_techn_mld</th>\n",
       "      <th>target</th>\n",
       "    </tr>\n",
       "  </thead>\n",
       "  <tbody>\n",
       "    <tr>\n",
       "      <th>850794</th>\n",
       "      <td>221.0</td>\n",
       "      <td>TECHONV</td>\n",
       "      <td>K</td>\n",
       "      <td>8400.0</td>\n",
       "    </tr>\n",
       "    <tr>\n",
       "      <th>460790</th>\n",
       "      <td>151.0</td>\n",
       "      <td>ONR-DERD</td>\n",
       "      <td>P</td>\n",
       "      <td>10080.0</td>\n",
       "    </tr>\n",
       "    <tr>\n",
       "      <th>408947</th>\n",
       "      <td>221.0</td>\n",
       "      <td>TECHONV</td>\n",
       "      <td>S</td>\n",
       "      <td>1920.0</td>\n",
       "    </tr>\n",
       "    <tr>\n",
       "      <th>669975</th>\n",
       "      <td>221.0</td>\n",
       "      <td>TECHONV</td>\n",
       "      <td>NaN</td>\n",
       "      <td>3600.0</td>\n",
       "    </tr>\n",
       "    <tr>\n",
       "      <th>636585</th>\n",
       "      <td>221.0</td>\n",
       "      <td>TECHONV</td>\n",
       "      <td>T</td>\n",
       "      <td>1680.0</td>\n",
       "    </tr>\n",
       "  </tbody>\n",
       "</table>\n",
       "</div>"
      ],
      "text/plain": [
       "       stm_oorz_code stm_oorz_groep stm_techn_mld   target\n",
       "850794         221.0        TECHONV             K   8400.0\n",
       "460790         151.0       ONR-DERD             P  10080.0\n",
       "408947         221.0        TECHONV             S   1920.0\n",
       "669975         221.0        TECHONV           NaN   3600.0\n",
       "636585         221.0        TECHONV             T   1680.0"
      ]
     },
     "execution_count": 37,
     "metadata": {},
     "output_type": "execute_result"
    }
   ],
   "source": [
    "de_type_cols = np.array([\"stm_oorz_code\", \"stm_oorz_groep\", \"stm_techn_mld\"])\n",
    "\n",
    "de_type = sample[de_type_cols].astype(\"category\")\n",
    "de_type[\"target\"] = target\n",
    "de_type.head(5)"
   ]
  },
  {
   "cell_type": "markdown",
   "metadata": {},
   "source": [
    "Het is handig te weten hoeveel permutaties elk variabele heeft."
   ]
  },
  {
   "cell_type": "code",
   "execution_count": 38,
   "metadata": {
    "pycharm": {
     "name": "#%%\n"
    }
   },
   "outputs": [
    {
     "data": {
      "text/plain": [
       "stm_oorz_code     72\n",
       "stm_oorz_groep     4\n",
       "stm_techn_mld     13\n",
       "dtype: int64"
      ]
     },
     "execution_count": 38,
     "metadata": {},
     "output_type": "execute_result"
    }
   ],
   "source": [
    "de_type[de_type_cols].nunique()"
   ]
  },
  {
   "cell_type": "markdown",
   "metadata": {
    "pycharm": {
     "name": "#%% md\n"
    }
   },
   "source": [
    "Om de curse of dimensionality te voorkomen is het handig zo weinig mogelijk dimensies te introduceren met het encoderen van deze categoriale variabelen. Daarom kan het handig zijn bij zo een kolom te blijven die zo weinig mogelijk permutaties heeft. We zullen deze attributen van weinig naar veel onderzoeken.\n",
    "\n",
    "We beginnen dus bij stm_oorz_groep. Het is interessant om te weten hoe de verschillen in verdeling van het targetvariabele zijn per kolom. Hiervoor kunnen we boxplots maken per category."
   ]
  },
  {
   "cell_type": "code",
   "execution_count": 39,
   "metadata": {
    "pycharm": {
     "name": "#%%\n"
    }
   },
   "outputs": [
    {
     "data": {
      "text/plain": [
       "<AxesSubplot:xlabel='stm_oorz_groep', ylabel='target'>"
      ]
     },
     "execution_count": 39,
     "metadata": {},
     "output_type": "execute_result"
    },
    {
     "data": {
      "image/png": "[encoded data removed]",
      "text/plain": [
       "<Figure size 432x288 with 1 Axes>"
      ]
     },
     "metadata": {
      "needs_background": "light"
     },
     "output_type": "display_data"
    }
   ],
   "source": [
    "sns.boxplot(x=de_type[\"stm_oorz_groep\"], y=de_type[\"target\"])"
   ]
  },
  {
   "cell_type": "markdown",
   "metadata": {},
   "source": [
    "De oorzaak groep lijkt niet veel te zeggen over het targetvariabele."
   ]
  },
  {
   "cell_type": "code",
   "execution_count": 40,
   "metadata": {
    "pycharm": {
     "name": "#%%\n"
    }
   },
   "outputs": [
    {
     "data": {
      "text/plain": [
       "<AxesSubplot:xlabel='stm_techn_mld', ylabel='target'>"
      ]
     },
     "execution_count": 40,
     "metadata": {},
     "output_type": "execute_result"
    },
    {
     "data": {
      "image/png": "[encoded data removed]",
      "text/plain": [
       "<Figure size 432x288 with 1 Axes>"
      ]
     },
     "metadata": {
      "needs_background": "light"
     },
     "output_type": "display_data"
    }
   ],
   "source": [
    "sns.boxplot(x=de_type[\"stm_techn_mld\"], y=de_type[\"target\"])"
   ]
  },
  {
   "cell_type": "markdown",
   "metadata": {},
   "source": [
    "Hier lijken we al meer mee te kunnen. We dummyencoden deze en voegen hem toe aan het dataframe voor model één."
   ]
  },
  {
   "cell_type": "code",
   "execution_count": 41,
   "metadata": {
    "pycharm": {
     "name": "#%%\n"
    }
   },
   "outputs": [
    {
     "data": {
      "text/html": [
       "<div>\n",
       "<style scoped>\n",
       "    .dataframe tbody tr th:only-of-type {\n",
       "        vertical-align: middle;\n",
       "    }\n",
       "\n",
       "    .dataframe tbody tr th {\n",
       "        vertical-align: top;\n",
       "    }\n",
       "\n",
       "    .dataframe thead th {\n",
       "        text-align: right;\n",
       "    }\n",
       "</style>\n",
       "<table border=\"1\" class=\"dataframe\">\n",
       "  <thead>\n",
       "    <tr style=\"text-align: right;\">\n",
       "      <th></th>\n",
       "      <th>Techniekveld_A</th>\n",
       "      <th>Techniekveld_B</th>\n",
       "      <th>Techniekveld_E</th>\n",
       "      <th>Techniekveld_G</th>\n",
       "      <th>Techniekveld_H</th>\n",
       "      <th>Techniekveld_I</th>\n",
       "      <th>Techniekveld_K</th>\n",
       "      <th>Techniekveld_M</th>\n",
       "      <th>Techniekveld_O</th>\n",
       "      <th>Techniekveld_P</th>\n",
       "      <th>Techniekveld_S</th>\n",
       "      <th>Techniekveld_T</th>\n",
       "      <th>Techniekveld_X</th>\n",
       "    </tr>\n",
       "  </thead>\n",
       "  <tbody>\n",
       "    <tr>\n",
       "      <th>0</th>\n",
       "      <td>0</td>\n",
       "      <td>0</td>\n",
       "      <td>0</td>\n",
       "      <td>0</td>\n",
       "      <td>0</td>\n",
       "      <td>0</td>\n",
       "      <td>0</td>\n",
       "      <td>0</td>\n",
       "      <td>0</td>\n",
       "      <td>0</td>\n",
       "      <td>0</td>\n",
       "      <td>0</td>\n",
       "      <td>0</td>\n",
       "    </tr>\n",
       "    <tr>\n",
       "      <th>1</th>\n",
       "      <td>0</td>\n",
       "      <td>0</td>\n",
       "      <td>0</td>\n",
       "      <td>0</td>\n",
       "      <td>0</td>\n",
       "      <td>0</td>\n",
       "      <td>0</td>\n",
       "      <td>0</td>\n",
       "      <td>0</td>\n",
       "      <td>0</td>\n",
       "      <td>0</td>\n",
       "      <td>0</td>\n",
       "      <td>0</td>\n",
       "    </tr>\n",
       "    <tr>\n",
       "      <th>2</th>\n",
       "      <td>0</td>\n",
       "      <td>0</td>\n",
       "      <td>0</td>\n",
       "      <td>0</td>\n",
       "      <td>0</td>\n",
       "      <td>0</td>\n",
       "      <td>0</td>\n",
       "      <td>0</td>\n",
       "      <td>0</td>\n",
       "      <td>0</td>\n",
       "      <td>0</td>\n",
       "      <td>0</td>\n",
       "      <td>0</td>\n",
       "    </tr>\n",
       "    <tr>\n",
       "      <th>3</th>\n",
       "      <td>0</td>\n",
       "      <td>0</td>\n",
       "      <td>0</td>\n",
       "      <td>0</td>\n",
       "      <td>0</td>\n",
       "      <td>0</td>\n",
       "      <td>0</td>\n",
       "      <td>0</td>\n",
       "      <td>0</td>\n",
       "      <td>0</td>\n",
       "      <td>0</td>\n",
       "      <td>0</td>\n",
       "      <td>0</td>\n",
       "    </tr>\n",
       "    <tr>\n",
       "      <th>4</th>\n",
       "      <td>0</td>\n",
       "      <td>0</td>\n",
       "      <td>0</td>\n",
       "      <td>0</td>\n",
       "      <td>0</td>\n",
       "      <td>0</td>\n",
       "      <td>0</td>\n",
       "      <td>0</td>\n",
       "      <td>0</td>\n",
       "      <td>0</td>\n",
       "      <td>0</td>\n",
       "      <td>0</td>\n",
       "      <td>0</td>\n",
       "    </tr>\n",
       "  </tbody>\n",
       "</table>\n",
       "</div>"
      ],
      "text/plain": [
       "   Techniekveld_A  Techniekveld_B  Techniekveld_E  Techniekveld_G  \\\n",
       "0               0               0               0               0   \n",
       "1               0               0               0               0   \n",
       "2               0               0               0               0   \n",
       "3               0               0               0               0   \n",
       "4               0               0               0               0   \n",
       "\n",
       "   Techniekveld_H  Techniekveld_I  Techniekveld_K  Techniekveld_M  \\\n",
       "0               0               0               0               0   \n",
       "1               0               0               0               0   \n",
       "2               0               0               0               0   \n",
       "3               0               0               0               0   \n",
       "4               0               0               0               0   \n",
       "\n",
       "   Techniekveld_O  Techniekveld_P  Techniekveld_S  Techniekveld_T  \\\n",
       "0               0               0               0               0   \n",
       "1               0               0               0               0   \n",
       "2               0               0               0               0   \n",
       "3               0               0               0               0   \n",
       "4               0               0               0               0   \n",
       "\n",
       "   Techniekveld_X  \n",
       "0               0  \n",
       "1               0  \n",
       "2               0  \n",
       "3               0  \n",
       "4               0  "
      ]
     },
     "execution_count": 41,
     "metadata": {},
     "output_type": "execute_result"
    }
   ],
   "source": [
    "type_encoded = pd.get_dummies(df[\"stm_techn_mld\"], prefix=\"Techniekveld\")\n",
    "type_encoded.head(1)\n",
    "\n",
    "type_encoded.head()"
   ]
  },
  {
   "cell_type": "code",
   "execution_count": 42,
   "metadata": {
    "pycharm": {
     "name": "#%%\n"
    }
   },
   "outputs": [
    {
     "data": {
      "text/html": [
       "<div>\n",
       "<style scoped>\n",
       "    .dataframe tbody tr th:only-of-type {\n",
       "        vertical-align: middle;\n",
       "    }\n",
       "\n",
       "    .dataframe tbody tr th {\n",
       "        vertical-align: top;\n",
       "    }\n",
       "\n",
       "    .dataframe thead th {\n",
       "        text-align: right;\n",
       "    }\n",
       "</style>\n",
       "<table border=\"1\" class=\"dataframe\">\n",
       "  <thead>\n",
       "    <tr style=\"text-align: right;\">\n",
       "      <th></th>\n",
       "      <th>Target</th>\n",
       "      <th>Tijdstip</th>\n",
       "      <th>Dag</th>\n",
       "      <th>Techniekveld_A</th>\n",
       "      <th>Techniekveld_B</th>\n",
       "      <th>Techniekveld_E</th>\n",
       "      <th>Techniekveld_G</th>\n",
       "      <th>Techniekveld_H</th>\n",
       "      <th>Techniekveld_I</th>\n",
       "      <th>Techniekveld_K</th>\n",
       "      <th>Techniekveld_M</th>\n",
       "      <th>Techniekveld_O</th>\n",
       "      <th>Techniekveld_P</th>\n",
       "      <th>Techniekveld_S</th>\n",
       "      <th>Techniekveld_T</th>\n",
       "      <th>Techniekveld_X</th>\n",
       "    </tr>\n",
       "  </thead>\n",
       "  <tbody>\n",
       "    <tr>\n",
       "      <th>0</th>\n",
       "      <td>NaN</td>\n",
       "      <td>NaN</td>\n",
       "      <td>NaN</td>\n",
       "      <td>0</td>\n",
       "      <td>0</td>\n",
       "      <td>0</td>\n",
       "      <td>0</td>\n",
       "      <td>0</td>\n",
       "      <td>0</td>\n",
       "      <td>0</td>\n",
       "      <td>0</td>\n",
       "      <td>0</td>\n",
       "      <td>0</td>\n",
       "      <td>0</td>\n",
       "      <td>0</td>\n",
       "      <td>0</td>\n",
       "    </tr>\n",
       "    <tr>\n",
       "      <th>1</th>\n",
       "      <td>NaN</td>\n",
       "      <td>32400.0</td>\n",
       "      <td>32.0</td>\n",
       "      <td>0</td>\n",
       "      <td>0</td>\n",
       "      <td>0</td>\n",
       "      <td>0</td>\n",
       "      <td>0</td>\n",
       "      <td>0</td>\n",
       "      <td>0</td>\n",
       "      <td>0</td>\n",
       "      <td>0</td>\n",
       "      <td>0</td>\n",
       "      <td>0</td>\n",
       "      <td>0</td>\n",
       "      <td>0</td>\n",
       "    </tr>\n",
       "    <tr>\n",
       "      <th>2</th>\n",
       "      <td>NaN</td>\n",
       "      <td>45300.0</td>\n",
       "      <td>32.0</td>\n",
       "      <td>0</td>\n",
       "      <td>0</td>\n",
       "      <td>0</td>\n",
       "      <td>0</td>\n",
       "      <td>0</td>\n",
       "      <td>0</td>\n",
       "      <td>0</td>\n",
       "      <td>0</td>\n",
       "      <td>0</td>\n",
       "      <td>0</td>\n",
       "      <td>0</td>\n",
       "      <td>0</td>\n",
       "      <td>0</td>\n",
       "    </tr>\n",
       "    <tr>\n",
       "      <th>3</th>\n",
       "      <td>NaN</td>\n",
       "      <td>60000.0</td>\n",
       "      <td>32.0</td>\n",
       "      <td>0</td>\n",
       "      <td>0</td>\n",
       "      <td>0</td>\n",
       "      <td>0</td>\n",
       "      <td>0</td>\n",
       "      <td>0</td>\n",
       "      <td>0</td>\n",
       "      <td>0</td>\n",
       "      <td>0</td>\n",
       "      <td>0</td>\n",
       "      <td>0</td>\n",
       "      <td>0</td>\n",
       "      <td>0</td>\n",
       "    </tr>\n",
       "    <tr>\n",
       "      <th>4</th>\n",
       "      <td>NaN</td>\n",
       "      <td>81000.0</td>\n",
       "      <td>32.0</td>\n",
       "      <td>0</td>\n",
       "      <td>0</td>\n",
       "      <td>0</td>\n",
       "      <td>0</td>\n",
       "      <td>0</td>\n",
       "      <td>0</td>\n",
       "      <td>0</td>\n",
       "      <td>0</td>\n",
       "      <td>0</td>\n",
       "      <td>0</td>\n",
       "      <td>0</td>\n",
       "      <td>0</td>\n",
       "      <td>0</td>\n",
       "    </tr>\n",
       "    <tr>\n",
       "      <th>...</th>\n",
       "      <td>...</td>\n",
       "      <td>...</td>\n",
       "      <td>...</td>\n",
       "      <td>...</td>\n",
       "      <td>...</td>\n",
       "      <td>...</td>\n",
       "      <td>...</td>\n",
       "      <td>...</td>\n",
       "      <td>...</td>\n",
       "      <td>...</td>\n",
       "      <td>...</td>\n",
       "      <td>...</td>\n",
       "      <td>...</td>\n",
       "      <td>...</td>\n",
       "      <td>...</td>\n",
       "      <td>...</td>\n",
       "    </tr>\n",
       "    <tr>\n",
       "      <th>898521</th>\n",
       "      <td>1440.0</td>\n",
       "      <td>29160.0</td>\n",
       "      <td>309.0</td>\n",
       "      <td>0</td>\n",
       "      <td>0</td>\n",
       "      <td>0</td>\n",
       "      <td>0</td>\n",
       "      <td>0</td>\n",
       "      <td>0</td>\n",
       "      <td>0</td>\n",
       "      <td>0</td>\n",
       "      <td>0</td>\n",
       "      <td>0</td>\n",
       "      <td>0</td>\n",
       "      <td>0</td>\n",
       "      <td>0</td>\n",
       "    </tr>\n",
       "    <tr>\n",
       "      <th>898522</th>\n",
       "      <td>2160.0</td>\n",
       "      <td>33660.0</td>\n",
       "      <td>309.0</td>\n",
       "      <td>0</td>\n",
       "      <td>0</td>\n",
       "      <td>0</td>\n",
       "      <td>0</td>\n",
       "      <td>0</td>\n",
       "      <td>0</td>\n",
       "      <td>0</td>\n",
       "      <td>0</td>\n",
       "      <td>0</td>\n",
       "      <td>0</td>\n",
       "      <td>1</td>\n",
       "      <td>0</td>\n",
       "      <td>0</td>\n",
       "    </tr>\n",
       "    <tr>\n",
       "      <th>898523</th>\n",
       "      <td>2160.0</td>\n",
       "      <td>33660.0</td>\n",
       "      <td>309.0</td>\n",
       "      <td>0</td>\n",
       "      <td>0</td>\n",
       "      <td>0</td>\n",
       "      <td>0</td>\n",
       "      <td>0</td>\n",
       "      <td>0</td>\n",
       "      <td>0</td>\n",
       "      <td>0</td>\n",
       "      <td>0</td>\n",
       "      <td>0</td>\n",
       "      <td>1</td>\n",
       "      <td>0</td>\n",
       "      <td>0</td>\n",
       "    </tr>\n",
       "    <tr>\n",
       "      <th>898524</th>\n",
       "      <td>1740.0</td>\n",
       "      <td>51317.0</td>\n",
       "      <td>233.0</td>\n",
       "      <td>0</td>\n",
       "      <td>0</td>\n",
       "      <td>0</td>\n",
       "      <td>0</td>\n",
       "      <td>0</td>\n",
       "      <td>0</td>\n",
       "      <td>0</td>\n",
       "      <td>0</td>\n",
       "      <td>0</td>\n",
       "      <td>0</td>\n",
       "      <td>0</td>\n",
       "      <td>0</td>\n",
       "      <td>0</td>\n",
       "    </tr>\n",
       "    <tr>\n",
       "      <th>898525</th>\n",
       "      <td>1740.0</td>\n",
       "      <td>51317.0</td>\n",
       "      <td>233.0</td>\n",
       "      <td>0</td>\n",
       "      <td>0</td>\n",
       "      <td>0</td>\n",
       "      <td>0</td>\n",
       "      <td>0</td>\n",
       "      <td>0</td>\n",
       "      <td>0</td>\n",
       "      <td>0</td>\n",
       "      <td>0</td>\n",
       "      <td>0</td>\n",
       "      <td>0</td>\n",
       "      <td>0</td>\n",
       "      <td>0</td>\n",
       "    </tr>\n",
       "  </tbody>\n",
       "</table>\n",
       "<p>898526 rows × 16 columns</p>\n",
       "</div>"
      ],
      "text/plain": [
       "        Target  Tijdstip    Dag  Techniekveld_A  Techniekveld_B  \\\n",
       "0          NaN       NaN    NaN               0               0   \n",
       "1          NaN   32400.0   32.0               0               0   \n",
       "2          NaN   45300.0   32.0               0               0   \n",
       "3          NaN   60000.0   32.0               0               0   \n",
       "4          NaN   81000.0   32.0               0               0   \n",
       "...        ...       ...    ...             ...             ...   \n",
       "898521  1440.0   29160.0  309.0               0               0   \n",
       "898522  2160.0   33660.0  309.0               0               0   \n",
       "898523  2160.0   33660.0  309.0               0               0   \n",
       "898524  1740.0   51317.0  233.0               0               0   \n",
       "898525  1740.0   51317.0  233.0               0               0   \n",
       "\n",
       "        Techniekveld_E  Techniekveld_G  Techniekveld_H  Techniekveld_I  \\\n",
       "0                    0               0               0               0   \n",
       "1                    0               0               0               0   \n",
       "2                    0               0               0               0   \n",
       "3                    0               0               0               0   \n",
       "4                    0               0               0               0   \n",
       "...                ...             ...             ...             ...   \n",
       "898521               0               0               0               0   \n",
       "898522               0               0               0               0   \n",
       "898523               0               0               0               0   \n",
       "898524               0               0               0               0   \n",
       "898525               0               0               0               0   \n",
       "\n",
       "        Techniekveld_K  Techniekveld_M  Techniekveld_O  Techniekveld_P  \\\n",
       "0                    0               0               0               0   \n",
       "1                    0               0               0               0   \n",
       "2                    0               0               0               0   \n",
       "3                    0               0               0               0   \n",
       "4                    0               0               0               0   \n",
       "...                ...             ...             ...             ...   \n",
       "898521               0               0               0               0   \n",
       "898522               0               0               0               0   \n",
       "898523               0               0               0               0   \n",
       "898524               0               0               0               0   \n",
       "898525               0               0               0               0   \n",
       "\n",
       "        Techniekveld_S  Techniekveld_T  Techniekveld_X  \n",
       "0                    0               0               0  \n",
       "1                    0               0               0  \n",
       "2                    0               0               0  \n",
       "3                    0               0               0  \n",
       "4                    0               0               0  \n",
       "...                ...             ...             ...  \n",
       "898521               0               0               0  \n",
       "898522               1               0               0  \n",
       "898523               1               0               0  \n",
       "898524               0               0               0  \n",
       "898525               0               0               0  \n",
       "\n",
       "[898526 rows x 16 columns]"
      ]
     },
     "execution_count": 42,
     "metadata": {},
     "output_type": "execute_result"
    }
   ],
   "source": [
    "m1_df = m1_df.merge(type_encoded, left_index=True, right_index=True)\n",
    "m1_df"
   ]
  },
  {
   "cell_type": "markdown",
   "metadata": {},
   "source": [
    "<h2>Prognose aannemer.</h2>\n",
    "\n",
    "Hoewel uit de interviews blijkt dat de prognose van de aannemer over de duur van functieherstel waarschijnlijk pessimistisch is, zal deze waarschijnlijk toch wel veel zeggen over de daadwerkelijke duur van functieherstel. De aannemer maakt de eerste prognose vrij snel nadat die aankomt, waardoor deze dus ook in het model meegenomen kan worden.\n",
    "\n",
    "<h3>Data understanding</h3>\n",
    "\n",
    "In de dataset is een kolom \"stm_progfh_in_duur\", die in de data dictionairy benoemd staat als \"?Duur FHT\". Deze kolom is waarschijnlijk een mogelijk attribuut voor de voorspelde duur van functieherstel. Deze gaan we eerst onderzoeken. Ten eerste is een klein inzicht in de data, en het datatype handig."
   ]
  },
  {
   "cell_type": "code",
   "execution_count": 43,
   "metadata": {
    "pycharm": {
     "name": "#%%\n"
    }
   },
   "outputs": [
    {
     "data": {
      "text/plain": [
       "850794         1060\n",
       "460790     99999999\n",
       "408947           35\n",
       "669975           75\n",
       "636585     99999999\n",
       "Name: stm_progfh_in_duur, dtype: object"
      ]
     },
     "execution_count": 43,
     "metadata": {},
     "output_type": "execute_result"
    }
   ],
   "source": [
    "sample[\"stm_progfh_in_duur\"].head(5)"
   ]
  },
  {
   "cell_type": "code",
   "execution_count": 44,
   "metadata": {
    "pycharm": {
     "name": "#%%\n"
    }
   },
   "outputs": [
    {
     "data": {
      "text/plain": [
       "dtype('O')"
      ]
     },
     "execution_count": 44,
     "metadata": {},
     "output_type": "execute_result"
    }
   ],
   "source": [
    "sample[\"stm_progfh_in_duur\"].dtypes"
   ]
  },
  {
   "cell_type": "markdown",
   "metadata": {},
   "source": [
    "Deze kolom word als 'O' geïntrepeteerd door Pandas, hoewel de waardes numeriek lijken. We kunnen deze omzetten naar proper numieriek datatype. Het is interessant om te weten met hoeveel waardes we hierna over blijven die Pandas niet kan intrepeteren, en dus NaN-waardes van maakt."
   ]
  },
  {
   "cell_type": "code",
   "execution_count": 45,
   "metadata": {
    "pycharm": {
     "name": "#%%\n"
    }
   },
   "outputs": [
    {
     "data": {
      "text/plain": [
       "'De stm_progfh_in_duur kolom bestaat voor 0.5497868741166128% uit NaN-waardes.'"
      ]
     },
     "execution_count": 45,
     "metadata": {},
     "output_type": "execute_result"
    }
   ],
   "source": [
    "de_prog_duur = pd.to_numeric(sample[\"stm_progfh_in_duur\"], errors=\"coerce\")\n",
    "f\"De stm_progfh_in_duur kolom bestaat voor {percentage(de_prog_duur.isna().sum(), de_prog_duur.shape[0])}% uit NaN-waardes.\""
   ]
  },
  {
   "cell_type": "markdown",
   "metadata": {},
   "source": [
    "Een redelijke hoeveelheid. Om de verdeling te bekijken kunnen we NaN-waardes veilig verwijderen."
   ]
  },
  {
   "cell_type": "code",
   "execution_count": 46,
   "metadata": {
    "pycharm": {
     "name": "#%%\n"
    }
   },
   "outputs": [
    {
     "data": {
      "text/plain": [
       "850794        1060.0\n",
       "460790    99999999.0\n",
       "408947          35.0\n",
       "669975          75.0\n",
       "636585    99999999.0\n",
       "Name: stm_progfh_in_duur, dtype: float64"
      ]
     },
     "execution_count": 46,
     "metadata": {},
     "output_type": "execute_result"
    }
   ],
   "source": [
    "de_prog_duur = de_prog_duur.dropna()\n",
    "de_prog_duur.head(5)"
   ]
  },
  {
   "cell_type": "code",
   "execution_count": 47,
   "metadata": {
    "pycharm": {
     "name": "#%%\n"
    }
   },
   "outputs": [
    {
     "data": {
      "text/plain": [
       "<AxesSubplot:>"
      ]
     },
     "execution_count": 47,
     "metadata": {},
     "output_type": "execute_result"
    },
    {
     "data": {
      "image/png": "[encoded data removed]",
      "text/plain": [
       "<Figure size 432x288 with 1 Axes>"
      ]
     },
     "metadata": {
      "needs_background": "light"
     },
     "output_type": "display_data"
    }
   ],
   "source": [
    "de_prog_duur.hist(bins=50)"
   ]
  },
  {
   "cell_type": "markdown",
   "metadata": {},
   "source": [
    "Het histogram bij dit variabele is redelijk opvallend. Het inspecteren van de data bleek eerder uit dat deze veel numerieke waardes boven de 1 bevat. Toch zitten deze niet in het histogram. Mogelijk word het creeeren van het histogram verstoord door veel extreme hoge/lage waardes. Dit is wel interessant om te onderzoeken."
   ]
  },
  {
   "cell_type": "code",
   "execution_count": 48,
   "metadata": {
    "pycharm": {
     "name": "#%%\n"
    }
   },
   "outputs": [
    {
     "data": {
      "text/plain": [
       "'De stm_progfh_in_duur kolom bestaat voor 17.375977797423875% uit 0.0.'"
      ]
     },
     "execution_count": 48,
     "metadata": {},
     "output_type": "execute_result"
    }
   ],
   "source": [
    "f\"De stm_progfh_in_duur kolom bestaat voor {percentage((de_prog_duur == 0.0).sum(), de_prog_duur.shape[0])}% uit 0.0.\""
   ]
  },
  {
   "cell_type": "markdown",
   "metadata": {},
   "source": [
    "Ook leek er een absurd hoge waarde te zijn die vaak ingevuld is, als onechte waarde. Deze kunnen we ook onderzoeken."
   ]
  },
  {
   "cell_type": "code",
   "execution_count": 49,
   "metadata": {
    "pycharm": {
     "name": "#%%\n"
    }
   },
   "outputs": [
    {
     "data": {
      "text/plain": [
       "'De stm_progfh_in_duur kolom bestaat voor 21.03425508342752% uit de waarde 99999999.'"
      ]
     },
     "execution_count": 49,
     "metadata": {},
     "output_type": "execute_result"
    }
   ],
   "source": [
    "f\"De stm_progfh_in_duur kolom bestaat voor {percentage((de_prog_duur == 99999999.0).sum(), de_prog_duur.shape[0])}% uit de waarde 99999999.\""
   ]
  },
  {
   "cell_type": "markdown",
   "metadata": {},
   "source": [
    "De betekenis van de prognoseduur is ook niet helemaal duidelijk uit de gegeven informatie. Is deze duur van het moment dat de aannemer aankomt, en deze prognose maakt, tot het moment van functieherstel? Of dit vanaf het moment dat de storing begint? Om dit te onderzoeken hebben we ook de datum en het tijdstip waarop de prognose van functieherstel valt in de dataset. Hier kunnen we een apart variabele van maken."
   ]
  },
  {
   "cell_type": "code",
   "execution_count": 50,
   "metadata": {
    "pycharm": {
     "name": "#%%\n"
    }
   },
   "outputs": [
    {
     "data": {
      "text/plain": [
       "850794   2017-11-10 16:00:00\n",
       "460790                   NaT\n",
       "dtype: datetime64[ns]"
      ]
     },
     "execution_count": 50,
     "metadata": {},
     "output_type": "execute_result"
    }
   ],
   "source": [
    "de_prog_moment = sample[\"stm_progfh_in_datum\"] + \" \" + sample[\"stm_progfh_in_tijd\"]\n",
    "de_prog_moment = pd.to_datetime(de_prog_moment, errors=\"coerce\")\n",
    "de_prog_moment.head(2)"
   ]
  },
  {
   "cell_type": "markdown",
   "metadata": {},
   "source": [
    "Om vast te stellen of dit variabele inderdaad gelijk is aan dezelfde periode die we afdekken met ons targetvariabele, kunnen we het moment van prognose nemen, en hier het moment dat de aannemer aankomt van aftrekken. We kunnen volgens uit de dataset ook het tijdstip van aankomen van de aannemer halen, en hier vervolgens een variabele voor prognoseduur vanaf het moment dat de aannemer aankomt van maken."
   ]
  },
  {
   "cell_type": "code",
   "execution_count": 51,
   "metadata": {
    "pycharm": {
     "name": "#%%\n"
    }
   },
   "outputs": [
    {
     "data": {
      "text/plain": [
       "(89853,)"
      ]
     },
     "execution_count": 51,
     "metadata": {},
     "output_type": "execute_result"
    }
   ],
   "source": [
    "de_prog_aankomst_aann = pd.to_datetime(sample[\"stm_aanntpl_ddt\"], errors=\"coerce\")\n",
    "de_prog_aankomst_aann.shape"
   ]
  },
  {
   "cell_type": "code",
   "execution_count": 52,
   "metadata": {
    "pycharm": {
     "name": "#%%\n"
    }
   },
   "outputs": [],
   "source": [
    "de_prog_duur_2 = (de_prog_moment - de_prog_aankomst_aann).dt.total_seconds()"
   ]
  },
  {
   "cell_type": "code",
   "execution_count": 53,
   "metadata": {
    "pycharm": {
     "name": "#%%\n"
    }
   },
   "outputs": [
    {
     "data": {
      "text/plain": [
       "(89853,)"
      ]
     },
     "execution_count": 53,
     "metadata": {},
     "output_type": "execute_result"
    }
   ],
   "source": [
    "de_prog_duur_2.shape"
   ]
  },
  {
   "cell_type": "markdown",
   "metadata": {},
   "source": [
    "Van de_prog_duur_2 weten we dat dit in seconden is gemeten. Van de_prog_duur weten we dat niet zeker. Het is wel interessant om te kijken of deze 2 gelijk aan elkaar zijn, omdat de_prog_duur anders waarschijnlijk niet het beste featurevariabele is wat betreft businessdoelstelling. We nemen een foutmarge van 2 minuten met het vergelijken van de 2 tabellen, want als dit verschil er tussen zit, zouden ze nog steeds hetzelfde kunnen betekenen, met kleine notatiefouten."
   ]
  },
  {
   "cell_type": "code",
   "execution_count": 54,
   "metadata": {
    "pycharm": {
     "name": "#%%\n"
    }
   },
   "outputs": [
    {
     "data": {
      "text/plain": [
       "'Wanneer je de tabellen als seconden behandeld, is 3.5391138860138227% van de kolommen (bijna) gelijk.'"
      ]
     },
     "execution_count": 54,
     "metadata": {},
     "output_type": "execute_result"
    }
   ],
   "source": [
    "de_prog_gelijk_in_seconden = ((np.abs(de_prog_duur_2 - de_prog_duur)) < 120).sum()\n",
    "f\"Wanneer je de tabellen als seconden behandeld, is {percentage(de_prog_gelijk_in_seconden, de_prog_duur_2.shape[0])}% van de kolommen (bijna) gelijk.\""
   ]
  },
  {
   "cell_type": "markdown",
   "metadata": {},
   "source": [
    "Dit is duidelijk niet genoeg, dus we kunnen ook kijken of de prognose duur kolom in minuten is gemeten, en dan dezelfde vergelijking doen."
   ]
  },
  {
   "cell_type": "code",
   "execution_count": 55,
   "metadata": {
    "pycharm": {
     "name": "#%%\n"
    }
   },
   "outputs": [
    {
     "data": {
      "text/plain": [
       "'Wanneer je de tabellen als minuten behandeld, is 50.91204522943029% van de kolommen (bijna) gelijk.'"
      ]
     },
     "execution_count": 55,
     "metadata": {},
     "output_type": "execute_result"
    }
   ],
   "source": [
    "de_prog_duur_2_min = convert_timeunit(de_prog_duur_2, TimeUnit.second, TimeUnit.minute)\n",
    "\n",
    "de_prog_gelijk_in_minuten = ((np.abs(de_prog_duur_2_min - de_prog_duur)) < 2).sum()\n",
    "f\"Wanneer je de tabellen als minuten behandeld, is {percentage(de_prog_gelijk_in_minuten, de_prog_duur_2.shape[0])}% van de kolommen (bijna) gelijk.\""
   ]
  },
  {
   "cell_type": "markdown",
   "metadata": {},
   "source": [
    "Hoewel zonder de NaN waardes, dit inderdaad de betekenis van de kolom lijkt te zijn, is de veiligere aanpak die meer correcte waardes in stand houd, de zelf gecreeërde kolom.\n",
    "\n",
    "We kunnen nu ook naar de waardes in deze kolom kijken. Hiervoor verwijderen we de NaN waardes."
   ]
  },
  {
   "cell_type": "code",
   "execution_count": 56,
   "metadata": {
    "pycharm": {
     "name": "#%%\n"
    }
   },
   "outputs": [
    {
     "data": {
      "text/plain": [
       "(57090,)"
      ]
     },
     "execution_count": 56,
     "metadata": {},
     "output_type": "execute_result"
    }
   ],
   "source": [
    "de_prog_duur_2 = de_prog_duur_2.dropna()\n",
    "de_prog_duur_2.shape"
   ]
  },
  {
   "cell_type": "markdown",
   "metadata": {},
   "source": [
    "Om meer inzicht in deze gegevens te krijgen, is het ook noodzakelijk de outliers te verwijderen. Hiervoor gebruiken we dezelfde logica als bij het targetvariabele."
   ]
  },
  {
   "cell_type": "code",
   "execution_count": 57,
   "metadata": {
    "pycharm": {
     "name": "#%%\n"
    }
   },
   "outputs": [
    {
     "data": {
      "text/plain": [
       "52348"
      ]
     },
     "execution_count": 57,
     "metadata": {},
     "output_type": "execute_result"
    }
   ],
   "source": [
    "(de_prog_duur_2 < convert_timeunit(6, TimeUnit.hour, TimeUnit.second)).sum()"
   ]
  },
  {
   "cell_type": "code",
   "execution_count": 58,
   "metadata": {
    "pycharm": {
     "name": "#%%\n"
    }
   },
   "outputs": [
    {
     "data": {
      "text/plain": [
       "49917"
      ]
     },
     "execution_count": 58,
     "metadata": {},
     "output_type": "execute_result"
    }
   ],
   "source": [
    "(de_prog_duur_2 > convert_timeunit(5, TimeUnit.minute, TimeUnit.second)).sum()"
   ]
  },
  {
   "cell_type": "code",
   "execution_count": 59,
   "metadata": {
    "pycharm": {
     "name": "#%%\n"
    }
   },
   "outputs": [
    {
     "data": {
      "text/plain": [
       "(45175,)"
      ]
     },
     "execution_count": 59,
     "metadata": {},
     "output_type": "execute_result"
    }
   ],
   "source": [
    "boven_5_min = de_prog_duur_2 > convert_timeunit(5, TimeUnit.minute, TimeUnit.second)\n",
    "onder_6_uur = de_prog_duur_2 < convert_timeunit(6, TimeUnit.hour, TimeUnit.second)\n",
    "\n",
    "de_prog_duur_2 = de_prog_duur_2.loc[boven_5_min & onder_6_uur]  # Gemeten in seconden.\n",
    "\n",
    "de_prog_duur_2.shape"
   ]
  },
  {
   "cell_type": "code",
   "execution_count": 60,
   "metadata": {
    "pycharm": {
     "name": "#%%\n"
    }
   },
   "outputs": [
    {
     "data": {
      "text/plain": [
       "<AxesSubplot:>"
      ]
     },
     "execution_count": 60,
     "metadata": {},
     "output_type": "execute_result"
    },
    {
     "data": {
      "image/png": "[encoded data removed]",
      "text/plain": [
       "<Figure size 432x288 with 1 Axes>"
      ]
     },
     "metadata": {
      "needs_background": "light"
     },
     "output_type": "display_data"
    }
   ],
   "source": [
    "de_prog_duur_2.hist(bins=20)"
   ]
  },
  {
   "cell_type": "markdown",
   "metadata": {},
   "source": [
    "Dit variabele waarschijnlijk heeft een redelijk gelijke exponentiële verdeling als ons targetvariabele. Zouden deze dan ook correleren?"
   ]
  },
  {
   "cell_type": "code",
   "execution_count": 61,
   "metadata": {
    "pycharm": {
     "name": "#%%\n"
    }
   },
   "outputs": [
    {
     "data": {
      "text/plain": [
       "(45175,)"
      ]
     },
     "execution_count": 61,
     "metadata": {},
     "output_type": "execute_result"
    }
   ],
   "source": [
    "de_prog_duur_2.shape"
   ]
  },
  {
   "cell_type": "code",
   "execution_count": 62,
   "metadata": {
    "pycharm": {
     "name": "#%%\n"
    }
   },
   "outputs": [
    {
     "data": {
      "text/html": [
       "<div>\n",
       "<style scoped>\n",
       "    .dataframe tbody tr th:only-of-type {\n",
       "        vertical-align: middle;\n",
       "    }\n",
       "\n",
       "    .dataframe tbody tr th {\n",
       "        vertical-align: top;\n",
       "    }\n",
       "\n",
       "    .dataframe thead th {\n",
       "        text-align: right;\n",
       "    }\n",
       "</style>\n",
       "<table border=\"1\" class=\"dataframe\">\n",
       "  <thead>\n",
       "    <tr style=\"text-align: right;\">\n",
       "      <th></th>\n",
       "      <th>Target</th>\n",
       "      <th>Prognose</th>\n",
       "    </tr>\n",
       "  </thead>\n",
       "  <tbody>\n",
       "    <tr>\n",
       "      <th>Target</th>\n",
       "      <td>1.000000</td>\n",
       "      <td>0.777248</td>\n",
       "    </tr>\n",
       "    <tr>\n",
       "      <th>Prognose</th>\n",
       "      <td>0.777248</td>\n",
       "      <td>1.000000</td>\n",
       "    </tr>\n",
       "  </tbody>\n",
       "</table>\n",
       "</div>"
      ],
      "text/plain": [
       "            Target  Prognose\n",
       "Target    1.000000  0.777248\n",
       "Prognose  0.777248  1.000000"
      ]
     },
     "execution_count": 62,
     "metadata": {},
     "output_type": "execute_result"
    }
   ],
   "source": [
    "de_prog_corr_matrix = pd.DataFrame({\"Target\": target,\n",
    "                                    \"Prognose\": de_prog_duur_2}).dropna()\n",
    "de_prog_corr_matrix.corr()"
   ]
  },
  {
   "cell_type": "markdown",
   "metadata": {},
   "source": [
    "Deze 2 variabele correleren sterk. Dit is dan visueel waarschijnlijk ook te zien."
   ]
  },
  {
   "cell_type": "code",
   "execution_count": 63,
   "metadata": {
    "pycharm": {
     "name": "#%%\n"
    }
   },
   "outputs": [
    {
     "data": {
      "text/plain": [
       "Text(0.5, 1.0, 'Prognose tegenover target.')"
      ]
     },
     "execution_count": 63,
     "metadata": {},
     "output_type": "execute_result"
    },
    {
     "data": {
      "image/png": "[encoded data removed]",
      "text/plain": [
       "<Figure size 432x288 with 1 Axes>"
      ]
     },
     "metadata": {
      "needs_background": "light"
     },
     "output_type": "display_data"
    }
   ],
   "source": [
    "plt.scatter(de_prog_corr_matrix[\"Target\"], de_prog_corr_matrix[\"Prognose\"], s=1, alpha=0.5)\n",
    "plt.xlabel(\"Target\")\n",
    "plt.ylabel(\"Prognose\")\n",
    "plt.title(\"Prognose tegenover target.\")"
   ]
  },
  {
   "cell_type": "markdown",
   "metadata": {},
   "source": [
    "Hiermee concluderen we dat dit een goed featurevariabele is, welke goed in een model gebruikt kan worden."
   ]
  },
  {
   "cell_type": "markdown",
   "metadata": {},
   "source": [
    "<h3>Data preperation</h3>\n",
    "\n",
    "Nu dit featurevariabele is vastgesteld, blijft er alleen over deze goed te engineeren voor de hele dataset, en dit aan het dataframe voor het model toe te voegen."
   ]
  },
  {
   "cell_type": "code",
   "execution_count": 64,
   "metadata": {
    "pycharm": {
     "name": "#%%\n"
    }
   },
   "outputs": [],
   "source": [
    "progfh_formatted = df[\"stm_progfh_in_datum\"] + \" \" + df[\"stm_progfh_in_tijd\"]\n",
    "df[\"stm_progfh_as_pddt\"] = pd.to_datetime(progfh_formatted, errors=\"coerce\")"
   ]
  },
  {
   "cell_type": "code",
   "execution_count": 65,
   "metadata": {
    "pycharm": {
     "name": "#%%\n"
    }
   },
   "outputs": [
    {
     "data": {
      "text/html": [
       "<div>\n",
       "<style scoped>\n",
       "    .dataframe tbody tr th:only-of-type {\n",
       "        vertical-align: middle;\n",
       "    }\n",
       "\n",
       "    .dataframe tbody tr th {\n",
       "        vertical-align: top;\n",
       "    }\n",
       "\n",
       "    .dataframe thead th {\n",
       "        text-align: right;\n",
       "    }\n",
       "</style>\n",
       "<table border=\"1\" class=\"dataframe\">\n",
       "  <thead>\n",
       "    <tr style=\"text-align: right;\">\n",
       "      <th></th>\n",
       "      <th>Target</th>\n",
       "      <th>Tijdstip</th>\n",
       "      <th>Dag</th>\n",
       "      <th>Techniekveld_A</th>\n",
       "      <th>Techniekveld_B</th>\n",
       "      <th>Techniekveld_E</th>\n",
       "      <th>Techniekveld_G</th>\n",
       "      <th>Techniekveld_H</th>\n",
       "      <th>Techniekveld_I</th>\n",
       "      <th>Techniekveld_K</th>\n",
       "      <th>Techniekveld_M</th>\n",
       "      <th>Techniekveld_O</th>\n",
       "      <th>Techniekveld_P</th>\n",
       "      <th>Techniekveld_S</th>\n",
       "      <th>Techniekveld_T</th>\n",
       "      <th>Techniekveld_X</th>\n",
       "    </tr>\n",
       "  </thead>\n",
       "  <tbody>\n",
       "    <tr>\n",
       "      <th>0</th>\n",
       "      <td>NaN</td>\n",
       "      <td>NaN</td>\n",
       "      <td>NaN</td>\n",
       "      <td>0</td>\n",
       "      <td>0</td>\n",
       "      <td>0</td>\n",
       "      <td>0</td>\n",
       "      <td>0</td>\n",
       "      <td>0</td>\n",
       "      <td>0</td>\n",
       "      <td>0</td>\n",
       "      <td>0</td>\n",
       "      <td>0</td>\n",
       "      <td>0</td>\n",
       "      <td>0</td>\n",
       "      <td>0</td>\n",
       "    </tr>\n",
       "    <tr>\n",
       "      <th>1</th>\n",
       "      <td>NaN</td>\n",
       "      <td>32400.0</td>\n",
       "      <td>32.0</td>\n",
       "      <td>0</td>\n",
       "      <td>0</td>\n",
       "      <td>0</td>\n",
       "      <td>0</td>\n",
       "      <td>0</td>\n",
       "      <td>0</td>\n",
       "      <td>0</td>\n",
       "      <td>0</td>\n",
       "      <td>0</td>\n",
       "      <td>0</td>\n",
       "      <td>0</td>\n",
       "      <td>0</td>\n",
       "      <td>0</td>\n",
       "    </tr>\n",
       "  </tbody>\n",
       "</table>\n",
       "</div>"
      ],
      "text/plain": [
       "   Target  Tijdstip   Dag  Techniekveld_A  Techniekveld_B  Techniekveld_E  \\\n",
       "0     NaN       NaN   NaN               0               0               0   \n",
       "1     NaN   32400.0  32.0               0               0               0   \n",
       "\n",
       "   Techniekveld_G  Techniekveld_H  Techniekveld_I  Techniekveld_K  \\\n",
       "0               0               0               0               0   \n",
       "1               0               0               0               0   \n",
       "\n",
       "   Techniekveld_M  Techniekveld_O  Techniekveld_P  Techniekveld_S  \\\n",
       "0               0               0               0               0   \n",
       "1               0               0               0               0   \n",
       "\n",
       "   Techniekveld_T  Techniekveld_X  \n",
       "0               0               0  \n",
       "1               0               0  "
      ]
     },
     "execution_count": 65,
     "metadata": {},
     "output_type": "execute_result"
    }
   ],
   "source": [
    "prognose = (df[\"stm_progfh_as_pddt\"] - df[\"stm_aanntpl_ddt_as_pddt\"]).dt.total_seconds()\n",
    "m1_df.head(2)"
   ]
  },
  {
   "cell_type": "code",
   "execution_count": 66,
   "metadata": {
    "pycharm": {
     "name": "#%%\n"
    }
   },
   "outputs": [
    {
     "data": {
      "text/plain": [
       "(898526,)"
      ]
     },
     "execution_count": 66,
     "metadata": {},
     "output_type": "execute_result"
    }
   ],
   "source": [
    "prognose.shape"
   ]
  },
  {
   "cell_type": "code",
   "execution_count": 67,
   "metadata": {
    "pycharm": {
     "name": "#%%\n"
    }
   },
   "outputs": [
    {
     "data": {
      "text/plain": [
       "32099    2400.0\n",
       "60682     900.0\n",
       "60683     900.0\n",
       "84560     319.0\n",
       "84561     319.0\n",
       "Name: fh_min_aanntpl, dtype: float64"
      ]
     },
     "execution_count": 67,
     "metadata": {},
     "output_type": "execute_result"
    }
   ],
   "source": [
    "boven_5_min = prognose > convert_timeunit(5, TimeUnit.minute, TimeUnit.second)\n",
    "onder_6_uur = prognose < convert_timeunit(6, TimeUnit.hour, TimeUnit.second)\n",
    "\n",
    "prognose = prognose.loc[boven_5_min & onder_6_uur]  # Gemeten in seconden.\n",
    "\n",
    "target.head(5)"
   ]
  },
  {
   "cell_type": "code",
   "execution_count": 68,
   "metadata": {
    "pycharm": {
     "name": "#%%\n"
    }
   },
   "outputs": [
    {
     "data": {
      "text/plain": [
       "(451227,)"
      ]
     },
     "execution_count": 68,
     "metadata": {},
     "output_type": "execute_result"
    }
   ],
   "source": [
    "prognose.shape"
   ]
  },
  {
   "cell_type": "code",
   "execution_count": 69,
   "metadata": {
    "pycharm": {
     "name": "#%%\n"
    }
   },
   "outputs": [],
   "source": [
    "m1_df[\"Prognose\"] = prognose"
   ]
  },
  {
   "cell_type": "code",
   "execution_count": 70,
   "metadata": {
    "pycharm": {
     "name": "#%%\n"
    }
   },
   "outputs": [
    {
     "data": {
      "text/plain": [
       "<AxesSubplot:>"
      ]
     },
     "execution_count": 70,
     "metadata": {},
     "output_type": "execute_result"
    },
    {
     "data": {
      "image/png": "[encoded data removed]",
      "text/plain": [
       "<Figure size 432x288 with 1 Axes>"
      ]
     },
     "metadata": {
      "needs_background": "light"
     },
     "output_type": "display_data"
    }
   ],
   "source": [
    "m1_df[\"Prognose\"].hist(bins=20)"
   ]
  },
  {
   "cell_type": "markdown",
   "metadata": {},
   "source": [
    "<h2>Locatie storing</h2>\n",
    "\n",
    "<h3>Data exploration</h2>\n",
    "\n",
    "Uit ons businessonderzoek blijkt dat een idee van waar een storing gebeurt ook iets kan zeggen over de duur tot functieherstel. Een aantal kolommen zouden hier mogelijk voor gebruikt kunnen worden. Bijvoorbeeld \"stm_geo_mld\", \"stm_contractgeb_mld\" of \"stm_geo_gst\". Omdat één gebied niet persé volgordelijk zijn, kunnen we deze variabelen als nominaal beschouwen. Omdat een variabele met heel veel permutaties waarschijnlijk tot te veel dimensies voor nuttige modellen zou lijden, is het handig een variabele te kiezen met niet al te veel permutaties. Hier kunnen we naar kijken."
   ]
  },
  {
   "cell_type": "code",
   "execution_count": 71,
   "metadata": {
    "pycharm": {
     "name": "#%%\n"
    }
   },
   "outputs": [
    {
     "data": {
      "text/plain": [
       "stm_geo_mld            806\n",
       "stm_geo_gst            873\n",
       "stm_contractgeb_mld     57\n",
       "dtype: int64"
      ]
     },
     "execution_count": 71,
     "metadata": {},
     "output_type": "execute_result"
    }
   ],
   "source": [
    "df[[\"stm_geo_mld\", \"stm_geo_gst\", \"stm_contractgeb_mld\"]].nunique()"
   ]
  },
  {
   "cell_type": "markdown",
   "metadata": {},
   "source": [
    "stm_contractgeb_mld heeft niet al te veel permutaties. Ook hebben we van ProRail hier de betekenissen van gekregen."
   ]
  },
  {
   "cell_type": "code",
   "execution_count": 72,
   "metadata": {
    "pycharm": {
     "name": "#%%\n"
    }
   },
   "outputs": [
    {
     "data": {
      "text/plain": [
       "850794     4.0\n",
       "460790    63.0\n",
       "408947    25.0\n",
       "669975     NaN\n",
       "636585    58.0\n",
       "Name: stm_contractgeb_mld, dtype: float64"
      ]
     },
     "execution_count": 72,
     "metadata": {},
     "output_type": "execute_result"
    }
   ],
   "source": [
    "sample[\"stm_contractgeb_mld\"].head(5)"
   ]
  },
  {
   "cell_type": "code",
   "execution_count": 73,
   "metadata": {
    "pycharm": {
     "name": "#%%\n"
    }
   },
   "outputs": [
    {
     "data": {
      "text/html": [
       "<div>\n",
       "<style scoped>\n",
       "    .dataframe tbody tr th:only-of-type {\n",
       "        vertical-align: middle;\n",
       "    }\n",
       "\n",
       "    .dataframe tbody tr th {\n",
       "        vertical-align: top;\n",
       "    }\n",
       "\n",
       "    .dataframe thead th {\n",
       "        text-align: right;\n",
       "    }\n",
       "</style>\n",
       "<table border=\"1\" class=\"dataframe\">\n",
       "  <thead>\n",
       "    <tr style=\"text-align: right;\">\n",
       "      <th></th>\n",
       "      <th>Contractgebied</th>\n",
       "      <th>Code</th>\n",
       "    </tr>\n",
       "  </thead>\n",
       "  <tbody>\n",
       "    <tr>\n",
       "      <th>0</th>\n",
       "      <td>Rijn en Gouwe</td>\n",
       "      <td>1</td>\n",
       "    </tr>\n",
       "    <tr>\n",
       "      <th>1</th>\n",
       "      <td>Rijn en Gouwe</td>\n",
       "      <td>81</td>\n",
       "    </tr>\n",
       "    <tr>\n",
       "      <th>2</th>\n",
       "      <td>Den Haag</td>\n",
       "      <td>2</td>\n",
       "    </tr>\n",
       "    <tr>\n",
       "      <th>3</th>\n",
       "      <td>Rotterdam</td>\n",
       "      <td>3</td>\n",
       "    </tr>\n",
       "    <tr>\n",
       "      <th>4</th>\n",
       "      <td>Zee - Zevenaar</td>\n",
       "      <td>4</td>\n",
       "    </tr>\n",
       "    <tr>\n",
       "      <th>5</th>\n",
       "      <td>Zee - Zevenaar</td>\n",
       "      <td>71</td>\n",
       "    </tr>\n",
       "    <tr>\n",
       "      <th>6</th>\n",
       "      <td>Dordrecht</td>\n",
       "      <td>5</td>\n",
       "    </tr>\n",
       "    <tr>\n",
       "      <th>7</th>\n",
       "      <td>Hollands Noorderkwartier</td>\n",
       "      <td>6</td>\n",
       "    </tr>\n",
       "    <tr>\n",
       "      <th>8</th>\n",
       "      <td>Hollands Noorderkwartier</td>\n",
       "      <td>7</td>\n",
       "    </tr>\n",
       "    <tr>\n",
       "      <th>9</th>\n",
       "      <td>Haarlem</td>\n",
       "      <td>8</td>\n",
       "    </tr>\n",
       "    <tr>\n",
       "      <th>10</th>\n",
       "      <td>Amsterdam</td>\n",
       "      <td>9</td>\n",
       "    </tr>\n",
       "    <tr>\n",
       "      <th>11</th>\n",
       "      <td>Amstelse Poort</td>\n",
       "      <td>10</td>\n",
       "    </tr>\n",
       "    <tr>\n",
       "      <th>12</th>\n",
       "      <td>Amstelse Poort</td>\n",
       "      <td>11</td>\n",
       "    </tr>\n",
       "    <tr>\n",
       "      <th>13</th>\n",
       "      <td>Eemland</td>\n",
       "      <td>12</td>\n",
       "    </tr>\n",
       "    <tr>\n",
       "      <th>14</th>\n",
       "      <td>Eemland</td>\n",
       "      <td>16</td>\n",
       "    </tr>\n",
       "    <tr>\n",
       "      <th>15</th>\n",
       "      <td>Utrecht</td>\n",
       "      <td>13</td>\n",
       "    </tr>\n",
       "    <tr>\n",
       "      <th>16</th>\n",
       "      <td>Utrecht</td>\n",
       "      <td>14</td>\n",
       "    </tr>\n",
       "    <tr>\n",
       "      <th>17</th>\n",
       "      <td>Utrecht</td>\n",
       "      <td>15</td>\n",
       "    </tr>\n",
       "    <tr>\n",
       "      <th>18</th>\n",
       "      <td>Zeeland</td>\n",
       "      <td>18</td>\n",
       "    </tr>\n",
       "    <tr>\n",
       "      <th>19</th>\n",
       "      <td>Zeeland</td>\n",
       "      <td>19</td>\n",
       "    </tr>\n",
       "    <tr>\n",
       "      <th>20</th>\n",
       "      <td>Brabant</td>\n",
       "      <td>20</td>\n",
       "    </tr>\n",
       "    <tr>\n",
       "      <th>21</th>\n",
       "      <td>Brabant</td>\n",
       "      <td>23</td>\n",
       "    </tr>\n",
       "    <tr>\n",
       "      <th>22</th>\n",
       "      <td>Betuwe</td>\n",
       "      <td>21</td>\n",
       "    </tr>\n",
       "    <tr>\n",
       "      <th>23</th>\n",
       "      <td>Betuwe</td>\n",
       "      <td>22</td>\n",
       "    </tr>\n",
       "    <tr>\n",
       "      <th>24</th>\n",
       "      <td>De Peel</td>\n",
       "      <td>24</td>\n",
       "    </tr>\n",
       "    <tr>\n",
       "      <th>25</th>\n",
       "      <td>De Peel</td>\n",
       "      <td>27</td>\n",
       "    </tr>\n",
       "    <tr>\n",
       "      <th>26</th>\n",
       "      <td>Gelre</td>\n",
       "      <td>28</td>\n",
       "    </tr>\n",
       "    <tr>\n",
       "      <th>27</th>\n",
       "      <td>Gelre</td>\n",
       "      <td>30</td>\n",
       "    </tr>\n",
       "    <tr>\n",
       "      <th>28</th>\n",
       "      <td>Veluwe</td>\n",
       "      <td>29</td>\n",
       "    </tr>\n",
       "    <tr>\n",
       "      <th>29</th>\n",
       "      <td>Veluwe</td>\n",
       "      <td>31</td>\n",
       "    </tr>\n",
       "    <tr>\n",
       "      <th>30</th>\n",
       "      <td>Veluwe</td>\n",
       "      <td>33</td>\n",
       "    </tr>\n",
       "    <tr>\n",
       "      <th>31</th>\n",
       "      <td>Twente</td>\n",
       "      <td>32</td>\n",
       "    </tr>\n",
       "    <tr>\n",
       "      <th>32</th>\n",
       "      <td>Drenthe</td>\n",
       "      <td>34</td>\n",
       "    </tr>\n",
       "    <tr>\n",
       "      <th>33</th>\n",
       "      <td>Drenthe</td>\n",
       "      <td>35</td>\n",
       "    </tr>\n",
       "    <tr>\n",
       "      <th>34</th>\n",
       "      <td>Friesland</td>\n",
       "      <td>36</td>\n",
       "    </tr>\n",
       "    <tr>\n",
       "      <th>35</th>\n",
       "      <td>Friesland</td>\n",
       "      <td>37</td>\n",
       "    </tr>\n",
       "    <tr>\n",
       "      <th>36</th>\n",
       "      <td>Kijfhoek</td>\n",
       "      <td>99</td>\n",
       "    </tr>\n",
       "    <tr>\n",
       "      <th>37</th>\n",
       "      <td>Onbekend</td>\n",
       "      <td>0</td>\n",
       "    </tr>\n",
       "    <tr>\n",
       "      <th>38</th>\n",
       "      <td>Onbekend</td>\n",
       "      <td>63</td>\n",
       "    </tr>\n",
       "    <tr>\n",
       "      <th>39</th>\n",
       "      <td>Onbekend</td>\n",
       "      <td>61</td>\n",
       "    </tr>\n",
       "    <tr>\n",
       "      <th>40</th>\n",
       "      <td>Onbekend</td>\n",
       "      <td>51</td>\n",
       "    </tr>\n",
       "    <tr>\n",
       "      <th>41</th>\n",
       "      <td>Onbekend</td>\n",
       "      <td>52</td>\n",
       "    </tr>\n",
       "    <tr>\n",
       "      <th>42</th>\n",
       "      <td>Onbekend</td>\n",
       "      <td>60</td>\n",
       "    </tr>\n",
       "    <tr>\n",
       "      <th>43</th>\n",
       "      <td>Onbekend</td>\n",
       "      <td>58</td>\n",
       "    </tr>\n",
       "    <tr>\n",
       "      <th>44</th>\n",
       "      <td>Onbekend</td>\n",
       "      <td>59</td>\n",
       "    </tr>\n",
       "    <tr>\n",
       "      <th>45</th>\n",
       "      <td>Onbekend</td>\n",
       "      <td>70</td>\n",
       "    </tr>\n",
       "    <tr>\n",
       "      <th>46</th>\n",
       "      <td>Roermond</td>\n",
       "      <td>25</td>\n",
       "    </tr>\n",
       "    <tr>\n",
       "      <th>47</th>\n",
       "      <td>Maastricht</td>\n",
       "      <td>26</td>\n",
       "    </tr>\n",
       "  </tbody>\n",
       "</table>\n",
       "</div>"
      ],
      "text/plain": [
       "              Contractgebied  Code\n",
       "0              Rijn en Gouwe     1\n",
       "1              Rijn en Gouwe    81\n",
       "2                   Den Haag     2\n",
       "3                  Rotterdam     3\n",
       "4             Zee - Zevenaar     4\n",
       "5             Zee - Zevenaar    71\n",
       "6                  Dordrecht     5\n",
       "7   Hollands Noorderkwartier     6\n",
       "8   Hollands Noorderkwartier     7\n",
       "9                    Haarlem     8\n",
       "10                 Amsterdam     9\n",
       "11            Amstelse Poort    10\n",
       "12            Amstelse Poort    11\n",
       "13                   Eemland    12\n",
       "14                   Eemland    16\n",
       "15                   Utrecht    13\n",
       "16                   Utrecht    14\n",
       "17                   Utrecht    15\n",
       "18                   Zeeland    18\n",
       "19                   Zeeland    19\n",
       "20                   Brabant    20\n",
       "21                   Brabant    23\n",
       "22                    Betuwe    21\n",
       "23                    Betuwe    22\n",
       "24                   De Peel    24\n",
       "25                   De Peel    27\n",
       "26                     Gelre    28\n",
       "27                     Gelre    30\n",
       "28                    Veluwe    29\n",
       "29                    Veluwe    31\n",
       "30                    Veluwe    33\n",
       "31                    Twente    32\n",
       "32                   Drenthe    34\n",
       "33                   Drenthe    35\n",
       "34                 Friesland    36\n",
       "35                 Friesland    37\n",
       "36                  Kijfhoek    99\n",
       "37                  Onbekend     0\n",
       "38                  Onbekend    63\n",
       "39                  Onbekend    61\n",
       "40                  Onbekend    51\n",
       "41                  Onbekend    52\n",
       "42                  Onbekend    60\n",
       "43                  Onbekend    58\n",
       "44                  Onbekend    59\n",
       "45                  Onbekend    70\n",
       "46                  Roermond    25\n",
       "47                Maastricht    26"
      ]
     },
     "execution_count": 73,
     "metadata": {},
     "output_type": "execute_result"
    }
   ],
   "source": [
    "contractgebied_betekenissen = pd.read_excel(\"Contractgebiedcodes.xlsx\")\n",
    "contractgebied_betekenissen"
   ]
  },
  {
   "cell_type": "markdown",
   "metadata": {},
   "source": [
    "Elk van deze categoriën staat voor een bepaald contractgebied, bijvoorbeeld \"Utrecht\" of \"overig\". Uit de betekenissen weten we dat veel van deze gebiedscodes voor dezelfde gebieden staan.\n",
    "\n",
    "<h3>Data preperation.</h3>\n",
    "\n",
    "Om de permutaties te verminderen kunnen we met een replace operatie alle duplicaatbetekenissen naar 1 categorie veranderen. We kunnen alle codes met dezelfde betekenis naar één code veranderen."
   ]
  },
  {
   "cell_type": "code",
   "execution_count": 74,
   "metadata": {
    "pycharm": {
     "name": "#%%\n"
    }
   },
   "outputs": [],
   "source": [
    "contractgebied = df[\"stm_contractgeb_mld\"]\n",
    "contractgebied = contractgebied.replace({81.0: 1.0,\n",
    "                                         71.0: 4.0,\n",
    "                                         7.0: 6.0,\n",
    "                                         11.0: 10.0,\n",
    "                                         16.0: 12.0,\n",
    "                                         14.0: 13.0,\n",
    "                                         15.0: 13.0,\n",
    "                                         18.0: 19.0,\n",
    "                                         20.0: 23.0,\n",
    "                                         21.0: 22.0,\n",
    "                                         24.0: 27.0,\n",
    "                                         28.0: 30.0,\n",
    "                                         29.0: 31.0,\n",
    "                                         33.0: 31.0,\n",
    "                                         34.0: 35.0,\n",
    "                                         36.0: 37.0,\n",
    "                                         63.0: 0.0,\n",
    "                                         61.0: 0.0,\n",
    "                                         51.0: 0.0,\n",
    "                                         52.0: 0.0,\n",
    "                                         60.0: 0.0,\n",
    "                                         58.0: 0.0,\n",
    "                                         59.0: 0.0,\n",
    "                                         70.0: 0.0,\n",
    "                                         25.0: 0.0,\n",
    "                                         26.0: 0.0})\n"
   ]
  },
  {
   "cell_type": "markdown",
   "metadata": {},
   "source": [
    "En voor het volledige kan dit ook nog even naar een categorie datatype veranderd worden."
   ]
  },
  {
   "cell_type": "code",
   "execution_count": 75,
   "metadata": {
    "pycharm": {
     "name": "#%%\n"
    }
   },
   "outputs": [],
   "source": [
    "contractgebied = contractgebied.astype(\"category\")"
   ]
  },
  {
   "cell_type": "markdown",
   "metadata": {},
   "source": [
    "We kunnen dit met een dummyencoding bruikbaar maken voor een model."
   ]
  },
  {
   "cell_type": "code",
   "execution_count": 76,
   "metadata": {
    "pycharm": {
     "name": "#%%\n"
    }
   },
   "outputs": [],
   "source": [
    "loc_encoded = pd.get_dummies(contractgebied, prefix=\"Contractgebied\")"
   ]
  },
  {
   "cell_type": "markdown",
   "metadata": {},
   "source": [
    "En dit kan vervolgens toegevoegd worden aan het dataframe voor gebruik in een model."
   ]
  },
  {
   "cell_type": "code",
   "execution_count": 77,
   "metadata": {
    "pycharm": {
     "name": "#%%\n"
    }
   },
   "outputs": [],
   "source": [
    "m1_df = m1_df.merge(loc_encoded, left_index=True, right_index=True)"
   ]
  },
  {
   "cell_type": "markdown",
   "metadata": {},
   "source": [
    "<h2>Modelling.</h2>\n",
    "\n",
    "Nu deze featurevariabelen zijn vastgesteld, kunnen we 2 DataFrames voor 2 soorten modellen maken.\n",
    "\n",
    "Omdat we hebben vastgesteld dat de prognose van de aannemer het meest belovende featurevariabele is, zullen we modellen met alleen dit als featurevariabele maken. Hiernaast zullen we op basis van alle enigzins mogelijk nuttige variabelen nog modellen maken.\n",
    "\n",
    "Voor het overzicht nog even de lineare correlaties van alle variabelen met de target:"
   ]
  },
  {
   "cell_type": "code",
   "execution_count": 78,
   "metadata": {
    "pycharm": {
     "name": "#%%\n"
    }
   },
   "outputs": [
    {
     "data": {
      "text/plain": [
       "Target                 1.000000\n",
       "Tijdstip              -0.044596\n",
       "Dag                   -0.000566\n",
       "Techniekveld_A         0.006920\n",
       "Techniekveld_B         0.050600\n",
       "Techniekveld_E         0.024054\n",
       "Techniekveld_G        -0.007816\n",
       "Techniekveld_H              NaN\n",
       "Techniekveld_I         0.008864\n",
       "Techniekveld_K         0.022999\n",
       "Techniekveld_M         0.015349\n",
       "Techniekveld_O        -0.065544\n",
       "Techniekveld_P        -0.053116\n",
       "Techniekveld_S        -0.021111\n",
       "Techniekveld_T         0.033410\n",
       "Techniekveld_X         0.007195\n",
       "Prognose               0.779429\n",
       "Contractgebied_0.0    -0.013150\n",
       "Contractgebied_1.0     0.001050\n",
       "Contractgebied_2.0     0.003534\n",
       "Contractgebied_3.0     0.005292\n",
       "Contractgebied_4.0     0.033447\n",
       "Contractgebied_5.0     0.017172\n",
       "Contractgebied_6.0     0.004314\n",
       "Contractgebied_8.0     0.021967\n",
       "Contractgebied_9.0     0.000071\n",
       "Contractgebied_10.0    0.007473\n",
       "Contractgebied_12.0   -0.013317\n",
       "Contractgebied_13.0    0.038916\n",
       "Contractgebied_17.0   -0.006750\n",
       "Contractgebied_19.0    0.014968\n",
       "Contractgebied_22.0    0.017527\n",
       "Contractgebied_23.0    0.032871\n",
       "Contractgebied_27.0   -0.013753\n",
       "Contractgebied_30.0   -0.023192\n",
       "Contractgebied_31.0   -0.005755\n",
       "Contractgebied_32.0   -0.013826\n",
       "Contractgebied_35.0   -0.021051\n",
       "Contractgebied_37.0   -0.024777\n",
       "Contractgebied_53.0   -0.025915\n",
       "Contractgebied_54.0   -0.005282\n",
       "Contractgebied_55.0   -0.004710\n",
       "Contractgebied_56.0    0.003520\n",
       "Contractgebied_57.0    0.004296\n",
       "Contractgebied_62.0   -0.012347\n",
       "Contractgebied_64.0   -0.008684\n",
       "Contractgebied_83.0   -0.000362\n",
       "Contractgebied_99.0    0.015059\n",
       "Name: Target, dtype: float64"
      ]
     },
     "execution_count": 78,
     "metadata": {},
     "output_type": "execute_result"
    }
   ],
   "source": [
    "m1_df.corr()[\"Target\"]"
   ]
  },
  {
   "cell_type": "markdown",
   "metadata": {},
   "source": [
    "<h3>Alleen prognose</h3>\n",
    "\n",
    "We maken een apart dataframe voor de alleen-prognose modellen."
   ]
  },
  {
   "cell_type": "code",
   "execution_count": 79,
   "metadata": {
    "pycharm": {
     "name": "#%%\n"
    }
   },
   "outputs": [],
   "source": [
    "m1_df_prog = m1_df[[\"Prognose\", \"Target\"]].dropna()"
   ]
  },
  {
   "cell_type": "markdown",
   "metadata": {},
   "source": [
    "Eerder hebben we vastgesteld dat er een enorm sterk linear verband tussen de prognose en de target zit. We kunnen op basis hiervan een linear regressiemodel proberen te maken. Er vallen hier geen hyperparameters aan te passen."
   ]
  },
  {
   "cell_type": "code",
   "execution_count": 80,
   "metadata": {
    "pycharm": {
     "name": "#%%\n"
    }
   },
   "outputs": [
    {
     "data": {
      "text/plain": [
       "'In seconden heeft de lineare regressie op basis van alleen prognose een RMSE van 2329.5169250228932.'"
      ]
     },
     "execution_count": 80,
     "metadata": {},
     "output_type": "execute_result"
    }
   ],
   "source": [
    "X_train, X_test, y_train, y_test = model_selection.train_test_split(m1_df_prog[\"Prognose\"].values.reshape(-1, 1), m1_df_prog[\"Target\"], random_state=0)\n",
    "\n",
    "reg = LinearRegression().fit(X_train, y_train)\n",
    "y_pred = reg.predict(X_test)\n",
    "lin_RMSE = metrics.mean_squared_error(y_test, y_pred, squared=False)\n",
    "f\"In seconden heeft de lineare regressie op basis van alleen prognose een RMSE van {lin_RMSE}.\""
   ]
  },
  {
   "cell_type": "code",
   "execution_count": 81,
   "metadata": {
    "pycharm": {
     "name": "#%%\n"
    }
   },
   "outputs": [
    {
     "data": {
      "text/plain": [
       "'Ofwel 38.82528208371489 minuten.'"
      ]
     },
     "execution_count": 81,
     "metadata": {},
     "output_type": "execute_result"
    }
   ],
   "source": [
    "f\"Ofwel {convert_timeunit(lin_RMSE, TimeUnit.second, TimeUnit.minute)} minuten.\""
   ]
  },
  {
   "cell_type": "markdown",
   "metadata": {},
   "source": [
    "Dit is al een behoorlijke verbetering over de baseline. We slaan deze op in het models dataframe voor overzicht."
   ]
  },
  {
   "cell_type": "code",
   "execution_count": 82,
   "metadata": {
    "pycharm": {
     "name": "#%%\n"
    }
   },
   "outputs": [
    {
     "data": {
      "text/html": [
       "<div>\n",
       "<style scoped>\n",
       "    .dataframe tbody tr th:only-of-type {\n",
       "        vertical-align: middle;\n",
       "    }\n",
       "\n",
       "    .dataframe tbody tr th {\n",
       "        vertical-align: top;\n",
       "    }\n",
       "\n",
       "    .dataframe thead th {\n",
       "        text-align: right;\n",
       "    }\n",
       "</style>\n",
       "<table border=\"1\" class=\"dataframe\">\n",
       "  <thead>\n",
       "    <tr style=\"text-align: right;\">\n",
       "      <th></th>\n",
       "      <th>Title</th>\n",
       "      <th>Model</th>\n",
       "      <th>RMSE</th>\n",
       "    </tr>\n",
       "  </thead>\n",
       "  <tbody>\n",
       "    <tr>\n",
       "      <th>0</th>\n",
       "      <td>BaseLine model with mean strategy</td>\n",
       "      <td>DummyRegressor()</td>\n",
       "      <td>3904.892580</td>\n",
       "    </tr>\n",
       "    <tr>\n",
       "      <th>1</th>\n",
       "      <td>Linear regression with prognose only</td>\n",
       "      <td>LinearRegression()</td>\n",
       "      <td>2329.516925</td>\n",
       "    </tr>\n",
       "  </tbody>\n",
       "</table>\n",
       "</div>"
      ],
      "text/plain": [
       "                                  Title               Model         RMSE\n",
       "0     BaseLine model with mean strategy    DummyRegressor()  3904.892580\n",
       "1  Linear regression with prognose only  LinearRegression()  2329.516925"
      ]
     },
     "execution_count": 82,
     "metadata": {},
     "output_type": "execute_result"
    }
   ],
   "source": [
    "models = models.append({\"Title\": \"Linear regression with prognose only\",\n",
    "                        \"Model\": reg,\n",
    "                        \"RMSE\": lin_RMSE},\n",
    "                       ignore_index=True)\n",
    "models"
   ]
  },
  {
   "cell_type": "markdown",
   "metadata": {},
   "source": [
    "<h3>Meerdere features</h3>\n",
    "\n",
    "We hebben een aantal meer features waarmee we kunnen proberen de eerder behaalde score te verbeteren.\n",
    "\n",
    "We hebben in het selecteren van de featurevariabelen gezorgd dat er niet al te veel rijen met NaN-waardes zijn, dus deze kunnen we veilig verwijderen."
   ]
  },
  {
   "cell_type": "code",
   "execution_count": 83,
   "metadata": {
    "pycharm": {
     "name": "#%%\n"
    }
   },
   "outputs": [],
   "source": [
    "m1_df = m1_df.dropna()"
   ]
  },
  {
   "cell_type": "markdown",
   "metadata": {},
   "source": [
    "En we delen de Feature/Targetvariabelen weer op in een train en test dataset."
   ]
  },
  {
   "cell_type": "code",
   "execution_count": 84,
   "metadata": {
    "pycharm": {
     "name": "#%%\n"
    }
   },
   "outputs": [],
   "source": [
    "X_m1 = m1_df.drop(columns=\"Target\")\n",
    "y_m1 = m1_df[\"Target\"]"
   ]
  },
  {
   "cell_type": "code",
   "execution_count": 85,
   "metadata": {
    "pycharm": {
     "name": "#%%\n"
    }
   },
   "outputs": [],
   "source": [
    "X_m1_train, X_m1_test, y_m1_train, y_m1_test = model_selection.train_test_split(X_m1, y_m1, random_state=0)"
   ]
  },
  {
   "cell_type": "markdown",
   "metadata": {},
   "source": [
    "Een goed eerste regressiemodel om te proberen is weer een lineare regressie. We weten dat de prognose een sterk linear verband heeft met het targetvariabele, dus dit is een goed beginpunt."
   ]
  },
  {
   "cell_type": "code",
   "execution_count": 86,
   "metadata": {
    "pycharm": {
     "name": "#%%\n"
    }
   },
   "outputs": [
    {
     "data": {
      "text/plain": [
       "'Lineare regressie op basis van alle featurevariabelen heeft een RMSE van 38.533605315113235 minuten'"
      ]
     },
     "execution_count": 86,
     "metadata": {},
     "output_type": "execute_result"
    }
   ],
   "source": [
    "m1 = linear_model.LinearRegression()\n",
    "m1.fit(X_m1_train, y_m1_train)\n",
    "m1_lin_rmse = metrics.mean_squared_error(y_m1_test, m1.predict(X_m1_test), squared=False)\n",
    "f\"Lineare regressie op basis van alle featurevariabelen heeft een RMSE van {convert_timeunit(m1_lin_rmse, TimeUnit.second, TimeUnit.minute)} minuten\""
   ]
  },
  {
   "cell_type": "markdown",
   "metadata": {},
   "source": [
    "Dit model doet het miniscuul beter dan het vorige model. Toch slaan we deze voor het overzicht op in het models dataframe."
   ]
  },
  {
   "cell_type": "code",
   "execution_count": 87,
   "metadata": {
    "pycharm": {
     "name": "#%%\n"
    }
   },
   "outputs": [
    {
     "data": {
      "text/html": [
       "<div>\n",
       "<style scoped>\n",
       "    .dataframe tbody tr th:only-of-type {\n",
       "        vertical-align: middle;\n",
       "    }\n",
       "\n",
       "    .dataframe tbody tr th {\n",
       "        vertical-align: top;\n",
       "    }\n",
       "\n",
       "    .dataframe thead th {\n",
       "        text-align: right;\n",
       "    }\n",
       "</style>\n",
       "<table border=\"1\" class=\"dataframe\">\n",
       "  <thead>\n",
       "    <tr style=\"text-align: right;\">\n",
       "      <th></th>\n",
       "      <th>Title</th>\n",
       "      <th>Model</th>\n",
       "      <th>RMSE</th>\n",
       "    </tr>\n",
       "  </thead>\n",
       "  <tbody>\n",
       "    <tr>\n",
       "      <th>0</th>\n",
       "      <td>BaseLine model with mean strategy</td>\n",
       "      <td>DummyRegressor()</td>\n",
       "      <td>3904.892580</td>\n",
       "    </tr>\n",
       "    <tr>\n",
       "      <th>1</th>\n",
       "      <td>Linear regression with prognose only</td>\n",
       "      <td>LinearRegression()</td>\n",
       "      <td>2329.516925</td>\n",
       "    </tr>\n",
       "    <tr>\n",
       "      <th>2</th>\n",
       "      <td>Linear regression with all features</td>\n",
       "      <td>LinearRegression()</td>\n",
       "      <td>2312.016319</td>\n",
       "    </tr>\n",
       "  </tbody>\n",
       "</table>\n",
       "</div>"
      ],
      "text/plain": [
       "                                  Title               Model         RMSE\n",
       "0     BaseLine model with mean strategy    DummyRegressor()  3904.892580\n",
       "1  Linear regression with prognose only  LinearRegression()  2329.516925\n",
       "2   Linear regression with all features  LinearRegression()  2312.016319"
      ]
     },
     "execution_count": 87,
     "metadata": {},
     "output_type": "execute_result"
    }
   ],
   "source": [
    "models = models.append({\"Title\": \"Linear regression with all features\",\n",
    "                        \"Model\": m1,\n",
    "                        \"RMSE\": m1_lin_rmse},\n",
    "                       ignore_index=True)\n",
    "models"
   ]
  },
  {
   "cell_type": "markdown",
   "metadata": {},
   "source": [
    "Een interessant volgend regressiemodel om te proberen is polynome regressie. Features als tijdstip op de dag of dag in het jaar zullen eerder een complexere correlatie met het targetvariabele hebben dan een lineare. We kunnen een polynome regressie die maximaal tot de 2e macht gaat proberen, om te kijken of dit een betere score geeft.\n",
    "\n",
    "Op het moment is een hogere-orde polynoom niet mogelijk, omdat dit te veel werkgeheugen inneemt."
   ]
  },
  {
   "cell_type": "code",
   "execution_count": 88,
   "metadata": {
    "pycharm": {
     "name": "#%%\n"
    }
   },
   "outputs": [
    {
     "data": {
      "text/plain": [
       "'2e-machts polynome regressie op basis van alle featurevariabelen heeft een RMSE van 37.64460990265023 minuten.'"
      ]
     },
     "execution_count": 88,
     "metadata": {},
     "output_type": "execute_result"
    }
   ],
   "source": [
    "degree = 2\n",
    "\n",
    "polyreg = make_pipeline(PolynomialFeatures(degree), LinearRegression())\n",
    "\n",
    "polyreg.fit(X_m1_train,y_m1_train)\n",
    "polyreg_rmse = metrics.mean_squared_error(y_m1_test, polyreg.predict(X_m1_test), squared=False)\n",
    "f\"2e-machts polynome regressie op basis van alle featurevariabelen heeft een RMSE van {convert_timeunit(polyreg_rmse, TimeUnit.second, TimeUnit.minute)} minuten.\""
   ]
  },
  {
   "cell_type": "markdown",
   "metadata": {},
   "source": [
    "De score van dit model is miniscuul beter in vergelijking met de lineare regressie. Ook voegen we dit model aan het modelsvariabele toe."
   ]
  },
  {
   "cell_type": "code",
   "execution_count": 89,
   "metadata": {
    "pycharm": {
     "name": "#%%\n"
    }
   },
   "outputs": [
    {
     "data": {
      "text/html": [
       "<div>\n",
       "<style scoped>\n",
       "    .dataframe tbody tr th:only-of-type {\n",
       "        vertical-align: middle;\n",
       "    }\n",
       "\n",
       "    .dataframe tbody tr th {\n",
       "        vertical-align: top;\n",
       "    }\n",
       "\n",
       "    .dataframe thead th {\n",
       "        text-align: right;\n",
       "    }\n",
       "</style>\n",
       "<table border=\"1\" class=\"dataframe\">\n",
       "  <thead>\n",
       "    <tr style=\"text-align: right;\">\n",
       "      <th></th>\n",
       "      <th>Title</th>\n",
       "      <th>Model</th>\n",
       "      <th>RMSE</th>\n",
       "    </tr>\n",
       "  </thead>\n",
       "  <tbody>\n",
       "    <tr>\n",
       "      <th>0</th>\n",
       "      <td>BaseLine model with mean strategy</td>\n",
       "      <td>DummyRegressor()</td>\n",
       "      <td>3904.892580</td>\n",
       "    </tr>\n",
       "    <tr>\n",
       "      <th>1</th>\n",
       "      <td>Linear regression with prognose only</td>\n",
       "      <td>LinearRegression()</td>\n",
       "      <td>2329.516925</td>\n",
       "    </tr>\n",
       "    <tr>\n",
       "      <th>2</th>\n",
       "      <td>Linear regression with all features</td>\n",
       "      <td>LinearRegression()</td>\n",
       "      <td>2312.016319</td>\n",
       "    </tr>\n",
       "    <tr>\n",
       "      <th>3</th>\n",
       "      <td>Linear regression with all features</td>\n",
       "      <td>(PolynomialFeatures(), LinearRegression())</td>\n",
       "      <td>2258.676594</td>\n",
       "    </tr>\n",
       "  </tbody>\n",
       "</table>\n",
       "</div>"
      ],
      "text/plain": [
       "                                  Title  \\\n",
       "0     BaseLine model with mean strategy   \n",
       "1  Linear regression with prognose only   \n",
       "2   Linear regression with all features   \n",
       "3   Linear regression with all features   \n",
       "\n",
       "                                        Model         RMSE  \n",
       "0                            DummyRegressor()  3904.892580  \n",
       "1                          LinearRegression()  2329.516925  \n",
       "2                          LinearRegression()  2312.016319  \n",
       "3  (PolynomialFeatures(), LinearRegression())  2258.676594  "
      ]
     },
     "execution_count": 89,
     "metadata": {},
     "output_type": "execute_result"
    }
   ],
   "source": [
    "models = models.append({\"Title\": \"Linear regression with all features\",\n",
    "                        \"Model\": polyreg,\n",
    "                        \"RMSE\": polyreg_rmse},\n",
    "                       ignore_index=True)\n",
    "models"
   ]
  },
  {
   "cell_type": "markdown",
   "metadata": {},
   "source": [
    "Hoewel er geen overduidelijke reden is waarom een Decision Tree Regressor beter zou werken, kunnen dit soort dingen toch onverwacht soms gebeuren. We proberen een menig aantal verschillende maximale dieptes als hypterparameter, en plotten de score op zowel de testset als de trainset van deze. De score op de testset is hier leidend voor modelscore, maar de score op de trainset kan een gevoel voor overfitting geven."
   ]
  },
  {
   "cell_type": "code",
   "execution_count": 90,
   "metadata": {
    "pycharm": {
     "name": "#%%\n"
    }
   },
   "outputs": [
    {
     "data": {
      "text/plain": [
       "Text(0.5, 1.0, 'Max depth setting vs. RMSE.')"
      ]
     },
     "execution_count": 90,
     "metadata": {},
     "output_type": "execute_result"
    },
    {
     "data": {
      "image/png": "[encoded data removed]",
      "text/plain": [
       "<Figure size 432x288 with 1 Axes>"
      ]
     },
     "metadata": {
      "needs_background": "light"
     },
     "output_type": "display_data"
    }
   ],
   "source": [
    "max_depths = np.arange(2, 40)                                                                                                          # Generate max depths to create tree at.\n",
    "\n",
    "m1_trees = np.vectorize(lambda mx: tree.DecisionTreeRegressor(max_depth=mx))(max_depths)                                               # Create trees\n",
    "m1_trees = np.vectorize(lambda m: m.fit(X_m1_train, y_m1_train))(m1_trees)                                                             # Fit trees\n",
    "m1_trees_train_score = np.vectorize(lambda m: metrics.mean_squared_error(y_m1_train, m.predict(X_m1_train), squared=False))(m1_trees)  # Score trees on train set.\n",
    "m1_trees_test_score = np.vectorize(lambda m: metrics.mean_squared_error(y_m1_test, m.predict(X_m1_test), squared=False))(m1_trees)     # Score trees on test set.\n",
    "\n",
    "fig, ax = plt.subplots()\n",
    "ax.plot(max_depths, m1_trees_train_score, \"rx-\")\n",
    "ax.plot(max_depths, m1_trees_test_score, \"bx-\")\n",
    "ax.set_ylabel(\"RMSE in seconden.\")\n",
    "ax.set_xlabel(\"Max depth.\")\n",
    "ax.legend([\"Train dataset\", \"Test dataset.\"])\n",
    "ax.set_title(\"Max depth setting vs. RMSE.\")"
   ]
  },
  {
   "cell_type": "markdown",
   "metadata": {},
   "source": [
    "Een max depth van 15 lijkt een goede RMSE te hebben. Deze slaan we ook op."
   ]
  },
  {
   "cell_type": "code",
   "execution_count": 91,
   "metadata": {
    "pycharm": {
     "name": "#%%\n"
    }
   },
   "outputs": [
    {
     "data": {
      "text/html": [
       "<div>\n",
       "<style scoped>\n",
       "    .dataframe tbody tr th:only-of-type {\n",
       "        vertical-align: middle;\n",
       "    }\n",
       "\n",
       "    .dataframe tbody tr th {\n",
       "        vertical-align: top;\n",
       "    }\n",
       "\n",
       "    .dataframe thead th {\n",
       "        text-align: right;\n",
       "    }\n",
       "</style>\n",
       "<table border=\"1\" class=\"dataframe\">\n",
       "  <thead>\n",
       "    <tr style=\"text-align: right;\">\n",
       "      <th></th>\n",
       "      <th>Title</th>\n",
       "      <th>Model</th>\n",
       "      <th>RMSE</th>\n",
       "    </tr>\n",
       "  </thead>\n",
       "  <tbody>\n",
       "    <tr>\n",
       "      <th>0</th>\n",
       "      <td>BaseLine model with mean strategy</td>\n",
       "      <td>DummyRegressor()</td>\n",
       "      <td>3904.892580</td>\n",
       "    </tr>\n",
       "    <tr>\n",
       "      <th>1</th>\n",
       "      <td>Linear regression with prognose only</td>\n",
       "      <td>LinearRegression()</td>\n",
       "      <td>2329.516925</td>\n",
       "    </tr>\n",
       "    <tr>\n",
       "      <th>2</th>\n",
       "      <td>Linear regression with all features</td>\n",
       "      <td>LinearRegression()</td>\n",
       "      <td>2312.016319</td>\n",
       "    </tr>\n",
       "    <tr>\n",
       "      <th>3</th>\n",
       "      <td>Linear regression with all features</td>\n",
       "      <td>(PolynomialFeatures(), LinearRegression())</td>\n",
       "      <td>2258.676594</td>\n",
       "    </tr>\n",
       "    <tr>\n",
       "      <th>4</th>\n",
       "      <td>Decision tree regression with all features</td>\n",
       "      <td>DecisionTreeRegressor(max_depth=15)</td>\n",
       "      <td>2212.466061</td>\n",
       "    </tr>\n",
       "  </tbody>\n",
       "</table>\n",
       "</div>"
      ],
      "text/plain": [
       "                                        Title  \\\n",
       "0           BaseLine model with mean strategy   \n",
       "1        Linear regression with prognose only   \n",
       "2         Linear regression with all features   \n",
       "3         Linear regression with all features   \n",
       "4  Decision tree regression with all features   \n",
       "\n",
       "                                        Model         RMSE  \n",
       "0                            DummyRegressor()  3904.892580  \n",
       "1                          LinearRegression()  2329.516925  \n",
       "2                          LinearRegression()  2312.016319  \n",
       "3  (PolynomialFeatures(), LinearRegression())  2258.676594  \n",
       "4         DecisionTreeRegressor(max_depth=15)  2212.466061  "
      ]
     },
     "execution_count": 91,
     "metadata": {},
     "output_type": "execute_result"
    }
   ],
   "source": [
    "models = models.append({\"Title\": \"Decision tree regression with all features\",\n",
    "                        \"Model\": m1_trees[13],\n",
    "                        \"RMSE\": m1_trees_test_score[13]},\n",
    "                       ignore_index=True)\n",
    "models"
   ]
  },
  {
   "cell_type": "code",
   "execution_count": 93,
   "metadata": {
    "pycharm": {
     "name": "#%%\n"
    }
   },
   "outputs": [
    {
     "data": {
      "text/plain": [
       "'Een decision tree regressor met een max depth van 15 heeft een RMSE van 36.87443434244716.'"
      ]
     },
     "execution_count": 93,
     "metadata": {},
     "output_type": "execute_result"
    }
   ],
   "source": [
    "f\"Een decision tree regressor met een max depth van 15 heeft een RMSE van {convert_timeunit(models.loc[4, 'RMSE'], TimeUnit.second, TimeUnit.minute)}.\""
   ]
  },
  {
   "cell_type": "markdown",
   "metadata": {},
   "source": [
    "Tot nu toe heeft dit model te beste score, hoewel het weer een miniscule verbetering is."
   ]
  },
  {
   "cell_type": "markdown",
   "metadata": {},
   "source": [
    "<h2>Evaluatie</h2>\n",
    "\n",
    "Hoewel het geen ML-model is, kunnen we de prognose van de aannemer ook als een soort model/voorspelling behandelen, en hier de RMSE van uitrekenen."
   ]
  },
  {
   "cell_type": "code",
   "execution_count": 94,
   "metadata": {
    "pycharm": {
     "name": "#%%\n"
    }
   },
   "outputs": [
    {
     "data": {
      "text/plain": [
       "'De prognose van de aannemer heeft een RMSE van 45.62619626079762 minuten.'"
      ]
     },
     "execution_count": 94,
     "metadata": {},
     "output_type": "execute_result"
    }
   ],
   "source": [
    "prog_rmse = metrics.mean_squared_error(m1_df['Target'], m1_df['Prognose'], squared=False)\n",
    "f\"De prognose van de aannemer heeft een RMSE van {convert_timeunit(prog_rmse, TimeUnit.second, TimeUnit.minute)} minuten.\""
   ]
  },
  {
   "cell_type": "markdown",
   "metadata": {},
   "source": [
    "Welke vervolgens dus ook in het models variabele opgeslagen kan, voor een definitief overzicht."
   ]
  },
  {
   "cell_type": "code",
   "execution_count": 95,
   "metadata": {
    "pycharm": {
     "name": "#%%\n"
    }
   },
   "outputs": [
    {
     "data": {
      "text/html": [
       "<div>\n",
       "<style scoped>\n",
       "    .dataframe tbody tr th:only-of-type {\n",
       "        vertical-align: middle;\n",
       "    }\n",
       "\n",
       "    .dataframe tbody tr th {\n",
       "        vertical-align: top;\n",
       "    }\n",
       "\n",
       "    .dataframe thead th {\n",
       "        text-align: right;\n",
       "    }\n",
       "</style>\n",
       "<table border=\"1\" class=\"dataframe\">\n",
       "  <thead>\n",
       "    <tr style=\"text-align: right;\">\n",
       "      <th></th>\n",
       "      <th>Title</th>\n",
       "      <th>Model</th>\n",
       "      <th>RMSE</th>\n",
       "    </tr>\n",
       "  </thead>\n",
       "  <tbody>\n",
       "    <tr>\n",
       "      <th>0</th>\n",
       "      <td>BaseLine model with mean strategy</td>\n",
       "      <td>DummyRegressor()</td>\n",
       "      <td>3904.892580</td>\n",
       "    </tr>\n",
       "    <tr>\n",
       "      <th>1</th>\n",
       "      <td>Linear regression with prognose only</td>\n",
       "      <td>LinearRegression()</td>\n",
       "      <td>2329.516925</td>\n",
       "    </tr>\n",
       "    <tr>\n",
       "      <th>2</th>\n",
       "      <td>Linear regression with all features</td>\n",
       "      <td>LinearRegression()</td>\n",
       "      <td>2312.016319</td>\n",
       "    </tr>\n",
       "    <tr>\n",
       "      <th>3</th>\n",
       "      <td>Linear regression with all features</td>\n",
       "      <td>(PolynomialFeatures(), LinearRegression())</td>\n",
       "      <td>2258.676594</td>\n",
       "    </tr>\n",
       "    <tr>\n",
       "      <th>4</th>\n",
       "      <td>Decision tree regression with all features</td>\n",
       "      <td>DecisionTreeRegressor(max_depth=15)</td>\n",
       "      <td>2212.466061</td>\n",
       "    </tr>\n",
       "    <tr>\n",
       "      <th>5</th>\n",
       "      <td>Prognose aannemer</td>\n",
       "      <td>None</td>\n",
       "      <td>2737.571776</td>\n",
       "    </tr>\n",
       "  </tbody>\n",
       "</table>\n",
       "</div>"
      ],
      "text/plain": [
       "                                        Title  \\\n",
       "0           BaseLine model with mean strategy   \n",
       "1        Linear regression with prognose only   \n",
       "2         Linear regression with all features   \n",
       "3         Linear regression with all features   \n",
       "4  Decision tree regression with all features   \n",
       "5                           Prognose aannemer   \n",
       "\n",
       "                                        Model         RMSE  \n",
       "0                            DummyRegressor()  3904.892580  \n",
       "1                          LinearRegression()  2329.516925  \n",
       "2                          LinearRegression()  2312.016319  \n",
       "3  (PolynomialFeatures(), LinearRegression())  2258.676594  \n",
       "4         DecisionTreeRegressor(max_depth=15)  2212.466061  \n",
       "5                                        None  2737.571776  "
      ]
     },
     "execution_count": 95,
     "metadata": {},
     "output_type": "execute_result"
    }
   ],
   "source": [
    "models = models.append({\"Title\": \"Prognose aannemer\",\n",
    "                        \"Model\": None,\n",
    "                        \"RMSE\": prog_rmse},\n",
    "                       ignore_index=True)\n",
    "models"
   ]
  },
  {
   "cell_type": "markdown",
   "metadata": {},
   "source": [
    "Om goed de gecreeërde modellen te kunnen evalueren, is het handig de doelstelling van dit onderzoek terug te halen.\n",
    "\n",
    "<b>Het doel is om betere prognoses te doen dan de aannemer.</b>.\n",
    "\n",
    "De prognose van de aannemer heeft een RMSE van ongeveer 45 minuten.\n",
    "We hebben deze echter, met een lineare regressie gebaseerd op alleen de prognose van de aannemer, gereduceerd naar ongeveer 38 minuten. Hiermee hebben we ontdekt dat hoewel de aannemer vaak pessimistisch is, zij redelijk voorspelbaar pessimischtisch is, waardoor hier makkelijk op verbeterd kan op een redelijk transparante wijze.\n",
    "\n",
    "Ook hebben we ontdekt dat met het toevoegen van een aantal variabelen:\n",
    "\n",
    "<ol>\n",
    "<li>Tijdstip op de dag</li>\n",
    "<li>Dag in het jaar</li>\n",
    "<li>Contractgebied</li>\n",
    "<li>Techniekveld</li>\n",
    "</ol>\n",
    "\n",
    "Dit nog op miniscule wijze verbeterd kan, naar een RMSE van ongeveer 36 minuten.\n",
    "\n",
    "Omdat dit zo weinig oplevert, en het de transparantie verminderd, kiezen wij ervoor het lineare regressiemodel naar productie te brengen.\n",
    "\n",
    "<h2>Deployment</h2>"
   ]
  },
  {
   "cell_type": "code",
   "execution_count": 96,
   "metadata": {
    "pycharm": {
     "name": "#%%\n"
    }
   },
   "outputs": [],
   "source": [
    "#filename = 'linear_reg.pkl'\n",
    "#pickle.dump(reg, open(filename, 'wb'))"
   ]
  }
 ],
 "metadata": {
  "interpreter": {
   "hash": "b3ba2566441a7c06988d0923437866b63cedc61552a5af99d1f4fb67d367b25f"
  },
  "kernelspec": {
   "display_name": "Python 3",
   "language": "python",
   "name": "python3"
  },
  "language_info": {
   "codemirror_mode": {
    "name": "ipython",
    "version": 3
   },
   "file_extension": ".py",
   "mimetype": "text/x-python",
   "name": "python",
   "nbconvert_exporter": "python",
   "pygments_lexer": "ipython3",
   "version": "3.8.8"
  }
 },
 "nbformat": 4,
 "nbformat_minor": 1
}
