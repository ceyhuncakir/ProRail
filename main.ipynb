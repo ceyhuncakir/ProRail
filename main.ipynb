{
 "cells": [
  {
   "cell_type": "markdown",
   "metadata": {
    "collapsed": false
   },
   "source": [
    "<h1>TITEL TBD</h1>\n",
    "\n",
    "Om nuttige voorspellingen te doen, moet eerst bepaald worden wat voorspeld moet worden. Dit document in bedoelt om later in het hoofd-document in integreren, maar is voor nu stand-alone, en dekt de Business-Understanding, Data-Understanding en (gedeeltelijk) Data-Preparation voor het target variabele af.\n",
    "\n",
    "<h2>Target variabele.</h2>\n",
    "\n",
    "<h3>Business understanding</h3>\n",
    "\n",
    "Door de interviews met onze business-expert hebben begrepen dat het voorspellen van momemt van 'functieherstel' toegevoegde waarde voor ProRail zou hebben. Dit is het moment dat een traject weer klaar is om treinverkeer toe te staan. Via ProRail hebben wij dit diagram aangeleverd gekregen, wat inzicht geeft in het bedrijfsprocess:\n",
    "\n",
    "![title](images/badkuip.png)\n",
    "De X-as beslaat tijd, en de Y-as hoeveelheid treinverkeer (beiden non-proportioneel). Dit model zal naar gerefereerd worden als 'badkuip model'.\n",
    "\n",
    "Functieherstel staat niet expliciet benoemd in dit model, maar vind plaats in de buurt van het \"Storing-Eind\" moment, en wanneer de lijn weer omhoog begint te bewegen op de Y-as.\n",
    "\n",
    "ProRail baat bij een goede voorspelling wat betreft moment van functieherstel, zodat ze kunnen zorgen dat het opstarten van de dienstregeling zo goed mogelijk hierop kan aansluiten.\n",
    "\n",
    "Uit de interviews blijkt dat de gegevens die waarschijnlijk tot een goede prognose leiden waarschijnlijk pas beschikbaar zijn wanneer een aannemer ter plekke is, in het badkuipmodel benoemd als \"oplosteam aanwezig\". Als het goed is zijn zowel het tijdstip van aankomst van de monteur, als het tijdstip van functieherstel aanwezig in de dataset, hoewel dit later in 'Data Understanding' bevestigd moet worden.\n",
    "\n",
    "De verstreken tijd tussen de melding van een incident, en het moment dat een oplosteam aanwezig is is sterk variabel. Hoewel dit in de toekomst wellicht ook te voorspellen zou zijn met een model, beperken wij in onze huidige aanpak tot het voorspellen van 'aankomst aannemer' tot 'functieherstel', omdat dat volgens onze huidige business-kennis het best voorspelbaar is aan de hand van de attributen van een specifieke storing.\n",
    "\n",
    "<h3>Data Understanding.</h3>\n",
    "\n",
    "Om de mogelijkheid van het implementeren van het targetvariabele van (tijdstip functieherstel) - (tijdstip aankomst aannemer) te onderzoeken, moet de data geïnspecteerd om te bepalen of dit ook echt realistisch is. Hiervoor onderzoeken we de eerder benoemde hypothese voor targetvariabele, en eventuele variabelen die hier concurrentie voor zouden kunnen zijn, of meer inzicht zouden kunnen geven.\n",
    "\n",
    "We beginnen met het importeren van een aantal libraries, en de dataset:"
   ]
  },
  {
   "cell_type": "code",
   "execution_count": 119,
   "metadata": {
    "collapsed": true
   },
   "outputs": [],
   "source": [
    "import enum\n",
    "\n",
    "import numpy as np\n",
    "import pandas as pd\n",
    "import matplotlib.pyplot as plt\n",
    "import seaborn as sns\n",
    "\n",
    "from sklearn import metrics\n",
    "from sklearn import dummy\n",
    "from sklearn import linear_model\n",
    "from sklearn import model_selection\n",
    "from sklearn import tree"
   ]
  },
  {
   "cell_type": "code",
   "execution_count": 51,
   "metadata": {
    "collapsed": false,
    "pycharm": {
     "name": "#%%\n"
    }
   },
   "outputs": [
    {
     "name": "stderr",
     "output_type": "stream",
     "text": [
      "C:\\anaconda\\lib\\site-packages\\IPython\\core\\interactiveshell.py:3165: DtypeWarning: Columns (0,11,19,21,24,25,27,32,33,36,37,38,39,40,46,47,48,49,51,53,55,56,60,73,75,78,80,82,83,86,87,91,95,99,102,103,104,107,108,109,110,111,112,113,116,118,119,120,121,122,123,124,129) have mixed types.Specify dtype option on import or set low_memory=False.\n",
      "  has_raised = await self.run_ast_nodes(code_ast.body, cell_name,\n"
     ]
    },
    {
     "data": {
      "text/plain": "       Unnamed: 0  #stm_sap_meldnr  stm_mon_nr stm_vl_post  \\\n0               0                0         NaN         NaN   \n1               1         50053211         0.0         NaN   \n2               2         50053213        48.0          GN   \n3               3         50053214        72.0          ZL   \n4               4         50053215        96.0          ZL   \n...           ...              ...         ...         ...   \n898521     908625         99003505         0.0         NaN   \n898522     908626         99003506         0.0         NaN   \n898523     908627         99003506         0.0         NaN   \n898524     908628         99999999         0.0         NaN   \n898525     908629         99999999         0.0         NaN   \n\n           stm_sap_meld_ddt stm_sap_mon_meld_ddt  \\\n0                       NaN                  NaN   \n1       02/01/2006 09:00:00  02/01/2006 09:00:00   \n2       02/01/2006 12:35:00  02/01/2006 12:35:00   \n3       02/01/2006 16:40:00  02/01/2006 16:40:00   \n4       02/01/2006 22:30:00  02/01/2006 22:30:00   \n...                     ...                  ...   \n898521  11/05/2013 08:06:00  11/05/2013 08:06:00   \n898522  11/05/2013 09:21:00  11/05/2013 09:21:00   \n898523  11/05/2013 09:21:00  11/05/2013 09:21:00   \n898524  20/08/2016 14:15:17  20/08/2016 14:15:17   \n898525  20/08/2016 14:15:17  20/08/2016 14:15:17   \n\n                                   stm_sap_meldtekst_lang  \\\n0                                                     NaN   \n1        Logboeknr  Geeltje  :   49 Tijd: 0900   VL-Po...   \n2        Logboeknr  RBV  :   48 Tijd: 1235   VL-Post: ...   \n3        Logboeknr  RBV  :   72 Tijd: 1640   VL-Post: ...   \n4        Logboeknr  RBV  :   96 Tijd: 2230   VL-Post: ...   \n...                                                   ...   \n898521   GVC : sp-2 en 3  stop lampen op de stootjukke...   \n898522   Whz : Ovw 100.1 albert Plesmanweg blijft  dic...   \n898523   Whz : Ovw 100.1 albert Plesmanweg blijft  dic...   \n898524  Bdg-Apn : Km 12.7 twee gedode zwanen langs het...   \n898525  Bdg-Apn : Km 12.7 twee gedode zwanen langs het...   \n\n          stm_mon_begin_ddt                         stm_sap_meldtekst  \\\n0                       NaN                                       NaN   \n1                       NaN     Logboeknr  Geeltje  :   49 Tijd: 0900   \n2       02/01/2006 12:35:00  Logboeknr  RBV  :   48 Tijd: 1235   VL-P   \n3       02/01/2006 16:40:00  Logboeknr  RBV  :   72 Tijd: 1640   VL-P   \n4       02/01/2006 22:30:00  Logboeknr  RBV  :   96 Tijd: 2230   VL-P   \n...                     ...                                       ...   \n898521                  NaN  GVC : sp-2 en 3  stop lampen op de stoot   \n898522                  NaN  Whz : Ovw 100.1 albert Plesmanweg blijft   \n898523                  NaN  Whz : Ovw 100.1 albert Plesmanweg blijft   \n898524                  NaN  Bdg-Apn : Km 12.7 twee gedode zwanen lan   \n898525                  NaN  Bdg-Apn : Km 12.7 twee gedode zwanen lan   \n\n       stm_mon_toelichting_trdl  ... stm_rapportage_maand stm_rapportage_jaar  \\\n0                           NaN  ...                    5                2014   \n1                           NaN  ...                    1                2006   \n2                           NaN  ...                    1                2006   \n3                           NaN  ...                    1                2006   \n4                           NaN  ...                    1                2006   \n...                         ...  ...                  ...                 ...   \n898521                      NaN  ...                    8                2013   \n898522                      NaN  ...                    5                2013   \n898523                      NaN  ...                    8                2013   \n898524                      NaN  ...                    8                2016   \n898525                      NaN  ...                   10                2016   \n\n         stm_x_bron_publ_dt  \\\n0       07/05/2014 05:30:12   \n1       02/01/2006 09:00:00   \n2       02/01/2006 12:35:00   \n3       02/01/2006 16:40:00   \n4       02/01/2006 22:30:00   \n...                     ...   \n898521  05/08/2013 01:00:16   \n898522  11/05/2013 09:21:00   \n898523  05/08/2013 01:00:16   \n898524  23/08/2016 06:00:19   \n898525  24/10/2016 06:00:11   \n\n                                  stm_x_bron_bestandsnaam  \\\n0       \\\\PUHAPS0149\\Informatica_Prod\\Inbox\\Informatic...   \n1       \\\\PUHAPS0149\\Informatica_Prod\\Inbox\\Informatic...   \n2       \\\\PUHAPS0149\\Informatica_Prod\\Inbox\\Informatic...   \n3       \\\\PUHAPS0149\\Informatica_Prod\\Inbox\\Informatic...   \n4       \\\\PUHAPS0149\\Informatica_Prod\\Inbox\\Informatic...   \n...                                                   ...   \n898521  \\\\PUHAPS0149\\Informatica_Prod\\Inbox\\Informatic...   \n898522  \\\\PUHAPS0149\\Informatica_Prod\\Inbox\\Informatic...   \n898523  \\\\PUHAPS0149\\Informatica_Prod\\Inbox\\Informatic...   \n898524  \\\\PUHAPS0149\\Informatica_Prod\\Inbox\\Informatic...   \n898525  \\\\PUHAPS0149\\Informatica_Prod\\Inbox\\Informatic...   \n\n         stm_x_bron_arch_dt stm_x_actueel_ind  stm_x_run_id  stm_x_bk  \\\n0       31/12/9999 00:00:00                 1         34415   3617016   \n1       31/12/9999 00:00:00                 1          1518  12704590   \n2       31/12/9999 00:00:00                 1          1518  12704591   \n3       31/12/9999 00:00:00                 1          1518  12704592   \n4       31/12/9999 00:00:00                 1          1518  12704593   \n...                     ...               ...           ...       ...   \n898521  31/12/9999 00:00:00                 1          3344  12759543   \n898522  05/08/2013 01:00:16                 0          1518  12759544   \n898523  31/12/9999 00:00:00                 1          3344  12759544   \n898524  24/10/2016 06:00:11                 0        450213   3710373   \n898525  31/12/9999 00:00:00                 1        490063   3710373   \n\n        stm_x_start_sessie_dt stm_x_vervallen_ind  \n0         07/05/2014 05:44:24                   0  \n1         13/06/2013 13:37:52                   0  \n2         13/06/2013 13:37:52                   0  \n3         13/06/2013 13:37:52                   0  \n4         13/06/2013 13:37:52                   0  \n...                       ...                 ...  \n898521    05/08/2013 01:30:37                   0  \n898522    13/06/2013 13:37:52                   0  \n898523    05/08/2013 01:30:37                   0  \n898524    01/09/2016 06:09:38                   0  \n898525    24/10/2016 06:11:40                   0  \n\n[898526 rows x 140 columns]",
      "text/html": "<div>\n<style scoped>\n    .dataframe tbody tr th:only-of-type {\n        vertical-align: middle;\n    }\n\n    .dataframe tbody tr th {\n        vertical-align: top;\n    }\n\n    .dataframe thead th {\n        text-align: right;\n    }\n</style>\n<table border=\"1\" class=\"dataframe\">\n  <thead>\n    <tr style=\"text-align: right;\">\n      <th></th>\n      <th>Unnamed: 0</th>\n      <th>#stm_sap_meldnr</th>\n      <th>stm_mon_nr</th>\n      <th>stm_vl_post</th>\n      <th>stm_sap_meld_ddt</th>\n      <th>stm_sap_mon_meld_ddt</th>\n      <th>stm_sap_meldtekst_lang</th>\n      <th>stm_mon_begin_ddt</th>\n      <th>stm_sap_meldtekst</th>\n      <th>stm_mon_toelichting_trdl</th>\n      <th>...</th>\n      <th>stm_rapportage_maand</th>\n      <th>stm_rapportage_jaar</th>\n      <th>stm_x_bron_publ_dt</th>\n      <th>stm_x_bron_bestandsnaam</th>\n      <th>stm_x_bron_arch_dt</th>\n      <th>stm_x_actueel_ind</th>\n      <th>stm_x_run_id</th>\n      <th>stm_x_bk</th>\n      <th>stm_x_start_sessie_dt</th>\n      <th>stm_x_vervallen_ind</th>\n    </tr>\n  </thead>\n  <tbody>\n    <tr>\n      <th>0</th>\n      <td>0</td>\n      <td>0</td>\n      <td>NaN</td>\n      <td>NaN</td>\n      <td>NaN</td>\n      <td>NaN</td>\n      <td>NaN</td>\n      <td>NaN</td>\n      <td>NaN</td>\n      <td>NaN</td>\n      <td>...</td>\n      <td>5</td>\n      <td>2014</td>\n      <td>07/05/2014 05:30:12</td>\n      <td>\\\\PUHAPS0149\\Informatica_Prod\\Inbox\\Informatic...</td>\n      <td>31/12/9999 00:00:00</td>\n      <td>1</td>\n      <td>34415</td>\n      <td>3617016</td>\n      <td>07/05/2014 05:44:24</td>\n      <td>0</td>\n    </tr>\n    <tr>\n      <th>1</th>\n      <td>1</td>\n      <td>50053211</td>\n      <td>0.0</td>\n      <td>NaN</td>\n      <td>02/01/2006 09:00:00</td>\n      <td>02/01/2006 09:00:00</td>\n      <td>Logboeknr  Geeltje  :   49 Tijd: 0900   VL-Po...</td>\n      <td>NaN</td>\n      <td>Logboeknr  Geeltje  :   49 Tijd: 0900</td>\n      <td>NaN</td>\n      <td>...</td>\n      <td>1</td>\n      <td>2006</td>\n      <td>02/01/2006 09:00:00</td>\n      <td>\\\\PUHAPS0149\\Informatica_Prod\\Inbox\\Informatic...</td>\n      <td>31/12/9999 00:00:00</td>\n      <td>1</td>\n      <td>1518</td>\n      <td>12704590</td>\n      <td>13/06/2013 13:37:52</td>\n      <td>0</td>\n    </tr>\n    <tr>\n      <th>2</th>\n      <td>2</td>\n      <td>50053213</td>\n      <td>48.0</td>\n      <td>GN</td>\n      <td>02/01/2006 12:35:00</td>\n      <td>02/01/2006 12:35:00</td>\n      <td>Logboeknr  RBV  :   48 Tijd: 1235   VL-Post: ...</td>\n      <td>02/01/2006 12:35:00</td>\n      <td>Logboeknr  RBV  :   48 Tijd: 1235   VL-P</td>\n      <td>NaN</td>\n      <td>...</td>\n      <td>1</td>\n      <td>2006</td>\n      <td>02/01/2006 12:35:00</td>\n      <td>\\\\PUHAPS0149\\Informatica_Prod\\Inbox\\Informatic...</td>\n      <td>31/12/9999 00:00:00</td>\n      <td>1</td>\n      <td>1518</td>\n      <td>12704591</td>\n      <td>13/06/2013 13:37:52</td>\n      <td>0</td>\n    </tr>\n    <tr>\n      <th>3</th>\n      <td>3</td>\n      <td>50053214</td>\n      <td>72.0</td>\n      <td>ZL</td>\n      <td>02/01/2006 16:40:00</td>\n      <td>02/01/2006 16:40:00</td>\n      <td>Logboeknr  RBV  :   72 Tijd: 1640   VL-Post: ...</td>\n      <td>02/01/2006 16:40:00</td>\n      <td>Logboeknr  RBV  :   72 Tijd: 1640   VL-P</td>\n      <td>NaN</td>\n      <td>...</td>\n      <td>1</td>\n      <td>2006</td>\n      <td>02/01/2006 16:40:00</td>\n      <td>\\\\PUHAPS0149\\Informatica_Prod\\Inbox\\Informatic...</td>\n      <td>31/12/9999 00:00:00</td>\n      <td>1</td>\n      <td>1518</td>\n      <td>12704592</td>\n      <td>13/06/2013 13:37:52</td>\n      <td>0</td>\n    </tr>\n    <tr>\n      <th>4</th>\n      <td>4</td>\n      <td>50053215</td>\n      <td>96.0</td>\n      <td>ZL</td>\n      <td>02/01/2006 22:30:00</td>\n      <td>02/01/2006 22:30:00</td>\n      <td>Logboeknr  RBV  :   96 Tijd: 2230   VL-Post: ...</td>\n      <td>02/01/2006 22:30:00</td>\n      <td>Logboeknr  RBV  :   96 Tijd: 2230   VL-P</td>\n      <td>NaN</td>\n      <td>...</td>\n      <td>1</td>\n      <td>2006</td>\n      <td>02/01/2006 22:30:00</td>\n      <td>\\\\PUHAPS0149\\Informatica_Prod\\Inbox\\Informatic...</td>\n      <td>31/12/9999 00:00:00</td>\n      <td>1</td>\n      <td>1518</td>\n      <td>12704593</td>\n      <td>13/06/2013 13:37:52</td>\n      <td>0</td>\n    </tr>\n    <tr>\n      <th>...</th>\n      <td>...</td>\n      <td>...</td>\n      <td>...</td>\n      <td>...</td>\n      <td>...</td>\n      <td>...</td>\n      <td>...</td>\n      <td>...</td>\n      <td>...</td>\n      <td>...</td>\n      <td>...</td>\n      <td>...</td>\n      <td>...</td>\n      <td>...</td>\n      <td>...</td>\n      <td>...</td>\n      <td>...</td>\n      <td>...</td>\n      <td>...</td>\n      <td>...</td>\n      <td>...</td>\n    </tr>\n    <tr>\n      <th>898521</th>\n      <td>908625</td>\n      <td>99003505</td>\n      <td>0.0</td>\n      <td>NaN</td>\n      <td>11/05/2013 08:06:00</td>\n      <td>11/05/2013 08:06:00</td>\n      <td>GVC : sp-2 en 3  stop lampen op de stootjukke...</td>\n      <td>NaN</td>\n      <td>GVC : sp-2 en 3  stop lampen op de stoot</td>\n      <td>NaN</td>\n      <td>...</td>\n      <td>8</td>\n      <td>2013</td>\n      <td>05/08/2013 01:00:16</td>\n      <td>\\\\PUHAPS0149\\Informatica_Prod\\Inbox\\Informatic...</td>\n      <td>31/12/9999 00:00:00</td>\n      <td>1</td>\n      <td>3344</td>\n      <td>12759543</td>\n      <td>05/08/2013 01:30:37</td>\n      <td>0</td>\n    </tr>\n    <tr>\n      <th>898522</th>\n      <td>908626</td>\n      <td>99003506</td>\n      <td>0.0</td>\n      <td>NaN</td>\n      <td>11/05/2013 09:21:00</td>\n      <td>11/05/2013 09:21:00</td>\n      <td>Whz : Ovw 100.1 albert Plesmanweg blijft  dic...</td>\n      <td>NaN</td>\n      <td>Whz : Ovw 100.1 albert Plesmanweg blijft</td>\n      <td>NaN</td>\n      <td>...</td>\n      <td>5</td>\n      <td>2013</td>\n      <td>11/05/2013 09:21:00</td>\n      <td>\\\\PUHAPS0149\\Informatica_Prod\\Inbox\\Informatic...</td>\n      <td>05/08/2013 01:00:16</td>\n      <td>0</td>\n      <td>1518</td>\n      <td>12759544</td>\n      <td>13/06/2013 13:37:52</td>\n      <td>0</td>\n    </tr>\n    <tr>\n      <th>898523</th>\n      <td>908627</td>\n      <td>99003506</td>\n      <td>0.0</td>\n      <td>NaN</td>\n      <td>11/05/2013 09:21:00</td>\n      <td>11/05/2013 09:21:00</td>\n      <td>Whz : Ovw 100.1 albert Plesmanweg blijft  dic...</td>\n      <td>NaN</td>\n      <td>Whz : Ovw 100.1 albert Plesmanweg blijft</td>\n      <td>NaN</td>\n      <td>...</td>\n      <td>8</td>\n      <td>2013</td>\n      <td>05/08/2013 01:00:16</td>\n      <td>\\\\PUHAPS0149\\Informatica_Prod\\Inbox\\Informatic...</td>\n      <td>31/12/9999 00:00:00</td>\n      <td>1</td>\n      <td>3344</td>\n      <td>12759544</td>\n      <td>05/08/2013 01:30:37</td>\n      <td>0</td>\n    </tr>\n    <tr>\n      <th>898524</th>\n      <td>908628</td>\n      <td>99999999</td>\n      <td>0.0</td>\n      <td>NaN</td>\n      <td>20/08/2016 14:15:17</td>\n      <td>20/08/2016 14:15:17</td>\n      <td>Bdg-Apn : Km 12.7 twee gedode zwanen langs het...</td>\n      <td>NaN</td>\n      <td>Bdg-Apn : Km 12.7 twee gedode zwanen lan</td>\n      <td>NaN</td>\n      <td>...</td>\n      <td>8</td>\n      <td>2016</td>\n      <td>23/08/2016 06:00:19</td>\n      <td>\\\\PUHAPS0149\\Informatica_Prod\\Inbox\\Informatic...</td>\n      <td>24/10/2016 06:00:11</td>\n      <td>0</td>\n      <td>450213</td>\n      <td>3710373</td>\n      <td>01/09/2016 06:09:38</td>\n      <td>0</td>\n    </tr>\n    <tr>\n      <th>898525</th>\n      <td>908629</td>\n      <td>99999999</td>\n      <td>0.0</td>\n      <td>NaN</td>\n      <td>20/08/2016 14:15:17</td>\n      <td>20/08/2016 14:15:17</td>\n      <td>Bdg-Apn : Km 12.7 twee gedode zwanen langs het...</td>\n      <td>NaN</td>\n      <td>Bdg-Apn : Km 12.7 twee gedode zwanen lan</td>\n      <td>NaN</td>\n      <td>...</td>\n      <td>10</td>\n      <td>2016</td>\n      <td>24/10/2016 06:00:11</td>\n      <td>\\\\PUHAPS0149\\Informatica_Prod\\Inbox\\Informatic...</td>\n      <td>31/12/9999 00:00:00</td>\n      <td>1</td>\n      <td>490063</td>\n      <td>3710373</td>\n      <td>24/10/2016 06:11:40</td>\n      <td>0</td>\n    </tr>\n  </tbody>\n</table>\n<p>898526 rows × 140 columns</p>\n</div>"
     },
     "execution_count": 51,
     "metadata": {},
     "output_type": "execute_result"
    }
   ],
   "source": [
    "df = pd.read_csv(\"sap_storing_data_hu_project.csv\")\n",
    "df"
   ]
  },
  {
   "cell_type": "markdown",
   "metadata": {
    "collapsed": false
   },
   "source": [
    "Omdat de dataset redelijk groot is, kosten veel van de operaties die tijdens het verkennen van de data gebeuren, erg veel tijd. Volgens onze business-expert zou een willikeurige selectie van ongeveer 10% van de dataset alsnog representatief voor de hele dataset moeten zijn, dus voor het verkennen maken we dit meteen aan."
   ]
  },
  {
   "cell_type": "code",
   "execution_count": 52,
   "metadata": {
    "collapsed": false,
    "pycharm": {
     "name": "#%%\n"
    }
   },
   "outputs": [],
   "source": [
    "sample = df.sample(frac=0.1, random_state=0)"
   ]
  },
  {
   "cell_type": "markdown",
   "metadata": {
    "collapsed": false
   },
   "source": [
    "Iets interessants om te onderzoeken is de relatie tussen de tijdstippen van functieherstel, storing eind, en tijdstip van melding. We maken voor de onderzoek doeleinden hier aparte variabelen van voor gemak, en kijken naar de datatypes."
   ]
  },
  {
   "cell_type": "code",
   "execution_count": 53,
   "metadata": {
    "collapsed": false,
    "pycharm": {
     "name": "#%%\n"
    }
   },
   "outputs": [],
   "source": [
    "fh_tijdstip = sample[\"stm_fh_ddt\"]\n",
    "stor_eind = sample[\"stm_sap_storeind_ddt\"]\n",
    "stm_sap_meld_ddt = sample[\"stm_sap_meld_ddt\"]"
   ]
  },
  {
   "cell_type": "code",
   "execution_count": 54,
   "metadata": {
    "collapsed": false,
    "pycharm": {
     "name": "#%%\n"
    }
   },
   "outputs": [
    {
     "name": "stdout",
     "output_type": "stream",
     "text": [
      "object\n",
      "object\n",
      "object\n"
     ]
    }
   ],
   "source": [
    "print(f\"\"\"{fh_tijdstip.dtype}\n",
    "{stor_eind.dtype}\n",
    "{stm_sap_meld_ddt.dtype}\"\"\")"
   ]
  },
  {
   "cell_type": "markdown",
   "metadata": {
    "collapsed": false
   },
   "source": [
    "Al deze kolommen bestaan uit Strings. Deze moeten omgezet worden naar DateTime voor effectief rekenwerk. Hierna slaan we ze op in een apart DataFrame voor onderzoek. Uit dit dataframe verwijderen we alle rijen waar minimaal 1 NaN waarde instaat, omdat dit dataframe bedoelt is om de werking tussen de verschillende kolommen te vergelijken.\n",
    "\n",
    "Ook definieren we een TimeDelta object voor 2 minuten, omdat het exact vergelijken van tijdstippen voor onze doelen vaak niet nuttig is, en als dingen binnen 2 minuten van elkaar vallen, dit in veel gevallen meer informatie kan geven."
   ]
  },
  {
   "cell_type": "code",
   "execution_count": 55,
   "metadata": {
    "collapsed": false,
    "pycharm": {
     "name": "#%%\n"
    }
   },
   "outputs": [],
   "source": [
    "fh_tijdstip = pd.to_datetime(fh_tijdstip, errors=\"coerce\")\n",
    "stor_eind = pd.to_datetime(stor_eind, errors=\"coerce\")\n",
    "stm_sap_meld_ddt = pd.to_datetime(stm_sap_meld_ddt, errors=\"coerce\")\n",
    "\n",
    "twominutes = pd.to_timedelta(2, unit=\"m\")"
   ]
  },
  {
   "cell_type": "code",
   "execution_count": 56,
   "metadata": {
    "collapsed": false,
    "pycharm": {
     "name": "#%%\n"
    }
   },
   "outputs": [
    {
     "data": {
      "text/plain": "(66076, 3)"
     },
     "execution_count": 56,
     "metadata": {},
     "output_type": "execute_result"
    }
   ],
   "source": [
    "#sample_de_1 = DataFrame DataExploration 1\n",
    "df_de_1 = pd.DataFrame({\"fh_ddt\": fh_tijdstip,\n",
    "                       \"se_ddt\": stor_eind,\n",
    "                       \"meld_ddt\": stm_sap_meld_ddt}).dropna()\n",
    "\n",
    "df_de_1.shape  # 1/3rd is dropped from nas"
   ]
  },
  {
   "cell_type": "markdown",
   "metadata": {
    "collapsed": false
   },
   "source": [
    "Een eerste vraag om te onderzoek is naar het verschil tussen \"Storing eind\" en \"Functieherstel\". Uit ons business-onderzoek begrijpen we dat deze waarschijnlijk de volgende betekenissen hebben:\n",
    "\n",
    "Functieherstel: Het moment dat er theoretisch weer treinverkeer over het traject kan.\n",
    "Storing eind: Wanneer het probleem opgelost is, en de herstelwerkzaamheden voltooid zijn.\n",
    "\n",
    "Omdat het probleem vaak opgelost is, wanneer er weer treinen over het traject kunnen, zullen deze 2 momenten vaak tegelijk zijn. Dit kunnen we ook bevestigen:"
   ]
  },
  {
   "cell_type": "code",
   "execution_count": 57,
   "metadata": {
    "collapsed": false,
    "pycharm": {
     "name": "#%%\n"
    }
   },
   "outputs": [
    {
     "data": {
      "text/plain": "'Storing Eind is in 45.421938373993584% van de gevallen binnen 2 minuten van Functie Herstel.'"
     },
     "execution_count": 57,
     "metadata": {},
     "output_type": "execute_result"
    }
   ],
   "source": [
    "def percentage(numerator: float, denominator: float) -> float:\n",
    "    \"\"\"Calculate a percentage from a fraction.\n",
    "\n",
    "    Args:\n",
    "        numerator: fraction numerator.\n",
    "        denominator: fraction denominator.\n",
    "\n",
    "    Returns:\n",
    "        Percentage between 0 and 100, as float.\"\"\"\n",
    "    return (numerator / denominator) * 100\n",
    "\n",
    "\n",
    "n_fh_is_se = (np.abs(df_de_1[\"fh_ddt\"] - df_de_1[\"se_ddt\"]) < twominutes).sum()\n",
    "f\"Storing Eind is in {percentage(n_fh_is_se, df_de_1.shape[0])}% van de gevallen binnen 2 minuten van Functie Herstel.\""
   ]
  },
  {
   "cell_type": "markdown",
   "metadata": {
    "collapsed": false
   },
   "source": [
    "In veel andere gevallen zou men verwachten dat storing eind na functieherstel is, wanneer de aannemer het spoor weer operationeel krijgt, maar daarna wel nog werk moet afmaken."
   ]
  },
  {
   "cell_type": "code",
   "execution_count": 58,
   "metadata": {
    "collapsed": false,
    "pycharm": {
     "name": "#%%\n"
    }
   },
   "outputs": [
    {
     "data": {
      "text/plain": "'Storing eind is in 47.82220473394273% van de gevallen meer dan 2 minuten na functieherstel.'"
     },
     "execution_count": 58,
     "metadata": {},
     "output_type": "execute_result"
    }
   ],
   "source": [
    "n_fh_voor_se = ((df_de_1[\"se_ddt\"] - twominutes) > df_de_1[\"fh_ddt\"]).sum()\n",
    "f\"Storing eind is in {percentage(n_fh_voor_se, df_de_1.shape[0])}% van de gevallen meer dan 2 minuten na functieherstel.\""
   ]
  },
  {
   "cell_type": "markdown",
   "metadata": {
    "collapsed": false
   },
   "source": [
    "Dit correspondeerd met de verwachting van Business Understanding."
   ]
  },
  {
   "cell_type": "markdown",
   "metadata": {
    "collapsed": false
   },
   "source": [
    "Eerder hebben wij op basis van businesskennis een belovend targetvariabele vastgesteld, namelijk het verschil in tijd tussen het arriveren van de aannemer, en functieherstel. Om dit daadwerkelijk te kunnen gebruiken moet de daadwerkelijke data die hieraan correspondeerd geïnspecteerd worden.\n",
    "\n",
    "In de data dictionairy staan specifiek een kolom voor datum en tijd (apart) benoemd voor het arriveren van de aannemer, namelijk \"stm_aanntpl_dd\" voor datum en \"stm_aanntpl_tijd\" voor tijd. In de dataset zit ook een kolom \"stm_aanntpl_ddt\", hoewel deze in de dictionairy als n.v.t. bestempeld is. Toch lijkt het nuttig het verschil tussen deze kolommen even te inspecteren, om te kijken welke van deze het beste is.\n",
    "\n",
    "Ten eerste is het handig een beeld te hebben hoeveel NaN waardes er in deze kolommen zitten."
   ]
  },
  {
   "cell_type": "code",
   "execution_count": 59,
   "metadata": {
    "collapsed": false,
    "pycharm": {
     "name": "#%%\n"
    }
   },
   "outputs": [
    {
     "data": {
      "text/plain": "'De datumkolom bestaat voor 23.265778549408477% uit NaN waardes.'"
     },
     "execution_count": 59,
     "metadata": {},
     "output_type": "execute_result"
    }
   ],
   "source": [
    "n_nan_aanntpl_dd = sample[\"stm_aanntpl_dd\"].isna().sum()\n",
    "f\"De datumkolom bestaat voor {percentage(n_nan_aanntpl_dd, sample.shape[0])}% uit NaN waardes.\""
   ]
  },
  {
   "cell_type": "code",
   "execution_count": 60,
   "metadata": {
    "collapsed": false,
    "pycharm": {
     "name": "#%%\n"
    }
   },
   "outputs": [
    {
     "data": {
      "text/plain": "'De tijdkolom bestaat voor 0.0011129288949729% uit NaN waardes.'"
     },
     "execution_count": 60,
     "metadata": {},
     "output_type": "execute_result"
    }
   ],
   "source": [
    "n_nan_aanntpl_tijd = sample[\"stm_aanntpl_tijd\"].isna().sum()\n",
    "f\"De tijdkolom bestaat voor {percentage(n_nan_aanntpl_tijd, sample.shape[0])}% uit NaN waardes.\""
   ]
  },
  {
   "cell_type": "code",
   "execution_count": 61,
   "metadata": {
    "collapsed": false,
    "pycharm": {
     "name": "#%%\n"
    }
   },
   "outputs": [
    {
     "data": {
      "text/plain": "'De gecombineerde datum en tijdkolom bestaat voor 23.265778549408477% uit NaN waardes.'"
     },
     "execution_count": 61,
     "metadata": {},
     "output_type": "execute_result"
    }
   ],
   "source": [
    "n_nan_aanntpl_ddt = sample[\"stm_aanntpl_ddt\"].isna().sum()\n",
    "f\"De gecombineerde datum en tijdkolom bestaat voor {percentage(n_nan_aanntpl_dd, sample.shape[0])}% uit NaN waardes.\""
   ]
  },
  {
   "cell_type": "markdown",
   "metadata": {
    "collapsed": false
   },
   "source": [
    "De hoeveelheid NaN waardes komt overeen tussen de dd en ddt kolommen. Om te bevestigen dat deze gelijk zijn kunnen we de datum en tijd kolommen combineren naar één, en ze allemaal als DateTime objecten in een apart DataFrame zetten."
   ]
  },
  {
   "cell_type": "code",
   "execution_count": 62,
   "metadata": {
    "collapsed": false,
    "pycharm": {
     "name": "#%%\n"
    }
   },
   "outputs": [],
   "source": [
    "ddt_format = sample[\"stm_aanntpl_dd\"] + \" \" + sample[\"stm_aanntpl_tijd\"]\n",
    "\n",
    "df_aan = pd.DataFrame({\"t\": pd.to_datetime(sample[\"stm_aanntpl_tijd\"], errors=\"coerce\"),\n",
    "                       \"d\": pd.to_datetime(sample[\"stm_aanntpl_dd\"], errors=\"coerce\"),\n",
    "                       \"dt\": pd.to_datetime(sample[\"stm_aanntpl_ddt\"], errors=\"coerce\"),\n",
    "                       \"dt_own\": pd.to_datetime(ddt_format, errors=\"coerce\")}).dropna()\n"
   ]
  },
  {
   "cell_type": "code",
   "execution_count": 63,
   "metadata": {
    "collapsed": false,
    "pycharm": {
     "name": "#%%\n"
    }
   },
   "outputs": [
    {
     "data": {
      "text/plain": "'In 100.0% van de non-NaN gevallen is de ddt kolom gelijk aan aan de datum en tijd kolom.'"
     },
     "execution_count": 63,
     "metadata": {},
     "output_type": "execute_result"
    }
   ],
   "source": [
    "f\"In {percentage((df_aan['dt'] == df_aan['dt_own']).sum(), df_aan.shape[0])}% van de non-NaN gevallen is de ddt kolom gelijk aan aan de datum en tijd kolom.\""
   ]
  },
  {
   "cell_type": "markdown",
   "metadata": {
    "collapsed": false
   },
   "source": [
    "Al met al kunnen we dus net zo goed de ddt_tabel in de originele dataset gebruiken als targetvariabele.\n",
    "\n",
    "Dan nog even kijken of er idd genoeg nuttige entries zijn voor functieherstel - arrival monteur"
   ]
  },
  {
   "cell_type": "code",
   "execution_count": 64,
   "metadata": {
    "collapsed": false,
    "pycharm": {
     "name": "#%%\n"
    }
   },
   "outputs": [
    {
     "data": {
      "text/plain": "'De mogelijke target bestaat voor 15.752265531171524% uit NaN-waardes.'"
     },
     "execution_count": 64,
     "metadata": {},
     "output_type": "execute_result"
    }
   ],
   "source": [
    "possible_target = df_de_1[\"fh_ddt\"] - df_aan[\"dt\"]  # Tijdstip functieherstel - tijdstip aankomst aannemer.\n",
    "f\"De mogelijke target bestaat voor {percentage(possible_target.isna().sum(), possible_target.shape[0])}% uit NaN-waardes.\""
   ]
  },
  {
   "cell_type": "markdown",
   "metadata": {
    "collapsed": false
   },
   "source": []
  },
  {
   "cell_type": "code",
   "execution_count": 65,
   "metadata": {
    "collapsed": false,
    "pycharm": {
     "name": "#%%\n"
    }
   },
   "outputs": [
    {
     "data": {
      "text/plain": "'Wanneer deze NaN-waardes worden weggelaten hou je van de originele dataset uiteindelijk ongeveer 68.70110068667714% over die een targetvariabele hebben.'"
     },
     "execution_count": 65,
     "metadata": {},
     "output_type": "execute_result"
    }
   ],
   "source": [
    "possible_target.dropna(inplace=True)\n",
    "f\"Wanneer deze NaN-waardes worden weggelaten hou je van de originele dataset uiteindelijk ongeveer {percentage(possible_target.shape[0], sample.shape[0])}% over die een targetvariabele hebben.\""
   ]
  },
  {
   "cell_type": "markdown",
   "metadata": {
    "collapsed": false
   },
   "source": [
    "Om een nuttig targetvariabele te creeëren, zouden we uiteindelijk alle TimeDelta objecten die we gecreeërd hebben omzetten naar de hoeveelheid seconden waaruit dit tijdsinterval bestaat. Hoewel rekenen in seconden het inzicht mogelijk moeilijker maakt, verhoogt dit wel de granulariteit van het targetvariabele, waardoor deze zich meer gedraagd als continue waarde, wat de performance van het model weer ten goede komt. Om inzicht te verbeteren in performance, definieren we voor het gemak wel even een functie die een seconden-series naar minuten omzet, zodat grafieken leesbaarder gemaakt kunnen worden."
   ]
  },
  {
   "cell_type": "code",
   "execution_count": 66,
   "metadata": {
    "collapsed": false,
    "pycharm": {
     "name": "#%%\n"
    }
   },
   "outputs": [],
   "source": [
    "class TimeUnit(enum.Enum):\n",
    "    \"\"\"Enum that represents a unit of measurement of time, to enable easy conversion from one unit to another.\n",
    "\n",
    "    Values for units of measurements are measured in seconds.\"\"\"\n",
    "    second = 1\n",
    "    minute = 60\n",
    "    hour = 60 * 60\n",
    "    day_night_cycle = 60 * 60 * 24\n",
    "\n",
    "\n",
    "def convert_timeunit(value: pd.Series or float or int,\n",
    "                     from_type: TimeUnit,\n",
    "                     to_type: TimeUnit) -> float:\n",
    "    \"\"\"Convert an amount of time as number, or a series of those, to another.\n",
    "\n",
    "    Not class attribute of TimeUnit class to allow for better typing.\n",
    "\n",
    "    Args:\n",
    "        value:\n",
    "            a number, or a series of numbers, that represent an amount of time in a certain unit of measurement as defined in\n",
    "            TimeUnit.\n",
    "        from_type: TimeUnit scale of measurement of time that input is in.\n",
    "        to_type: TimeUnit scale of measurement of time that output should be in.\n",
    "\n",
    "    Returns:\n",
    "        Time measurement(s) converted to new unit of measurement.\n",
    "        Scalar if input was scalar, array/series of input type if input was array/series.\"\"\"\n",
    "    coef = from_type.value / to_type.value\n",
    "    return value * coef"
   ]
  },
  {
   "cell_type": "markdown",
   "metadata": {
    "collapsed": false
   },
   "source": [
    "We creeëren voor nu een apart variabele voor het targetvariabele als seconden. Deze bevat mogelijk een aantal 0-waarden, laten we deze eerst inspecteren."
   ]
  },
  {
   "cell_type": "code",
   "execution_count": 67,
   "metadata": {
    "collapsed": false,
    "pycharm": {
     "name": "#%%\n"
    }
   },
   "outputs": [
    {
     "data": {
      "text/plain": "'Het targetvariabele bestaat voor 2.5708731572979104% uit 0 seconden.'"
     },
     "execution_count": 67,
     "metadata": {},
     "output_type": "execute_result"
    }
   ],
   "source": [
    "de_target_secs = possible_target.dt.total_seconds()\n",
    "f\"Het targetvariabele bestaat voor {percentage((de_target_secs == 0).sum(), de_target_secs.shape[0])}% uit 0 seconden.\""
   ]
  },
  {
   "cell_type": "markdown",
   "metadata": {
    "collapsed": false
   },
   "source": [
    "Het is wellicht interessant een beeld te hebben van outliers van ons targetvariabele:"
   ]
  },
  {
   "cell_type": "code",
   "execution_count": 68,
   "metadata": {
    "collapsed": false,
    "pycharm": {
     "name": "#%%\n"
    }
   },
   "outputs": [
    {
     "data": {
      "text/plain": "{'whiskers': [<matplotlib.lines.Line2D at 0x1882d328ee0>,\n  <matplotlib.lines.Line2D at 0x18828aaf280>],\n 'caps': [<matplotlib.lines.Line2D at 0x18828aaf5e0>,\n  <matplotlib.lines.Line2D at 0x18828aaf940>],\n 'boxes': [<matplotlib.lines.Line2D at 0x1882d328b80>],\n 'medians': [<matplotlib.lines.Line2D at 0x18828aafca0>],\n 'fliers': [<matplotlib.lines.Line2D at 0x18824928040>],\n 'means': []}"
     },
     "execution_count": 68,
     "metadata": {},
     "output_type": "execute_result"
    },
    {
     "data": {
      "text/plain": "<Figure size 432x288 with 1 Axes>",
      "image/png": "[encoded data removed]"
     },
     "metadata": {
      "needs_background": "light"
     },
     "output_type": "display_data"
    }
   ],
   "source": [
    "plt.boxplot(de_target_secs)"
   ]
  },
  {
   "cell_type": "markdown",
   "metadata": {
    "collapsed": false
   },
   "source": [
    "Uit deze bijna-onleesbare boxplot blijkt dat vooral boven de bovengrens, er heel veel extreme outliers zijn. Aan de onderkant zijn er ook een aantal negatieve waarden. Als we er vanuit gaan dat dit niet door foutive data word veroorzaakt, betekend dit waarschijnlijk dat er al weer treinen kunnen rijden, voordat er uberhaupt een monteur aan te pas komt. Hier moet wat aan gedaan worden.\n",
    "\n",
    "Een standaardmethode om outliers te verwijderen, is de interkwartielafstand(<i>IQR</i>) berekenen, en alle waarnemingen 3IQR boven het 3e kwartiel, en 3IQR onder het eerste kwartiel te verwijderen. Het lijkt ons echter verstandiger in dit geval het verwijderen van outliers te baseren op business-kennis.\n",
    "\n",
    "Om een nuttig voorspellend model te maken, is het waarschijnlijk handig om een ondergrens in functiehersteltijd te stellen vanaf het moment dat de aannemer komt. Omdat wij inschatten dat bij storingen onder de 5 minuten de aannemer zelf ook kan inschatten dat het heel kort gaat duren, en een voorspelling hier waarschijnlijk niet nuttig is, laten we deze weg uit onze dataset.\n",
    "\n",
    "Onze business-expert heeft aangegeven alle hersteltijden boven de 6u niet interessant te vinden, dus deze waarnemingen laten we als NaN waarde in ons targetvariabele, en maken we een aparte binaire-categorie kolom voor, zodat dit eventueel in de toekomst nog gebruikt kan worden voor een apart model.\n",
    "\n",
    "Om de verdelingen voor het eerste model te kunnen onderzoeken, halen we bij de data-exploration set nu alles onder 5 minuten en boven 6 uur eruit.\n",
    "\n"
   ]
  },
  {
   "cell_type": "code",
   "execution_count": 69,
   "metadata": {
    "collapsed": false,
    "pycharm": {
     "name": "#%%\n"
    }
   },
   "outputs": [],
   "source": [
    "de_target_secs = de_target_secs.loc[(de_target_secs < convert_timeunit(6, TimeUnit.hour, TimeUnit.second)) & (de_target_secs > convert_timeunit(5, TimeUnit.minute, TimeUnit.second))]"
   ]
  },
  {
   "cell_type": "code",
   "execution_count": 70,
   "metadata": {
    "collapsed": false,
    "pycharm": {
     "name": "#%%\n"
    }
   },
   "outputs": [
    {
     "data": {
      "text/plain": "<AxesSubplot:>"
     },
     "execution_count": 70,
     "metadata": {},
     "output_type": "execute_result"
    },
    {
     "data": {
      "text/plain": "<Figure size 432x288 with 1 Axes>",
      "image/png": "[encoded data removed]"
     },
     "metadata": {
      "needs_background": "light"
     },
     "output_type": "display_data"
    }
   ],
   "source": [
    "de_target_secs.hist(bins=50)"
   ]
  },
  {
   "cell_type": "markdown",
   "metadata": {
    "collapsed": false
   },
   "source": [
    "Ons targetvariabele lijkt exponentieel verdeeld te zijn."
   ]
  },
  {
   "cell_type": "markdown",
   "metadata": {
    "collapsed": false
   },
   "source": [
    "<h3>Data preperation.</h3>\n",
    "\n",
    "Nu we een idee hebben van een (hopelijk) bruikbaar target variabele, kunnen de benodigde operaties op de originele dataset uitgevoerd worden, om hieruit een volledig uitgewerkt targetvariabele voor later gebruik uit te creeëren.\n",
    "\n",
    "We beginnen door de 2 benodigde kolommen voor het target variabele naar DateTime objecten te veranderen in nieuwe kolommen."
   ]
  },
  {
   "cell_type": "code",
   "execution_count": 71,
   "metadata": {
    "collapsed": false,
    "pycharm": {
     "name": "#%%\n"
    }
   },
   "outputs": [],
   "source": [
    "df[\"stm_aanntpl_ddt_as_pddt\"] = pd.to_datetime(df[\"stm_aanntpl_ddt\"], errors=\"coerce\")\n",
    "df[\"stm_fh_ddt_as_pddt\"] = pd.to_datetime(df[\"stm_fh_ddt\"], errors=\"coerce\")"
   ]
  },
  {
   "cell_type": "markdown",
   "metadata": {
    "collapsed": false
   },
   "source": [
    "Hierna maken we een aparte kolom in de dataframe van het tijdstip van functieherstel, min tijdstip van arriveren van de monteur."
   ]
  },
  {
   "cell_type": "code",
   "execution_count": 72,
   "metadata": {
    "collapsed": false,
    "pycharm": {
     "name": "#%%\n"
    }
   },
   "outputs": [],
   "source": [
    "df[\"fh_min_aanntpl\"] = df[\"stm_fh_ddt_as_pddt\"] - df[\"stm_aanntpl_ddt_as_pddt\"]"
   ]
  },
  {
   "cell_type": "markdown",
   "metadata": {
    "collapsed": false
   },
   "source": [
    "We slaan van deze nieuwe kolom het verschil op als seconden in een apart variabele."
   ]
  },
  {
   "cell_type": "code",
   "execution_count": 73,
   "metadata": {
    "collapsed": false,
    "pycharm": {
     "name": "#%%\n"
    }
   },
   "outputs": [],
   "source": [
    "target = df[\"fh_min_aanntpl\"].dt.total_seconds()"
   ]
  },
  {
   "cell_type": "markdown",
   "metadata": {
    "collapsed": false
   },
   "source": [
    "We laten hieruit alles boven de 6 uur, en alles onder de 5 minuten weg, en slaan dit op in een nieuwe variabele."
   ]
  },
  {
   "cell_type": "code",
   "execution_count": 74,
   "metadata": {
    "collapsed": false,
    "pycharm": {
     "name": "#%%\n"
    }
   },
   "outputs": [
    {
     "data": {
      "text/plain": "32099    2400.0\n60682     900.0\n60683     900.0\n84560     319.0\n84561     319.0\nName: fh_min_aanntpl, dtype: float64"
     },
     "execution_count": 74,
     "metadata": {},
     "output_type": "execute_result"
    }
   ],
   "source": [
    "boven_5_min = target > convert_timeunit(5, TimeUnit.minute, TimeUnit.second)\n",
    "onder_6_uur = target < convert_timeunit(6, TimeUnit.hour, TimeUnit.second)\n",
    "\n",
    "target = target.loc[boven_5_min & onder_6_uur]  # Gemeten in seconden.\n",
    "\n",
    "target.head(5)"
   ]
  },
  {
   "cell_type": "markdown",
   "metadata": {},
   "source": [
    "<h2>Outlier removal function</h2>\n",
    "Hier hebben we een functie geplaatst die outliers uit een gegeven dataframe en columns haalt.\n",
    "\n",
    "In de comments bij deze functie staat uitgelegd hoe de functie parameters werken."
   ]
  },
  {
   "cell_type": "code",
   "execution_count": 75,
   "metadata": {},
   "outputs": [],
   "source": [
    "# TODO(m-jeu): Functiecontext/documentatie in docstring i.p.v. comments.\n",
    "\n",
    "#wij hanteren hier de vuistregel dat waardes die 1.5IQR onder de Q1 liggen outliers OF 1.5IQR boven Q3 , outliers zijn.\n",
    "#Ook hanteren wij hier de regel dat waardes die 3QR onder de Q1 liggen outliers OF 3IQR boven Q3 ,  STERKE outliers zijn.\n",
    "\n",
    "#deze functie heeft 3 parameters:\n",
    "#1e parameter: sterke van outliers die eruit worden gefilterd word. \n",
    "# 's' = strong, wat betekent dat dat alleen de sterke outliers er uit worden gefilterd.\n",
    "# 'a' = all, wat betekent dat dat alle  outliers er uit worden gefilterd.\n",
    "# We hebben bewust gekozen om geen optie te maken om ALLEEN de zwakke outliers weg te filteren. Dit lijkt ons niet logisch\n",
    "\n",
    "#De 2e parameter:\n",
    "# het dataframe waar de outliers worden uitgefilterd.\n",
    "\n",
    "#De 3e parameter:\n",
    "# Een lijst kolomen waar de de outliers worden uitgefilterd. bijv ['US_gross', 'duration']\n",
    "\n",
    "#voorbeeld aanroep functie:\n",
    "# column_outlier('a', df, ['US_gross', 'duration', 'budget'])\n",
    "\n",
    "\n",
    "def Outlier_removal(strength, dataframe, columns):  # TODO(m-jeu): snakecase\n",
    "    temp_dataframe = dataframe.copy()\n",
    "    try:\n",
    "        if strength == 's':\n",
    "            strength=3  # TODO(m-jeu): Spaties om = heen\n",
    "        elif strength == 'a':\n",
    "            strength=1.5\n",
    "    except:  # TODO(m-jeu): Implicitly exception opvangen vangt makkelijk de verkeerde exception op.\n",
    "        print(\"Invalid strength\")  # TODO(m-jeu): Crasht alsnog omdat strength welke waarde dan ook heeft die hij in functiecall heeft gekregen, waarschijnlijk character..\n",
    "    for column in columns:\n",
    "        Q1 = temp_dataframe[column].quantile(0.25)\n",
    "        Q3 = temp_dataframe[column].quantile(0.75)\n",
    "        IQR = Q3 - Q1\n",
    "        temp_dataframe = temp_dataframe[~((temp_dataframe[column] < (Q1 - strength * IQR)) |(temp_dataframe[column] > (Q3 + strength* IQR)))]  # TODO(m-jeu): .loc voor mask operation.\n",
    "    return temp_dataframe"
   ]
  },
  {
   "cell_type": "markdown",
   "metadata": {},
   "source": [
    "TODO(m-jeu): Was eigenlijk mijn idee om dit te doen na de baseline.\n",
    "\n",
    "<h3>Conversion van datetime</h3>\n",
    "\n",
    "Hier gaan we de data uit kolom 'stm_sap_meld_ddt' bruikbaar maken voor toekomstige modellen.\n",
    "Dit doen we door de datetime om te zetten naar zowel: aantal secondes vanaf middernacht & dag in het jaar\n",
    "\n",
    "Als eerst converten we stm_sap_meld_ddt naar een pandas datetime datatype. Deze kolom krijgt de naam: 'stm_sap_meld_ddt_as_pddt'.\n",
    "Op deze manier hebben we de originele data, en de omgezette data beschikbaar."
   ]
  },
  {
   "cell_type": "code",
   "execution_count": 76,
   "metadata": {},
   "outputs": [],
   "source": [
    "df['stm_sap_meld_ddt_as_pddt'] = pd.to_datetime(df[\"stm_sap_meld_ddt\"], errors=\"coerce\")"
   ]
  },
  {
   "cell_type": "markdown",
   "metadata": {},
   "source": [
    "Nu we een kolom hebben die in het pandas datetime datatype staat, kunnen we er gemakkelijk mee werken.\n",
    "\n",
    "We gaan hier 2 kolomen aan df toevoegen, namelijk:\n",
    "- stm_sap_meld_sec_mn:  Hierin staat het aantal secondes vanaf  00:00  tot het moment van de melding\n",
    "- stm_sap_meld_day_count:  Hierin staat de hoeveelste dag in dat jaar het is, op het moment van de melding"
   ]
  },
  {
   "cell_type": "code",
   "execution_count": 98,
   "metadata": {},
   "outputs": [],
   "source": [
    "df['stm_sap_meld_sec_mn'] = (df['stm_sap_meld_ddt_as_pddt'] - df['stm_sap_meld_ddt_as_pddt'].dt.normalize()) / pd.Timedelta(seconds=1)\n",
    "df['stm_sap_meld_day_count'] = df[\"stm_sap_meld_ddt_as_pddt\"].dt.day_of_year"
   ]
  },
  {
   "cell_type": "markdown",
   "source": [
    "Deze kunnen samen met het targetvariabele gecombineerd worden in één DataFrame voor gebruik in model 1."
   ],
   "metadata": {
    "collapsed": false
   }
  },
  {
   "cell_type": "code",
   "execution_count": 99,
   "outputs": [],
   "source": [
    "m1_df = pd.DataFrame({\"Target\": target,\n",
    "                      \"Tijdstip\": df[\"stm_sap_meld_sec_mn\"],\n",
    "                      \"Dag\": df[\"stm_sap_meld_day_count\"]})"
   ],
   "metadata": {
    "collapsed": false,
    "pycharm": {
     "name": "#%%\n"
    }
   }
  },
  {
   "cell_type": "markdown",
   "metadata": {
    "collapsed": false
   },
   "source": [
    "<h3>Modelling</h3>\n",
    "\n",
    "Met een volledig voorbereid targetvariabele, kan er een 'BaseLine' model gemaakt worden, om een RMSE score vast te stellen die overtrefd kan worden. De meest logische strategie hiervoor is het gemiddelde gokken van alle bekende waardes. Hiervoor gebruiken we van SciKitLearn de DummyRegressor, met de 'mean' strategie."
   ]
  },
  {
   "cell_type": "code",
   "execution_count": 79,
   "metadata": {
    "collapsed": false,
    "pycharm": {
     "name": "#%%\n"
    }
   },
   "outputs": [
    {
     "data": {
      "text/plain": "DummyRegressor()"
     },
     "execution_count": 79,
     "metadata": {},
     "output_type": "execute_result"
    }
   ],
   "source": [
    "baseline = dummy.DummyRegressor(strategy=\"mean\")\n",
    "baseline_X = np.arange(target.shape[0])  # Dummy feature variabelen voor BaseLine.\n",
    "baseline.fit(np.arange(target.shape[0]), target)"
   ]
  },
  {
   "cell_type": "markdown",
   "metadata": {
    "collapsed": false
   },
   "source": [
    "Van dit baseline model kunnen we vervolgens de RMSE score in seconden bepalen."
   ]
  },
  {
   "cell_type": "code",
   "execution_count": 80,
   "metadata": {
    "collapsed": false,
    "pycharm": {
     "name": "#%%\n"
    }
   },
   "outputs": [
    {
     "data": {
      "text/plain": "3904.8925801884657"
     },
     "execution_count": 80,
     "metadata": {},
     "output_type": "execute_result"
    }
   ],
   "source": [
    "baseline_rmse = metrics.mean_squared_error(target, baseline.predict(baseline_X), squared=False)\n",
    "baseline_rmse"
   ]
  },
  {
   "cell_type": "markdown",
   "metadata": {
    "collapsed": false
   },
   "source": [
    "Voor inzicht is het ook wel interessant deze score even in minuten te bekijken, omdat dit toch meer inzicht geeft in de business-context."
   ]
  },
  {
   "cell_type": "code",
   "execution_count": 81,
   "metadata": {
    "collapsed": false,
    "pycharm": {
     "name": "#%%\n"
    }
   },
   "outputs": [
    {
     "data": {
      "text/plain": "65.08154300314109"
     },
     "execution_count": 81,
     "metadata": {},
     "output_type": "execute_result"
    }
   ],
   "source": [
    "convert_timeunit(baseline_rmse, TimeUnit.second, TimeUnit.minute)"
   ]
  },
  {
   "cell_type": "markdown",
   "metadata": {
    "collapsed": false
   },
   "source": [
    "Dit model slaan we op in een DataFrame, waar later ook andere modellen in opgeslagen kunnen worden, zodat deze overzichtelijk bekeken kunnen worden."
   ]
  },
  {
   "cell_type": "code",
   "execution_count": 82,
   "metadata": {
    "collapsed": false,
    "pycharm": {
     "name": "#%%\n"
    }
   },
   "outputs": [
    {
     "data": {
      "text/plain": "                               Title             Model        RMSE\n0  BaseLine model with mean strategy  DummyRegressor()  3904.89258",
      "text/html": "<div>\n<style scoped>\n    .dataframe tbody tr th:only-of-type {\n        vertical-align: middle;\n    }\n\n    .dataframe tbody tr th {\n        vertical-align: top;\n    }\n\n    .dataframe thead th {\n        text-align: right;\n    }\n</style>\n<table border=\"1\" class=\"dataframe\">\n  <thead>\n    <tr style=\"text-align: right;\">\n      <th></th>\n      <th>Title</th>\n      <th>Model</th>\n      <th>RMSE</th>\n    </tr>\n  </thead>\n  <tbody>\n    <tr>\n      <th>0</th>\n      <td>BaseLine model with mean strategy</td>\n      <td>DummyRegressor()</td>\n      <td>3904.89258</td>\n    </tr>\n  </tbody>\n</table>\n</div>"
     },
     "execution_count": 82,
     "metadata": {},
     "output_type": "execute_result"
    }
   ],
   "source": [
    "models = pd.DataFrame({\"Title\": [\"BaseLine model with mean strategy\"],\n",
    "                       \"Model\": [baseline],\n",
    "                       \"RMSE\": [baseline_rmse]})\n",
    "\n",
    "models"
   ]
  },
  {
   "cell_type": "markdown",
   "metadata": {
    "collapsed": false
   },
   "source": [
    "<h2>Feature variabelen: model 1</h2>\n",
    "\n",
    "<h2>Business understanding</h2>\n",
    "\n",
    "TODO(m-jeu): Schrijf tekst.\n",
    "Blablabla feature variabelen uit interviews:\n",
    "\n",
    "<ul>\n",
    "<li>Type storing</li>\n",
    "<li>Tijdstip op de dag</li>\n",
    "<li>Dag in het jaar</li>\n",
    "<li>Inschatting treinverkeersleider</li>\n",
    "<li>Inschatting aannemer</li>\n",
    "<li>Monitoringscode</li>\n",
    "<li>Gebied</li>\n",
    "</ul>\n",
    "\n",
    "Per featurevariabele:"
   ]
  },
  {
   "cell_type": "markdown",
   "source": [],
   "metadata": {
    "collapsed": false
   }
  },
  {
   "cell_type": "markdown",
   "source": [
    "Doe hier dennis zn stukje over tijdstip op de dag, dag in het jaar."
   ],
   "metadata": {
    "collapsed": false
   }
  },
  {
   "cell_type": "markdown",
   "source": [
    "<h2>Type storing</h2>\n",
    "\n",
    "<h3>Data exploration</h3>\n",
    "\n",
    "Uit ons business-onderzoek verwachten we dat het type storing waar een verlies van functie door veroorzaakt word is is van grote invloed op de tijd die het kost om functieherstel te bereiken. Attributen uit de dataset die hier wellicht invloed op kunnen hebben zijn:\n",
    "<ol>\n",
    "<li>stm_oorz_code: de oorzaak-code</li>\n",
    "<li>stm_oorz_groep: de oorzaak-groep</li>\n",
    "<li>stm_techn_mld: het techniekveld van de melding</li>\n",
    "</ol>\n",
    "\n",
    "We zullen deze kolommen onderzoeken, tot we er een vinden die relevant lijkt te zijn.\n",
    "\n",
    "We maken van deze 3 kolommen uit de 10% subset van de dataset, en de target."
   ],
   "metadata": {
    "collapsed": false
   }
  },
  {
   "cell_type": "code",
   "execution_count": 83,
   "outputs": [
    {
     "data": {
      "text/plain": "       stm_oorz_code stm_oorz_groep stm_techn_mld   target\n592816         218.0        TECHONV             T   2340.0\n680751         149.0       ONR-DERD             E   2040.0\n760628         221.0        TECHONV             T  14109.0\n237571         241.0        TECHONV             B   3120.0\n849077         145.0       ONR-DERD             S   2039.0",
      "text/html": "<div>\n<style scoped>\n    .dataframe tbody tr th:only-of-type {\n        vertical-align: middle;\n    }\n\n    .dataframe tbody tr th {\n        vertical-align: top;\n    }\n\n    .dataframe thead th {\n        text-align: right;\n    }\n</style>\n<table border=\"1\" class=\"dataframe\">\n  <thead>\n    <tr style=\"text-align: right;\">\n      <th></th>\n      <th>stm_oorz_code</th>\n      <th>stm_oorz_groep</th>\n      <th>stm_techn_mld</th>\n      <th>target</th>\n    </tr>\n  </thead>\n  <tbody>\n    <tr>\n      <th>592816</th>\n      <td>218.0</td>\n      <td>TECHONV</td>\n      <td>T</td>\n      <td>2340.0</td>\n    </tr>\n    <tr>\n      <th>680751</th>\n      <td>149.0</td>\n      <td>ONR-DERD</td>\n      <td>E</td>\n      <td>2040.0</td>\n    </tr>\n    <tr>\n      <th>760628</th>\n      <td>221.0</td>\n      <td>TECHONV</td>\n      <td>T</td>\n      <td>14109.0</td>\n    </tr>\n    <tr>\n      <th>237571</th>\n      <td>241.0</td>\n      <td>TECHONV</td>\n      <td>B</td>\n      <td>3120.0</td>\n    </tr>\n    <tr>\n      <th>849077</th>\n      <td>145.0</td>\n      <td>ONR-DERD</td>\n      <td>S</td>\n      <td>2039.0</td>\n    </tr>\n  </tbody>\n</table>\n</div>"
     },
     "execution_count": 83,
     "metadata": {},
     "output_type": "execute_result"
    }
   ],
   "source": [
    "de_type_cols = np.array([\"stm_oorz_code\", \"stm_oorz_groep\", \"stm_techn_mld\"])\n",
    "\n",
    "de_type = sample[de_type_cols].astype(\"category\")\n",
    "de_type[\"target\"] = target\n",
    "de_type.head(5)"
   ],
   "metadata": {
    "collapsed": false,
    "pycharm": {
     "name": "#%%\n"
    }
   }
  },
  {
   "cell_type": "markdown",
   "source": [
    "Het is handig te weten hoeveel permutaties elk variabele heeft."
   ],
   "metadata": {
    "collapsed": false
   }
  },
  {
   "cell_type": "code",
   "execution_count": 84,
   "outputs": [
    {
     "data": {
      "text/plain": "stm_oorz_code     71\nstm_oorz_groep     4\nstm_techn_mld     13\ndtype: int64"
     },
     "execution_count": 84,
     "metadata": {},
     "output_type": "execute_result"
    }
   ],
   "source": [
    "de_type[de_type_cols].nunique()"
   ],
   "metadata": {
    "collapsed": false,
    "pycharm": {
     "name": "#%%\n"
    }
   }
  },
  {
   "cell_type": "markdown",
   "source": [
    "Om de curse of dimensionality te voorkomen is het handig zo weinig mogelijk dimensies te introduceren met het encoderen van deze categoriale variabelen. Daarom kan het handig zijn bij zo een kolom te blijven die zo weinig mogelijk permutaties heeft. We zullen deze attributen van weinig naar veel onderzoeken.\n",
    "\n",
    "We beginnen dus bij stm_oorz_groep. Het is interessant om te weten hoe de verschillen in verdeling van het targetvariabele zijn per kolom. Hiervoor kunnen we boxplots maken per category."
   ],
   "metadata": {
    "collapsed": false,
    "pycharm": {
     "name": "#%% md\n"
    }
   }
  },
  {
   "cell_type": "code",
   "execution_count": 85,
   "outputs": [
    {
     "data": {
      "text/plain": "<AxesSubplot:xlabel='stm_oorz_groep', ylabel='target'>"
     },
     "execution_count": 85,
     "metadata": {},
     "output_type": "execute_result"
    },
    {
     "data": {
      "text/plain": "<Figure size 432x288 with 1 Axes>",
      "image/png": "[encoded data removed]"
     },
     "metadata": {
      "needs_background": "light"
     },
     "output_type": "display_data"
    }
   ],
   "source": [
    "sns.boxplot(x=de_type[\"stm_oorz_groep\"], y=de_type[\"target\"])"
   ],
   "metadata": {
    "collapsed": false,
    "pycharm": {
     "name": "#%%\n"
    }
   }
  },
  {
   "cell_type": "markdown",
   "source": [
    "De oorzaak groep lijkt niet veel te zeggen over het targetvariabele."
   ],
   "metadata": {
    "collapsed": false
   }
  },
  {
   "cell_type": "code",
   "execution_count": 86,
   "outputs": [
    {
     "data": {
      "text/plain": "<AxesSubplot:xlabel='stm_techn_mld', ylabel='target'>"
     },
     "execution_count": 86,
     "metadata": {},
     "output_type": "execute_result"
    },
    {
     "data": {
      "text/plain": "<Figure size 432x288 with 1 Axes>",
      "image/png": "[encoded data removed]"
     },
     "metadata": {
      "needs_background": "light"
     },
     "output_type": "display_data"
    }
   ],
   "source": [
    "sns.boxplot(x=de_type[\"stm_techn_mld\"], y=de_type[\"target\"])"
   ],
   "metadata": {
    "collapsed": false,
    "pycharm": {
     "name": "#%%\n"
    }
   }
  },
  {
   "cell_type": "markdown",
   "source": [
    "Hier lijken we al meer mee te kunnen. We dummyencoden deze en voegen hem toe aan het dataframe voor model één."
   ],
   "metadata": {
    "collapsed": false
   }
  },
  {
   "cell_type": "code",
   "execution_count": 100,
   "outputs": [
    {
     "data": {
      "text/plain": "   Techniekveld_A  Techniekveld_B  Techniekveld_E  Techniekveld_G  \\\n0               0               0               0               0   \n\n   Techniekveld_H  Techniekveld_I  Techniekveld_K  Techniekveld_M  \\\n0               0               0               0               0   \n\n   Techniekveld_O  Techniekveld_P  Techniekveld_S  Techniekveld_T  \\\n0               0               0               0               0   \n\n   Techniekveld_X  \n0               0  ",
      "text/html": "<div>\n<style scoped>\n    .dataframe tbody tr th:only-of-type {\n        vertical-align: middle;\n    }\n\n    .dataframe tbody tr th {\n        vertical-align: top;\n    }\n\n    .dataframe thead th {\n        text-align: right;\n    }\n</style>\n<table border=\"1\" class=\"dataframe\">\n  <thead>\n    <tr style=\"text-align: right;\">\n      <th></th>\n      <th>Techniekveld_A</th>\n      <th>Techniekveld_B</th>\n      <th>Techniekveld_E</th>\n      <th>Techniekveld_G</th>\n      <th>Techniekveld_H</th>\n      <th>Techniekveld_I</th>\n      <th>Techniekveld_K</th>\n      <th>Techniekveld_M</th>\n      <th>Techniekveld_O</th>\n      <th>Techniekveld_P</th>\n      <th>Techniekveld_S</th>\n      <th>Techniekveld_T</th>\n      <th>Techniekveld_X</th>\n    </tr>\n  </thead>\n  <tbody>\n    <tr>\n      <th>0</th>\n      <td>0</td>\n      <td>0</td>\n      <td>0</td>\n      <td>0</td>\n      <td>0</td>\n      <td>0</td>\n      <td>0</td>\n      <td>0</td>\n      <td>0</td>\n      <td>0</td>\n      <td>0</td>\n      <td>0</td>\n      <td>0</td>\n    </tr>\n  </tbody>\n</table>\n</div>"
     },
     "execution_count": 100,
     "metadata": {},
     "output_type": "execute_result"
    }
   ],
   "source": [
    "type_encoded = pd.get_dummies(df[\"stm_techn_mld\"], prefix=\"Techniekveld\")\n",
    "type_encoded.head(1)"
   ],
   "metadata": {
    "collapsed": false,
    "pycharm": {
     "name": "#%%\n"
    }
   }
  },
  {
   "cell_type": "code",
   "execution_count": 101,
   "outputs": [
    {
     "data": {
      "text/plain": "        Target  Tijdstip    Dag  Techniekveld_A  Techniekveld_B  \\\n0          NaN       NaN    NaN               0               0   \n1          NaN   32400.0   32.0               0               0   \n2          NaN   45300.0   32.0               0               0   \n3          NaN   60000.0   32.0               0               0   \n4          NaN   81000.0   32.0               0               0   \n...        ...       ...    ...             ...             ...   \n898521  1440.0   29160.0  309.0               0               0   \n898522  2160.0   33660.0  309.0               0               0   \n898523  2160.0   33660.0  309.0               0               0   \n898524  1740.0   51317.0  233.0               0               0   \n898525  1740.0   51317.0  233.0               0               0   \n\n        Techniekveld_E  Techniekveld_G  Techniekveld_H  Techniekveld_I  \\\n0                    0               0               0               0   \n1                    0               0               0               0   \n2                    0               0               0               0   \n3                    0               0               0               0   \n4                    0               0               0               0   \n...                ...             ...             ...             ...   \n898521               0               0               0               0   \n898522               0               0               0               0   \n898523               0               0               0               0   \n898524               0               0               0               0   \n898525               0               0               0               0   \n\n        Techniekveld_K  Techniekveld_M  Techniekveld_O  Techniekveld_P  \\\n0                    0               0               0               0   \n1                    0               0               0               0   \n2                    0               0               0               0   \n3                    0               0               0               0   \n4                    0               0               0               0   \n...                ...             ...             ...             ...   \n898521               0               0               0               0   \n898522               0               0               0               0   \n898523               0               0               0               0   \n898524               0               0               0               0   \n898525               0               0               0               0   \n\n        Techniekveld_S  Techniekveld_T  Techniekveld_X  \n0                    0               0               0  \n1                    0               0               0  \n2                    0               0               0  \n3                    0               0               0  \n4                    0               0               0  \n...                ...             ...             ...  \n898521               0               0               0  \n898522               1               0               0  \n898523               1               0               0  \n898524               0               0               0  \n898525               0               0               0  \n\n[898526 rows x 16 columns]",
      "text/html": "<div>\n<style scoped>\n    .dataframe tbody tr th:only-of-type {\n        vertical-align: middle;\n    }\n\n    .dataframe tbody tr th {\n        vertical-align: top;\n    }\n\n    .dataframe thead th {\n        text-align: right;\n    }\n</style>\n<table border=\"1\" class=\"dataframe\">\n  <thead>\n    <tr style=\"text-align: right;\">\n      <th></th>\n      <th>Target</th>\n      <th>Tijdstip</th>\n      <th>Dag</th>\n      <th>Techniekveld_A</th>\n      <th>Techniekveld_B</th>\n      <th>Techniekveld_E</th>\n      <th>Techniekveld_G</th>\n      <th>Techniekveld_H</th>\n      <th>Techniekveld_I</th>\n      <th>Techniekveld_K</th>\n      <th>Techniekveld_M</th>\n      <th>Techniekveld_O</th>\n      <th>Techniekveld_P</th>\n      <th>Techniekveld_S</th>\n      <th>Techniekveld_T</th>\n      <th>Techniekveld_X</th>\n    </tr>\n  </thead>\n  <tbody>\n    <tr>\n      <th>0</th>\n      <td>NaN</td>\n      <td>NaN</td>\n      <td>NaN</td>\n      <td>0</td>\n      <td>0</td>\n      <td>0</td>\n      <td>0</td>\n      <td>0</td>\n      <td>0</td>\n      <td>0</td>\n      <td>0</td>\n      <td>0</td>\n      <td>0</td>\n      <td>0</td>\n      <td>0</td>\n      <td>0</td>\n    </tr>\n    <tr>\n      <th>1</th>\n      <td>NaN</td>\n      <td>32400.0</td>\n      <td>32.0</td>\n      <td>0</td>\n      <td>0</td>\n      <td>0</td>\n      <td>0</td>\n      <td>0</td>\n      <td>0</td>\n      <td>0</td>\n      <td>0</td>\n      <td>0</td>\n      <td>0</td>\n      <td>0</td>\n      <td>0</td>\n      <td>0</td>\n    </tr>\n    <tr>\n      <th>2</th>\n      <td>NaN</td>\n      <td>45300.0</td>\n      <td>32.0</td>\n      <td>0</td>\n      <td>0</td>\n      <td>0</td>\n      <td>0</td>\n      <td>0</td>\n      <td>0</td>\n      <td>0</td>\n      <td>0</td>\n      <td>0</td>\n      <td>0</td>\n      <td>0</td>\n      <td>0</td>\n      <td>0</td>\n    </tr>\n    <tr>\n      <th>3</th>\n      <td>NaN</td>\n      <td>60000.0</td>\n      <td>32.0</td>\n      <td>0</td>\n      <td>0</td>\n      <td>0</td>\n      <td>0</td>\n      <td>0</td>\n      <td>0</td>\n      <td>0</td>\n      <td>0</td>\n      <td>0</td>\n      <td>0</td>\n      <td>0</td>\n      <td>0</td>\n      <td>0</td>\n    </tr>\n    <tr>\n      <th>4</th>\n      <td>NaN</td>\n      <td>81000.0</td>\n      <td>32.0</td>\n      <td>0</td>\n      <td>0</td>\n      <td>0</td>\n      <td>0</td>\n      <td>0</td>\n      <td>0</td>\n      <td>0</td>\n      <td>0</td>\n      <td>0</td>\n      <td>0</td>\n      <td>0</td>\n      <td>0</td>\n      <td>0</td>\n    </tr>\n    <tr>\n      <th>...</th>\n      <td>...</td>\n      <td>...</td>\n      <td>...</td>\n      <td>...</td>\n      <td>...</td>\n      <td>...</td>\n      <td>...</td>\n      <td>...</td>\n      <td>...</td>\n      <td>...</td>\n      <td>...</td>\n      <td>...</td>\n      <td>...</td>\n      <td>...</td>\n      <td>...</td>\n      <td>...</td>\n    </tr>\n    <tr>\n      <th>898521</th>\n      <td>1440.0</td>\n      <td>29160.0</td>\n      <td>309.0</td>\n      <td>0</td>\n      <td>0</td>\n      <td>0</td>\n      <td>0</td>\n      <td>0</td>\n      <td>0</td>\n      <td>0</td>\n      <td>0</td>\n      <td>0</td>\n      <td>0</td>\n      <td>0</td>\n      <td>0</td>\n      <td>0</td>\n    </tr>\n    <tr>\n      <th>898522</th>\n      <td>2160.0</td>\n      <td>33660.0</td>\n      <td>309.0</td>\n      <td>0</td>\n      <td>0</td>\n      <td>0</td>\n      <td>0</td>\n      <td>0</td>\n      <td>0</td>\n      <td>0</td>\n      <td>0</td>\n      <td>0</td>\n      <td>0</td>\n      <td>1</td>\n      <td>0</td>\n      <td>0</td>\n    </tr>\n    <tr>\n      <th>898523</th>\n      <td>2160.0</td>\n      <td>33660.0</td>\n      <td>309.0</td>\n      <td>0</td>\n      <td>0</td>\n      <td>0</td>\n      <td>0</td>\n      <td>0</td>\n      <td>0</td>\n      <td>0</td>\n      <td>0</td>\n      <td>0</td>\n      <td>0</td>\n      <td>1</td>\n      <td>0</td>\n      <td>0</td>\n    </tr>\n    <tr>\n      <th>898524</th>\n      <td>1740.0</td>\n      <td>51317.0</td>\n      <td>233.0</td>\n      <td>0</td>\n      <td>0</td>\n      <td>0</td>\n      <td>0</td>\n      <td>0</td>\n      <td>0</td>\n      <td>0</td>\n      <td>0</td>\n      <td>0</td>\n      <td>0</td>\n      <td>0</td>\n      <td>0</td>\n      <td>0</td>\n    </tr>\n    <tr>\n      <th>898525</th>\n      <td>1740.0</td>\n      <td>51317.0</td>\n      <td>233.0</td>\n      <td>0</td>\n      <td>0</td>\n      <td>0</td>\n      <td>0</td>\n      <td>0</td>\n      <td>0</td>\n      <td>0</td>\n      <td>0</td>\n      <td>0</td>\n      <td>0</td>\n      <td>0</td>\n      <td>0</td>\n      <td>0</td>\n    </tr>\n  </tbody>\n</table>\n<p>898526 rows × 16 columns</p>\n</div>"
     },
     "execution_count": 101,
     "metadata": {},
     "output_type": "execute_result"
    }
   ],
   "source": [
    "m1_df = m1_df.merge(type_encoded, left_index=True, right_index=True)\n",
    "m1_df"
   ],
   "metadata": {
    "collapsed": false,
    "pycharm": {
     "name": "#%%\n"
    }
   }
  },
  {
   "cell_type": "markdown",
   "source": [
    "Model 1 blablabla TODO(m-jeu): Tekst"
   ],
   "metadata": {
    "collapsed": false
   }
  },
  {
   "cell_type": "code",
   "execution_count": 111,
   "outputs": [
    {
     "data": {
      "text/plain": "(898526, 16)"
     },
     "execution_count": 111,
     "metadata": {},
     "output_type": "execute_result"
    }
   ],
   "source": [
    "m1_df.shape"
   ],
   "metadata": {
    "collapsed": false,
    "pycharm": {
     "name": "#%%\n"
    }
   }
  },
  {
   "cell_type": "code",
   "execution_count": 112,
   "outputs": [],
   "source": [
    "m1_df.dropna(inplace=True)"
   ],
   "metadata": {
    "collapsed": false,
    "pycharm": {
     "name": "#%%\n"
    }
   }
  },
  {
   "cell_type": "code",
   "execution_count": 113,
   "outputs": [
    {
     "data": {
      "text/plain": "(519888, 16)"
     },
     "execution_count": 113,
     "metadata": {},
     "output_type": "execute_result"
    }
   ],
   "source": [
    "m1_df.shape"
   ],
   "metadata": {
    "collapsed": false,
    "pycharm": {
     "name": "#%%\n"
    }
   }
  },
  {
   "cell_type": "code",
   "execution_count": 114,
   "outputs": [],
   "source": [
    "\n",
    "X_m1 = m1_df.drop(columns=\"Target\")\n",
    "y_m1 = m1_df[\"Target\"]"
   ],
   "metadata": {
    "collapsed": false,
    "pycharm": {
     "name": "#%%\n"
    }
   }
  },
  {
   "cell_type": "code",
   "execution_count": 115,
   "outputs": [],
   "source": [
    "X_m1_train, X_m1_test, y_m1_train, y_m1_test = model_selection.train_test_split(X_m1, y_m1, random_state=0)"
   ],
   "metadata": {
    "collapsed": false,
    "pycharm": {
     "name": "#%%\n"
    }
   }
  },
  {
   "cell_type": "code",
   "execution_count": 118,
   "outputs": [
    {
     "data": {
      "text/plain": "64.74527529788195"
     },
     "execution_count": 118,
     "metadata": {},
     "output_type": "execute_result"
    }
   ],
   "source": [
    "m1 = linear_model.LinearRegression()\n",
    "m1.fit(X_m1_train, y_m1_train)\n",
    "convert_timeunit(metrics.mean_squared_error(y_m1_test, m1.predict(X_m1_test), squared=False), TimeUnit.second, TimeUnit.minute)"
   ],
   "metadata": {
    "collapsed": false,
    "pycharm": {
     "name": "#%%\n"
    }
   }
  },
  {
   "cell_type": "code",
   "execution_count": 134,
   "outputs": [
    {
     "data": {
      "text/plain": "64.26043563256438"
     },
     "execution_count": 134,
     "metadata": {},
     "output_type": "execute_result"
    }
   ],
   "source": [
    "m1_t = tree.DecisionTreeRegressor(max_depth=20)\n",
    "m1_t.fit(X_m1_train, y_m1_train)\n",
    "convert_timeunit(metrics.mean_squared_error(y_m1_test, m1_t.predict(X_m1_test), squared=False), TimeUnit.second, TimeUnit.minute)"
   ],
   "metadata": {
    "collapsed": false,
    "pycharm": {
     "name": "#%%\n"
    }
   }
  },
  {
   "cell_type": "code",
   "execution_count": 138,
   "outputs": [
    {
     "data": {
      "text/plain": "64.67803078615172"
     },
     "execution_count": 138,
     "metadata": {},
     "output_type": "execute_result"
    }
   ],
   "source": [
    "from sklearn.preprocessing import PolynomialFeatures\n",
    "from sklearn.pipeline import make_pipeline\n",
    "from sklearn.linear_model import LinearRegression\n",
    "\n",
    "degree = 3\n",
    "\n",
    "polyreg = make_pipeline(PolynomialFeatures(degree),LinearRegression())\n",
    "\n",
    "polyreg.fit(X_m1_train,y_m1_train)\n",
    "convert_timeunit(metrics.mean_squared_error(y_m1_test, polyreg.predict(X_m1_test), squared=False), TimeUnit.second, TimeUnit.minute)"
   ],
   "metadata": {
    "collapsed": false,
    "pycharm": {
     "name": "#%%\n"
    }
   }
  },
  {
   "cell_type": "markdown",
   "source": [],
   "metadata": {
    "collapsed": false,
    "pycharm": {
     "name": "#%% md\n"
    }
   }
  }
 ],
 "metadata": {
  "interpreter": {
   "hash": "b3ba2566441a7c06988d0923437866b63cedc61552a5af99d1f4fb67d367b25f"
  },
  "kernelspec": {
   "display_name": "Python 3.8.8 64-bit ('base': conda)",
   "name": "python3"
  },
  "language_info": {
   "codemirror_mode": {
    "name": "ipython",
    "version": 3
   },
   "file_extension": ".py",
   "mimetype": "text/x-python",
   "name": "python",
   "nbconvert_exporter": "python",
   "pygments_lexer": "ipython3",
   "version": "3.8.8"
  }
 },
 "nbformat": 4,
 "nbformat_minor": 0
}