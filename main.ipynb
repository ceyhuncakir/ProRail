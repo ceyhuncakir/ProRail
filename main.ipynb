{
 "cells": [
  {
   "cell_type": "markdown",
   "metadata": {
    "collapsed": false
   },
   "source": [
    "<h1>Data Driven Business: Data Science pipeline.</h1>\n",
    "\n",
    "Om nuttige voorspellingen te doen, moet eerst bepaald worden wat voorspeld moet worden. Dit document in bedoelt om later in het hoofd-document in integreren, maar is voor nu stand-alone, en dekt de Business-Understanding, Data-Understanding en (gedeeltelijk) Data-Preparation voor het target variabele af.\n",
    "\n",
    "<h2>Target variabele.</h2>\n",
    "\n",
    "<h3>Business understanding</h3>\n",
    "\n",
    "Door de interviews met onze business-expert hebben begrepen dat het voorspellen van moment van 'functieherstel' toegevoegde waarde voor ProRail zou hebben. Dit is het moment dat een traject weer klaar is om treinverkeer toe te staan. Via ProRail hebben wij dit diagram aangeleverd gekregen, wat inzicht geeft in het bedrijfsprocess:\n",
    "\n",
    "![title](images/badkuip.png)\n",
    "De X-as beslaat tijd, en de Y-as hoeveelheid treinverkeer (beiden non-proportioneel). Dit model zal naar gerefereerd worden als 'badkuip model'.\n",
    "\n",
    "Functieherstel staat niet expliciet benoemd in dit model, maar vind plaats in de buurt van het \"Storing-Eind\" moment, en wanneer de lijn weer omhoog begint te bewegen op de Y-as.\n",
    "\n",
    "ProRail baat bij een goede voorspelling wat betreft moment van functieherstel, zodat ze kunnen zorgen dat het opstarten van de dienstregeling zo goed mogelijk hierop kan aansluiten.\n",
    "\n",
    "Uit de interviews blijkt dat de gegevens die waarschijnlijk tot een goede prognose leiden waarschijnlijk pas beschikbaar zijn wanneer een aannemer ter plekke is, in het badkuipmodel benoemd als \"oplosteam aanwezig\". Als het goed is zijn zowel het tijdstip van aankomst van de monteur, als het tijdstip van functieherstel aanwezig in de dataset, hoewel dit later in 'Data Understanding' bevestigd moet worden.\n",
    "\n",
    "De verstreken tijd tussen de melding van een incident, en het moment dat een oplosteam aanwezig is is sterk variabel. Hoewel dit in de toekomst wellicht ook te voorspellen zou zijn met een model, beperken wij in onze huidige aanpak tot het voorspellen van 'aankomst aannemer' tot 'functieherstel', omdat dat volgens onze huidige business-kennis het best voorspelbaar is aan de hand van de attributen van een specifieke storing.\n",
    "\n",
    "<h3>Data Understanding.</h3>\n",
    "\n",
    "Om de mogelijkheid van het implementeren van het targetvariabele van (tijdstip functieherstel) - (tijdstip aankomst aannemer) te onderzoeken, moet de data geïnspecteerd om te bepalen of dit ook echt realistisch is. Hiervoor onderzoeken we de eerder benoemde hypothese voor targetvariabele, en eventuele variabelen die hier concurrentie voor zouden kunnen zijn, of meer inzicht zouden kunnen geven.\n",
    "\n",
    "We beginnen met het importeren van een aantal libraries, en de dataset:"
   ]
  },
  {
   "cell_type": "code",
   "execution_count": null,
   "metadata": {
    "collapsed": true
   },
   "outputs": [],
   "source": [
    "import enum\n",
    "\n",
    "import numpy as np\n",
    "import pandas as pd\n",
    "import matplotlib.pyplot as plt\n",
    "import seaborn as sns\n",
    "\n",
    "from sklearn import metrics\n",
    "from sklearn import dummy\n",
    "from sklearn import linear_model\n",
    "from sklearn import model_selection\n",
    "from sklearn import tree\n",
    "from sklearn.preprocessing import PolynomialFeatures\n",
    "from sklearn.pipeline import make_pipeline\n",
    "from sklearn.linear_model import LinearRegression\n"
   ]
  },
  {
   "cell_type": "code",
   "execution_count": null,
   "metadata": {
    "collapsed": false,
    "pycharm": {
     "name": "#%%\n"
    }
   },
   "outputs": [],
   "source": [
    "df = pd.read_csv(\"sap_storing_data_hu_project.csv\", low_memory=True)\n",
    "df"
   ]
  },
  {
   "cell_type": "markdown",
   "metadata": {
    "collapsed": false
   },
   "source": [
    "Omdat de dataset redelijk groot is, kosten veel van de operaties die tijdens het verkennen van de data gebeuren, erg veel tijd. Volgens onze business-expert zou een willikeurige selectie van ongeveer 10% van de dataset alsnog representatief voor de hele dataset moeten zijn, dus voor het verkennen maken we dit meteen aan."
   ]
  },
  {
   "cell_type": "code",
   "execution_count": null,
   "metadata": {
    "collapsed": false,
    "pycharm": {
     "name": "#%%\n"
    }
   },
   "outputs": [],
   "source": [
    "sample = df.sample(frac=0.1, random_state=1)"
   ]
  },
  {
   "cell_type": "markdown",
   "metadata": {
    "collapsed": false
   },
   "source": [
    "Iets interessants om te onderzoeken is de relatie tussen de tijdstippen van functieherstel, storing eind, en tijdstip van melding. We maken voor de onderzoek doeleinden hier aparte variabelen van voor gemak, en kijken naar de datatypes."
   ]
  },
  {
   "cell_type": "code",
   "execution_count": null,
   "metadata": {
    "collapsed": false,
    "pycharm": {
     "name": "#%%\n"
    }
   },
   "outputs": [],
   "source": [
    "fh_tijdstip = sample[\"stm_fh_ddt\"]\n",
    "stor_eind = sample[\"stm_sap_storeind_ddt\"]\n",
    "stm_sap_meld_ddt = sample[\"stm_sap_meld_ddt\"]"
   ]
  },
  {
   "cell_type": "code",
   "execution_count": null,
   "metadata": {
    "collapsed": false,
    "pycharm": {
     "name": "#%%\n"
    }
   },
   "outputs": [],
   "source": [
    "print(f\"\"\"{fh_tijdstip.dtype}\n",
    "{stor_eind.dtype}\n",
    "{stm_sap_meld_ddt.dtype}\"\"\")"
   ]
  },
  {
   "cell_type": "markdown",
   "metadata": {
    "collapsed": false
   },
   "source": [
    "Al deze kolommen bestaan uit Strings. Deze moeten omgezet worden naar DateTime voor effectief rekenwerk. Hierna slaan we ze op in een apart DataFrame voor onderzoek. Uit dit dataframe verwijderen we alle rijen waar minimaal 1 NaN waarde instaat, omdat dit dataframe bedoelt is om de werking tussen de verschillende kolommen te vergelijken.\n",
    "\n",
    "Ook definieren we een TimeDelta object voor 2 minuten, omdat het exact vergelijken van tijdstippen voor onze doelen vaak niet nuttig is, en als dingen binnen 2 minuten van elkaar vallen, dit in veel gevallen meer informatie kan geven."
   ]
  },
  {
   "cell_type": "code",
   "execution_count": null,
   "metadata": {
    "collapsed": false,
    "pycharm": {
     "name": "#%%\n"
    }
   },
   "outputs": [],
   "source": [
    "fh_tijdstip = pd.to_datetime(fh_tijdstip, errors=\"coerce\")\n",
    "stor_eind = pd.to_datetime(stor_eind, errors=\"coerce\")\n",
    "stm_sap_meld_ddt = pd.to_datetime(stm_sap_meld_ddt, errors=\"coerce\")\n",
    "\n",
    "twominutes = pd.to_timedelta(2, unit=\"m\")"
   ]
  },
  {
   "cell_type": "code",
   "execution_count": null,
   "metadata": {
    "collapsed": false,
    "pycharm": {
     "name": "#%%\n"
    }
   },
   "outputs": [],
   "source": [
    "#sample_de_1 = DataFrame DataExploration 1\n",
    "df_de_1 = pd.DataFrame({\"fh_ddt\": fh_tijdstip,\n",
    "                       \"se_ddt\": stor_eind,\n",
    "                       \"meld_ddt\": stm_sap_meld_ddt}).dropna()\n",
    "\n",
    "df_de_1.shape  # 1/3rd is dropped from nas"
   ]
  },
  {
   "cell_type": "markdown",
   "metadata": {
    "collapsed": false
   },
   "source": [
    "Een eerste vraag om te onderzoek is naar het verschil tussen \"Storing eind\" en \"Functieherstel\". Uit ons business-onderzoek begrijpen we dat deze waarschijnlijk de volgende betekenissen hebben:\n",
    "\n",
    "Functieherstel: Het moment dat er theoretisch weer treinverkeer over het traject kan.\n",
    "Storing eind: Wanneer het probleem opgelost is, en de herstelwerkzaamheden voltooid zijn.\n",
    "\n",
    "Omdat het probleem vaak opgelost is, wanneer er weer treinen over het traject kunnen, zullen deze 2 momenten vaak tegelijk zijn. Dit kunnen we ook bevestigen:"
   ]
  },
  {
   "cell_type": "code",
   "execution_count": null,
   "metadata": {
    "collapsed": false,
    "pycharm": {
     "name": "#%%\n"
    }
   },
   "outputs": [],
   "source": [
    "def percentage(numerator: float, denominator: float) -> float:\n",
    "    \"\"\"Calculate a percentage from a fraction.\n",
    "\n",
    "    Args:\n",
    "        numerator: fraction numerator.\n",
    "        denominator: fraction denominator.\n",
    "\n",
    "    Returns:\n",
    "        Percentage between 0 and 100, as float.\"\"\"\n",
    "    return (numerator / denominator) * 100\n",
    "\n",
    "\n",
    "n_fh_is_se = (np.abs(df_de_1[\"fh_ddt\"] - df_de_1[\"se_ddt\"]) < twominutes).sum()\n",
    "f\"Storing Eind is in {percentage(n_fh_is_se, df_de_1.shape[0])}% van de gevallen binnen 2 minuten van Functie Herstel.\""
   ]
  },
  {
   "cell_type": "markdown",
   "metadata": {
    "collapsed": false
   },
   "source": [
    "In veel andere gevallen zou men verwachten dat storing eind na functieherstel is, wanneer de aannemer het spoor weer operationeel krijgt, maar daarna wel nog werk moet afmaken."
   ]
  },
  {
   "cell_type": "code",
   "execution_count": null,
   "metadata": {
    "collapsed": false,
    "pycharm": {
     "name": "#%%\n"
    }
   },
   "outputs": [],
   "source": [
    "n_fh_voor_se = ((df_de_1[\"se_ddt\"] - twominutes) > df_de_1[\"fh_ddt\"]).sum()\n",
    "f\"Storing eind is in {percentage(n_fh_voor_se, df_de_1.shape[0])}% van de gevallen meer dan 2 minuten na functieherstel.\""
   ]
  },
  {
   "cell_type": "markdown",
   "metadata": {
    "collapsed": false
   },
   "source": [
    "Dit correspondeerd met de verwachting van Business Understanding."
   ]
  },
  {
   "cell_type": "markdown",
   "metadata": {
    "collapsed": false
   },
   "source": [
    "Eerder hebben wij op basis van businesskennis een belovend targetvariabele vastgesteld, namelijk het verschil in tijd tussen het arriveren van de aannemer, en functieherstel. Om dit daadwerkelijk te kunnen gebruiken moet de daadwerkelijke data die hieraan correspondeerd geïnspecteerd worden.\n",
    "\n",
    "In de data dictionairy staan specifiek een kolom voor datum en tijd (apart) benoemd voor het arriveren van de aannemer, namelijk \"stm_aanntpl_dd\" voor datum en \"stm_aanntpl_tijd\" voor tijd. In de dataset zit ook een kolom \"stm_aanntpl_ddt\", hoewel deze in de dictionairy als n.v.t. bestempeld is. Toch lijkt het nuttig het verschil tussen deze kolommen even te inspecteren, om te kijken welke van deze het beste is.\n",
    "\n",
    "Ten eerste is het handig een beeld te hebben hoeveel NaN waardes er in deze kolommen zitten."
   ]
  },
  {
   "cell_type": "code",
   "execution_count": null,
   "metadata": {
    "collapsed": false,
    "pycharm": {
     "name": "#%%\n"
    }
   },
   "outputs": [],
   "source": [
    "n_nan_aanntpl_dd = sample[\"stm_aanntpl_dd\"].isna().sum()\n",
    "f\"De datumkolom bestaat voor {percentage(n_nan_aanntpl_dd, sample.shape[0])}% uit NaN waardes.\""
   ]
  },
  {
   "cell_type": "code",
   "execution_count": null,
   "metadata": {
    "collapsed": false,
    "pycharm": {
     "name": "#%%\n"
    }
   },
   "outputs": [],
   "source": [
    "n_nan_aanntpl_tijd = sample[\"stm_aanntpl_tijd\"].isna().sum()\n",
    "f\"De tijdkolom bestaat voor {percentage(n_nan_aanntpl_tijd, sample.shape[0])}% uit NaN waardes.\""
   ]
  },
  {
   "cell_type": "code",
   "execution_count": null,
   "metadata": {
    "collapsed": false,
    "pycharm": {
     "name": "#%%\n"
    }
   },
   "outputs": [],
   "source": [
    "n_nan_aanntpl_ddt = sample[\"stm_aanntpl_ddt\"].isna().sum()\n",
    "f\"De gecombineerde datum en tijdkolom bestaat voor {percentage(n_nan_aanntpl_dd, sample.shape[0])}% uit NaN waardes.\""
   ]
  },
  {
   "cell_type": "markdown",
   "metadata": {
    "collapsed": false
   },
   "source": [
    "De hoeveelheid NaN waardes komt overeen tussen de dd en ddt kolommen. Om te bevestigen dat deze gelijk zijn kunnen we de datum en tijd kolommen combineren naar één, en ze allemaal als DateTime objecten in een apart DataFrame zetten."
   ]
  },
  {
   "cell_type": "code",
   "execution_count": null,
   "metadata": {
    "collapsed": false,
    "pycharm": {
     "name": "#%%\n"
    }
   },
   "outputs": [],
   "source": [
    "ddt_format = sample[\"stm_aanntpl_dd\"] + \" \" + sample[\"stm_aanntpl_tijd\"]\n",
    "\n",
    "df_aan = pd.DataFrame({\"t\": pd.to_datetime(sample[\"stm_aanntpl_tijd\"], errors=\"coerce\"),\n",
    "                       \"d\": pd.to_datetime(sample[\"stm_aanntpl_dd\"], errors=\"coerce\"),\n",
    "                       \"dt\": pd.to_datetime(sample[\"stm_aanntpl_ddt\"], errors=\"coerce\"),\n",
    "                       \"dt_own\": pd.to_datetime(ddt_format, errors=\"coerce\")}).dropna()\n"
   ]
  },
  {
   "cell_type": "code",
   "execution_count": null,
   "metadata": {
    "collapsed": false,
    "pycharm": {
     "name": "#%%\n"
    }
   },
   "outputs": [],
   "source": [
    "f\"In {percentage((df_aan['dt'] == df_aan['dt_own']).sum(), df_aan.shape[0])}% van de non-NaN gevallen is de ddt kolom gelijk aan aan de datum en tijd kolom.\""
   ]
  },
  {
   "cell_type": "markdown",
   "metadata": {
    "collapsed": false
   },
   "source": [
    "Al met al kunnen we dus net zo goed de ddt_tabel in de originele dataset gebruiken als targetvariabele.\n",
    "\n",
    "Dan nog even kijken of er idd genoeg nuttige entries zijn voor functieherstel - arrival monteur"
   ]
  },
  {
   "cell_type": "code",
   "execution_count": null,
   "metadata": {
    "collapsed": false,
    "pycharm": {
     "name": "#%%\n"
    }
   },
   "outputs": [],
   "source": [
    "possible_target = df_de_1[\"fh_ddt\"] - df_aan[\"dt\"]  # Tijdstip functieherstel - tijdstip aankomst aannemer.\n",
    "f\"De mogelijke target bestaat voor {percentage(possible_target.isna().sum(), possible_target.shape[0])}% uit NaN-waardes.\""
   ]
  },
  {
   "cell_type": "markdown",
   "metadata": {
    "collapsed": false
   },
   "source": []
  },
  {
   "cell_type": "code",
   "execution_count": null,
   "metadata": {
    "collapsed": false,
    "pycharm": {
     "name": "#%%\n"
    }
   },
   "outputs": [],
   "source": [
    "possible_target.dropna(inplace=True)\n",
    "f\"Wanneer deze NaN-waardes worden weggelaten hou je van de originele dataset uiteindelijk ongeveer {percentage(possible_target.shape[0], sample.shape[0])}% over die een targetvariabele hebben.\""
   ]
  },
  {
   "cell_type": "markdown",
   "metadata": {
    "collapsed": false
   },
   "source": [
    "Om een nuttig targetvariabele te creeëren, zouden we uiteindelijk alle TimeDelta objecten die we gecreeërd hebben omzetten naar de hoeveelheid seconden waaruit dit tijdsinterval bestaat. Hoewel rekenen in seconden het inzicht mogelijk moeilijker maakt, verhoogt dit wel de granulariteit van het targetvariabele, waardoor deze zich meer gedraagd als continue waarde, wat de performance van het model weer ten goede komt. Om inzicht te verbeteren in performance, definieren we voor het gemak wel even een functie die een seconden-series naar minuten omzet, zodat grafieken leesbaarder gemaakt kunnen worden."
   ]
  },
  {
   "cell_type": "code",
   "execution_count": null,
   "metadata": {
    "collapsed": false,
    "pycharm": {
     "name": "#%%\n"
    }
   },
   "outputs": [],
   "source": [
    "class TimeUnit(enum.Enum):\n",
    "    \"\"\"Enum that represents a unit of measurement of time, to enable easy conversion from one unit to another.\n",
    "\n",
    "    Values for units of measurements are measured in seconds.\"\"\"\n",
    "    second = 1\n",
    "    minute = 60\n",
    "    hour = 60 * 60\n",
    "    day_night_cycle = 60 * 60 * 24\n",
    "\n",
    "\n",
    "def convert_timeunit(value: pd.Series or float or int,\n",
    "                     from_type: TimeUnit,\n",
    "                     to_type: TimeUnit) -> float:\n",
    "    \"\"\"Convert an amount of time as number, or a series of those, to another.\n",
    "\n",
    "    Not class attribute of TimeUnit class to allow for better typing.\n",
    "\n",
    "    Args:\n",
    "        value:\n",
    "            a number, or a series of numbers, that represent an amount of time in a certain unit of measurement as defined in\n",
    "            TimeUnit.\n",
    "        from_type: TimeUnit scale of measurement of time that input is in.\n",
    "        to_type: TimeUnit scale of measurement of time that output should be in.\n",
    "\n",
    "    Returns:\n",
    "        Time measurement(s) converted to new unit of measurement.\n",
    "        Scalar if input was scalar, array/series of input type if input was array/series.\"\"\"\n",
    "    coef = from_type.value / to_type.value\n",
    "    return value * coef"
   ]
  },
  {
   "cell_type": "markdown",
   "metadata": {
    "collapsed": false
   },
   "source": [
    "We creeëren voor nu een apart variabele voor het targetvariabele als seconden. Deze bevat mogelijk een aantal 0-waarden, laten we deze eerst inspecteren."
   ]
  },
  {
   "cell_type": "code",
   "execution_count": null,
   "metadata": {
    "collapsed": false,
    "pycharm": {
     "name": "#%%\n"
    }
   },
   "outputs": [],
   "source": [
    "de_target_secs = possible_target.dt.total_seconds()\n",
    "f\"Het targetvariabele bestaat voor {percentage((de_target_secs == 0).sum(), de_target_secs.shape[0])}% uit 0 seconden.\""
   ]
  },
  {
   "cell_type": "markdown",
   "metadata": {
    "collapsed": false
   },
   "source": [
    "Het is wellicht interessant een beeld te hebben van outliers van ons targetvariabele:"
   ]
  },
  {
   "cell_type": "code",
   "execution_count": null,
   "metadata": {
    "collapsed": false,
    "pycharm": {
     "name": "#%%\n"
    }
   },
   "outputs": [],
   "source": [
    "plt.boxplot(de_target_secs)"
   ]
  },
  {
   "cell_type": "markdown",
   "metadata": {
    "collapsed": false
   },
   "source": [
    "Uit deze bijna-onleesbare boxplot blijkt dat vooral boven de bovengrens, er heel veel extreme outliers zijn. Aan de onderkant zijn er ook een aantal negatieve waarden. Als we er vanuit gaan dat dit niet door foutive data word veroorzaakt, betekend dit waarschijnlijk dat er al weer treinen kunnen rijden, voordat er uberhaupt een monteur aan te pas komt. Hier moet wat aan gedaan worden.\n",
    "\n",
    "Een standaardmethode om outliers te verwijderen, is de interkwartielafstand(<i>IQR</i>) berekenen, en alle waarnemingen 3IQR boven het 3e kwartiel, en 3IQR onder het eerste kwartiel te verwijderen. Het lijkt ons echter verstandiger in dit geval het verwijderen van outliers te baseren op business-kennis.\n",
    "\n",
    "Om een nuttig voorspellend model te maken, is het waarschijnlijk handig om een ondergrens in functiehersteltijd te stellen vanaf het moment dat de aannemer komt. Omdat wij inschatten dat bij storingen onder de 5 minuten de aannemer zelf ook kan inschatten dat het heel kort gaat duren, en een voorspelling hier waarschijnlijk niet nuttig is, laten we deze weg uit onze dataset.\n",
    "\n",
    "Onze business-expert heeft aangegeven alle hersteltijden boven de 6u niet interessant te vinden, dus deze waarnemingen laten we als NaN waarde in ons targetvariabele, en maken we een aparte binaire-categorie kolom voor, zodat dit eventueel in de toekomst nog gebruikt kan worden voor een apart model.\n",
    "\n",
    "Om de verdelingen voor het eerste model te kunnen onderzoeken, halen we bij de data-exploration set nu alles onder 5 minuten en boven 6 uur eruit.\n",
    "\n"
   ]
  },
  {
   "cell_type": "code",
   "execution_count": null,
   "metadata": {
    "collapsed": false,
    "pycharm": {
     "name": "#%%\n"
    }
   },
   "outputs": [],
   "source": [
    "de_target_secs = de_target_secs.loc[(de_target_secs < convert_timeunit(6, TimeUnit.hour, TimeUnit.second)) & (de_target_secs > convert_timeunit(5, TimeUnit.minute, TimeUnit.second))]"
   ]
  },
  {
   "cell_type": "code",
   "execution_count": null,
   "metadata": {
    "collapsed": false,
    "pycharm": {
     "name": "#%%\n"
    }
   },
   "outputs": [],
   "source": [
    "(convert_timeunit(de_target_secs, TimeUnit.second, TimeUnit.hour)).hist(bins=50)"
   ]
  },
  {
   "cell_type": "markdown",
   "metadata": {
    "collapsed": false
   },
   "source": [
    "Ons targetvariabele lijkt exponentieel verdeeld te zijn."
   ]
  },
  {
   "cell_type": "markdown",
   "source": [
    "Hiernaast definiëren we wel een functie die outliers op de klassieke wijze verwijderd, voor gebruik later."
   ],
   "metadata": {
    "collapsed": false
   }
  },
  {
   "cell_type": "code",
   "execution_count": null,
   "outputs": [],
   "source": [
    "def remove_outliers(s: pd.Series, fence: float = 3) -> pd.Series:\n",
    "    \"\"\"Remove the outliers from a Pandas series by removing all values that lie below q1 or above q3 with\n",
    "    the product of the inter quartile distance and the 'fence'.\n",
    "\n",
    "    Args:\n",
    "        s: Series to remove outliers from.\n",
    "        fence: amount of IQRs value should lie above q3 or below q1 with to get designated an outlier.\n",
    "\n",
    "    Returns:\n",
    "        Series without outliers.\"\"\"\n",
    "    q1, q3 = s.quantile(.25), s.quantile(.75)\n",
    "    iqr = q3 - q1\n",
    "    fence_iqr_prod = fence * iqr\n",
    "    return s.loc[(s > q1 - fence_iqr_prod) & (s < q3 + fence_iqr_prod)]"
   ],
   "metadata": {
    "collapsed": false,
    "pycharm": {
     "name": "#%%\n"
    }
   }
  },
  {
   "cell_type": "markdown",
   "metadata": {
    "collapsed": false
   },
   "source": [
    "<h3>Data preperation.</h3>\n",
    "\n",
    "Nu we een idee hebben van een (hopelijk) bruikbaar target variabele, kunnen de benodigde operaties op de originele dataset uitgevoerd worden, om hieruit een volledig uitgewerkt targetvariabele voor later gebruik uit te creeëren.\n",
    "\n",
    "We beginnen door de 2 benodigde kolommen voor het target variabele naar DateTime objecten te veranderen in nieuwe kolommen."
   ]
  },
  {
   "cell_type": "code",
   "execution_count": null,
   "metadata": {
    "collapsed": false,
    "pycharm": {
     "name": "#%%\n"
    }
   },
   "outputs": [],
   "source": [
    "df[\"stm_aanntpl_ddt_as_pddt\"] = pd.to_datetime(df[\"stm_aanntpl_ddt\"], errors=\"coerce\")\n",
    "df[\"stm_fh_ddt_as_pddt\"] = pd.to_datetime(df[\"stm_fh_ddt\"], errors=\"coerce\")"
   ]
  },
  {
   "cell_type": "markdown",
   "metadata": {
    "collapsed": false
   },
   "source": [
    "Hierna maken we een aparte kolom in de dataframe van het tijdstip van functieherstel, min tijdstip van arriveren van de monteur."
   ]
  },
  {
   "cell_type": "code",
   "execution_count": null,
   "metadata": {
    "collapsed": false,
    "pycharm": {
     "name": "#%%\n"
    }
   },
   "outputs": [],
   "source": [
    "df[\"fh_min_aanntpl\"] = df[\"stm_fh_ddt_as_pddt\"] - df[\"stm_aanntpl_ddt_as_pddt\"]"
   ]
  },
  {
   "cell_type": "markdown",
   "metadata": {
    "collapsed": false
   },
   "source": [
    "We slaan van deze nieuwe kolom het verschil op als seconden in een apart variabele."
   ]
  },
  {
   "cell_type": "code",
   "execution_count": null,
   "metadata": {
    "collapsed": false,
    "pycharm": {
     "name": "#%%\n"
    }
   },
   "outputs": [],
   "source": [
    "target = df[\"fh_min_aanntpl\"].dt.total_seconds()"
   ]
  },
  {
   "cell_type": "markdown",
   "metadata": {
    "collapsed": false
   },
   "source": [
    "We laten hieruit alles boven de 6 uur, en alles onder de 5 minuten weg, en slaan dit op in een nieuwe variabele."
   ]
  },
  {
   "cell_type": "code",
   "execution_count": null,
   "metadata": {
    "collapsed": false,
    "pycharm": {
     "name": "#%%\n"
    }
   },
   "outputs": [],
   "source": [
    "boven_5_min = target > convert_timeunit(5, TimeUnit.minute, TimeUnit.second)\n",
    "onder_6_uur = target < convert_timeunit(6, TimeUnit.hour, TimeUnit.second)\n",
    "\n",
    "target = target.loc[boven_5_min & onder_6_uur]  # Gemeten in seconden.\n",
    "\n",
    "target.head(5)"
   ]
  },
  {
   "cell_type": "markdown",
   "metadata": {
    "collapsed": false
   },
   "source": [
    "<h3>Modelling</h3>\n",
    "\n",
    "Met een volledig voorbereid targetvariabele, kan er een 'BaseLine' model gemaakt worden, om een RMSE score vast te stellen die overtrefd kan worden. De meest logische strategie hiervoor is het gemiddelde gokken van alle bekende waardes. Hiervoor gebruiken we van SciKitLearn de DummyRegressor, met de 'mean' strategie."
   ]
  },
  {
   "cell_type": "code",
   "execution_count": null,
   "metadata": {
    "collapsed": false,
    "pycharm": {
     "name": "#%%\n"
    }
   },
   "outputs": [],
   "source": [
    "baseline = dummy.DummyRegressor(strategy=\"mean\")\n",
    "baseline_X = np.arange(target.shape[0])  # Dummy feature variabelen voor BaseLine.\n",
    "baseline.fit(np.arange(target.shape[0]), target)"
   ]
  },
  {
   "cell_type": "markdown",
   "metadata": {
    "collapsed": false
   },
   "source": [
    "Van dit baseline model kunnen we vervolgens de RMSE score in seconden bepalen."
   ]
  },
  {
   "cell_type": "code",
   "execution_count": null,
   "metadata": {
    "collapsed": false,
    "pycharm": {
     "name": "#%%\n"
    }
   },
   "outputs": [],
   "source": [
    "baseline_rmse = metrics.mean_squared_error(target, baseline.predict(baseline_X), squared=False)\n",
    "baseline_rmse"
   ]
  },
  {
   "cell_type": "markdown",
   "metadata": {
    "collapsed": false
   },
   "source": [
    "Voor inzicht is het ook wel interessant deze score even in minuten te bekijken, omdat dit toch meer inzicht geeft in de business-context."
   ]
  },
  {
   "cell_type": "code",
   "execution_count": null,
   "metadata": {
    "collapsed": false,
    "pycharm": {
     "name": "#%%\n"
    }
   },
   "outputs": [],
   "source": [
    "convert_timeunit(baseline_rmse, TimeUnit.second, TimeUnit.minute)"
   ]
  },
  {
   "cell_type": "markdown",
   "metadata": {
    "collapsed": false
   },
   "source": [
    "Dit model slaan we op in een DataFrame, waar later ook andere modellen in opgeslagen kunnen worden, zodat deze overzichtelijk bekeken kunnen worden."
   ]
  },
  {
   "cell_type": "code",
   "execution_count": null,
   "metadata": {
    "collapsed": false,
    "pycharm": {
     "name": "#%%\n"
    }
   },
   "outputs": [],
   "source": [
    "models = pd.DataFrame({\"Title\": [\"BaseLine model with mean strategy\"],\n",
    "                       \"Model\": [baseline],\n",
    "                       \"RMSE\": [baseline_rmse]})\n",
    "\n",
    "models"
   ]
  },
  {
   "cell_type": "markdown",
   "metadata": {
    "collapsed": false
   },
   "source": [
    "<h2>Feature variabelen: model 1</h2>\n",
    "\n",
    "<h2>Business understanding</h2>\n",
    "\n",
    "Uit onze interviews met ProRail blijken dat een aantal variabelen die waarschijnlijk in de Dataset te vinden zijn, van significante invloed zijn op ons targetvariabele. Dit zijn:\n",
    "\n",
    "<ul>\n",
    "<li>Type storing</li>\n",
    "<li>Tijdstip op de dag</li>\n",
    "<li>Dag in het jaar</li>\n",
    "<li>Inschatting treinverkeersleider</li>\n",
    "<li>Inschatting aannemer</li>\n",
    "<li>Monitoringscode</li>\n",
    "<li>Gebied</li>\n",
    "</ul>\n",
    "\n",
    "Met als doel deze variabelen uiteindelijk in een model te gebruiken. We zullen van het CRISP-DM process per variabele de Data-Understanding en Data-Preperation stappen behandelen, met waar relevant Business-Understanding.\n",
    "Per featurevariabele:"
   ]
  },
  {
   "cell_type": "markdown",
   "metadata": {},
   "source": [
    "<h3>Monitorings informatie</h3>\n",
    "\n",
    "Zoals eerder in het document is genoemd is, zou informatie vanuit de monitoring nuttig kunnen zijn voor een voorspellend model.\n",
    "\n",
    "Hier gaan we dit onderzoeken.\n",
    "\n",
    "Vanuit business understanding weten we dat alleen de monitorings code relevant is, dus we gaan hier onderzoeken welke kolommen dat zijn.\n"
   ]
  },
  {
   "cell_type": "markdown",
   "metadata": {},
   "source": [
    "In de data dictionairy hebben 2 kolommen gevonden die mogelijk relevant zijn, namelijk: 'stm_scenario_mon' & 'stm_mon_nr__statuscode'.\n",
    "\n",
    "We zullen nu kijken hoeveel NA's deze kolommen bevatten."
   ]
  },
  {
   "cell_type": "code",
   "execution_count": null,
   "metadata": {},
   "outputs": [],
   "source": [
    "df[['stm_mon_nr__statuscode', 'stm_scenario_mon']].isna().sum()"
   ]
  },
  {
   "cell_type": "markdown",
   "metadata": {},
   "source": [
    "Aantal NA's per kolom:\n",
    "\n",
    "<ul>\n",
    "<li>stm_mon_nr__statuscode   = 571685</li>\n",
    "<li>stm_scenario_mon         = 862111</li>\n",
    "</ul>\n",
    "\n",
    "Hier uit kunnen we concluderen dat de kolom 'stm_scenario_mon' niet bruikbaar is. Deze kolom bevat simpelweg te veel NA's om mee te werken.\n",
    "\n",
    "We zullen nog wel verder onderzoek doen op de kolom 'stm_mon_nr__statuscode'.\n",
    "\n",
    "We zullen nu kijken naar het aantal unieke waarde in de kolom."
   ]
  },
  {
   "cell_type": "code",
   "execution_count": null,
   "metadata": {},
   "outputs": [],
   "source": [
    "df['stm_mon_nr__statuscode'].nunique()"
   ]
  },
  {
   "cell_type": "markdown",
   "metadata": {},
   "source": [
    "Nu weten we dat de kolom 9 unieke waardes bevat.  (10 als je NAN zou includen)\n",
    "\n",
    "Dit is een fijn aantal om mee te werken."
   ]
  },
  {
   "cell_type": "markdown",
   "metadata": {},
   "source": [
    "Nu zullen we een boxplot maken waarin de verschillende monitoring statuscodes worden geplot tegenover het target variabele.\n",
    "\n",
    "Dit zal ons inzicht geven in het invloed per category van monitoring statuscode."
   ]
  },
  {
   "cell_type": "code",
   "execution_count": null,
   "metadata": {},
   "outputs": [],
   "source": [
    "mon_code_col = np.array([\"stm_mon_nr__statuscode\"])\n",
    "mon_code = sample[mon_code_col].astype(\"category\")\n",
    "mon_code[\"target\"] = target\n",
    "\n",
    "sns.boxplot(x=mon_code[\"stm_mon_nr__statuscode\"], y=mon_code[\"target\"])"
   ]
  },
  {
   "cell_type": "markdown",
   "metadata": {},
   "source": [
    "In deze boxplot is te zien dat de mediaan van alle categorieen relatief dichtbij elkaar zitten. Van de hoogste tot laagste mediaan is het verschil maximaal rond de 1000 seconden.\n",
    "\n",
    "Voor nu concluderen wij dat deze data niet genoeg invloed zal hebben op onze target. Mogelijk komen we hier later nog op terug als ons model meer data vereist."
   ]
  },
  {
   "cell_type": "markdown",
   "metadata": {
    "collapsed": false
   },
   "source": [
    "<h3>Tijdst op de dag, en dag in het jaar.</h3>\n",
    "\n",
    "Hier gaan we de data uit kolom 'stm_sap_meld_ddt' bruikbaar maken voor toekomstige modellen.\n",
    "Dit doen we door de datetime om te zetten naar zowel: aantal secondes vanaf middernacht & dag in het jaar\n",
    "\n",
    "Als eerst converten we stm_sap_meld_ddt naar een pandas datetime datatype. Deze kolom krijgt de naam: 'stm_sap_meld_ddt_as_pddt'.\n",
    "Op deze manier hebben we de originele data, en de omgezette data beschikbaar."
   ]
  },
  {
   "cell_type": "code",
   "execution_count": null,
   "metadata": {
    "collapsed": false,
    "pycharm": {
     "name": "#%%\n"
    }
   },
   "outputs": [],
   "source": [
    "df['stm_sap_meld_ddt_as_pddt'] = pd.to_datetime(df[\"stm_sap_meld_ddt\"], errors=\"coerce\")"
   ]
  },
  {
   "cell_type": "markdown",
   "metadata": {
    "collapsed": false
   },
   "source": [
    "Nu we een kolom hebben die in het pandas datetime datatype staat, kunnen we er gemakkelijk mee werken.\n",
    "\n",
    "We gaan hier 2 kolomen aan df toevoegen, namelijk:\n",
    "- stm_sap_meld_sec_mn:  Hierin staat het aantal secondes vanaf  00:00  tot het moment van de melding\n",
    "- stm_sap_meld_day_count:  Hierin staat de hoeveelste dag in dat jaar het is, op het moment van de melding"
   ]
  },
  {
   "cell_type": "code",
   "execution_count": null,
   "metadata": {
    "collapsed": false,
    "pycharm": {
     "name": "#%%\n"
    }
   },
   "outputs": [],
   "source": [
    "df['stm_sap_meld_sec_mn'] = (df['stm_sap_meld_ddt_as_pddt'] - df['stm_sap_meld_ddt_as_pddt'].dt.normalize()) / pd.Timedelta(seconds=1)\n",
    "df['stm_sap_meld_day_count'] = df[\"stm_sap_meld_ddt_as_pddt\"].dt.day_of_year"
   ]
  },
  {
   "cell_type": "markdown",
   "metadata": {
    "collapsed": false
   },
   "source": [
    "Deze kunnen samen met het targetvariabele gecombineerd worden in één DataFrame voor gebruik in model 1."
   ]
  },
  {
   "cell_type": "code",
   "execution_count": null,
   "metadata": {
    "collapsed": false,
    "pycharm": {
     "name": "#%%\n"
    }
   },
   "outputs": [],
   "source": [
    "m1_df = pd.DataFrame({\"Target\": target,\n",
    "                      \"Tijdstip\": df[\"stm_sap_meld_sec_mn\"],\n",
    "                      \"Dag\": df[\"stm_sap_meld_day_count\"]})"
   ]
  },
  {
   "cell_type": "markdown",
   "metadata": {
    "collapsed": false
   },
   "source": [
    "<h2>Type storing</h2>\n",
    "\n",
    "<h3>Data exploration</h3>\n",
    "\n",
    "Uit ons business-onderzoek verwachten we dat het type storing waar een verlies van functie door veroorzaakt word is is van grote invloed op de tijd die het kost om functieherstel te bereiken. Attributen uit de dataset die hier wellicht invloed op kunnen hebben zijn:\n",
    "<ol>\n",
    "<li>stm_oorz_code: de oorzaak-code</li>\n",
    "<li>stm_oorz_groep: de oorzaak-groep</li>\n",
    "<li>stm_techn_mld: het techniekveld van de melding</li>\n",
    "</ol>\n",
    "\n",
    "We zullen deze kolommen onderzoeken, tot we er een vinden die relevant lijkt te zijn.\n",
    "\n",
    "We maken van deze 3 kolommen uit de 10% subset van de dataset, en de target."
   ]
  },
  {
   "cell_type": "code",
   "execution_count": null,
   "metadata": {
    "collapsed": false,
    "pycharm": {
     "name": "#%%\n"
    }
   },
   "outputs": [],
   "source": [
    "de_type_cols = np.array([\"stm_oorz_code\", \"stm_oorz_groep\", \"stm_techn_mld\"])\n",
    "\n",
    "de_type = sample[de_type_cols].astype(\"category\")\n",
    "de_type[\"target\"] = target\n",
    "de_type.head(5)"
   ]
  },
  {
   "cell_type": "markdown",
   "metadata": {
    "collapsed": false
   },
   "source": [
    "Het is handig te weten hoeveel permutaties elk variabele heeft."
   ]
  },
  {
   "cell_type": "code",
   "execution_count": null,
   "metadata": {
    "collapsed": false,
    "pycharm": {
     "name": "#%%\n"
    }
   },
   "outputs": [],
   "source": [
    "de_type[de_type_cols].nunique()"
   ]
  },
  {
   "cell_type": "markdown",
   "metadata": {
    "collapsed": false,
    "pycharm": {
     "name": "#%% md\n"
    }
   },
   "source": [
    "Om de curse of dimensionality te voorkomen is het handig zo weinig mogelijk dimensies te introduceren met het encoderen van deze categoriale variabelen. Daarom kan het handig zijn bij zo een kolom te blijven die zo weinig mogelijk permutaties heeft. We zullen deze attributen van weinig naar veel onderzoeken.\n",
    "\n",
    "We beginnen dus bij stm_oorz_groep. Het is interessant om te weten hoe de verschillen in verdeling van het targetvariabele zijn per kolom. Hiervoor kunnen we boxplots maken per category."
   ]
  },
  {
   "cell_type": "code",
   "execution_count": null,
   "metadata": {
    "collapsed": false,
    "pycharm": {
     "name": "#%%\n"
    }
   },
   "outputs": [],
   "source": [
    "sns.boxplot(x=de_type[\"stm_oorz_groep\"], y=de_type[\"target\"])"
   ]
  },
  {
   "cell_type": "markdown",
   "metadata": {
    "collapsed": false
   },
   "source": [
    "De oorzaak groep lijkt niet veel te zeggen over het targetvariabele."
   ]
  },
  {
   "cell_type": "code",
   "execution_count": null,
   "metadata": {
    "collapsed": false,
    "pycharm": {
     "name": "#%%\n"
    }
   },
   "outputs": [],
   "source": [
    "sns.boxplot(x=de_type[\"stm_techn_mld\"], y=de_type[\"target\"])"
   ]
  },
  {
   "cell_type": "markdown",
   "metadata": {
    "collapsed": false
   },
   "source": [
    "Hier lijken we al meer mee te kunnen. We dummyencoden deze en voegen hem toe aan het dataframe voor model één."
   ]
  },
  {
   "cell_type": "code",
   "execution_count": null,
   "metadata": {
    "collapsed": false,
    "pycharm": {
     "name": "#%%\n"
    }
   },
   "outputs": [],
   "source": [
    "type_encoded = pd.get_dummies(df[\"stm_techn_mld\"], prefix=\"Techniekveld\")\n",
    "type_encoded.head(1)\n",
    "\n",
    "type_encoded.head()"
   ]
  },
  {
   "cell_type": "code",
   "execution_count": null,
   "metadata": {
    "collapsed": false,
    "pycharm": {
     "name": "#%%\n"
    }
   },
   "outputs": [],
   "source": [
    "m1_df = m1_df.merge(type_encoded, left_index=True, right_index=True)\n",
    "m1_df"
   ]
  },
  {
   "cell_type": "markdown",
   "metadata": {
    "collapsed": false
   },
   "source": [
    "<h2>Prognose aannemer.</h2>\n",
    "\n",
    "Hoewel uit de interviews blijkt dat de prognose van de aannemer over de duur van functieherstel waarschijnlijk pessimistisch is, zal deze waarschijnlijk toch wel veel zeggen over de daadwerkelijke duur van functieherstel. De aannemer maakt de eerste prognose vrij snel nadat die aankomt, waardoor deze dus ook in het model meegenomen kan worden.\n",
    "\n",
    "<h3>Data understanding</h3>\n",
    "\n",
    "In de dataset is een kolom \"stm_progfh_in_duur\", die in de data dictionairy benoemd staat als \"?Duur FHT\". Deze kolom is waarschijnlijk een mogelijk attribuut voor de voorspelde duur van functieherstel. Deze gaan we eerst onderzoeken. Ten eerste is een klein inzicht in de data, en het datatype handig."
   ]
  },
  {
   "cell_type": "code",
   "execution_count": null,
   "outputs": [],
   "source": [
    "sample[\"stm_progfh_in_duur\"].head(5)"
   ],
   "metadata": {
    "collapsed": false,
    "pycharm": {
     "name": "#%%\n"
    }
   }
  },
  {
   "cell_type": "code",
   "execution_count": null,
   "outputs": [],
   "source": [
    "sample[\"stm_progfh_in_duur\"].dtypes"
   ],
   "metadata": {
    "collapsed": false,
    "pycharm": {
     "name": "#%%\n"
    }
   }
  },
  {
   "cell_type": "markdown",
   "source": [
    "Deze kolom word als 'O' geïntrepeteerd door Pandas, hoewel de waardes numeriek lijken. We kunnen deze omzetten naar proper numieriek datatype. Het is interessant om te weten met hoeveel waardes we hierna over blijven die Pandas niet kan intrepeteren, en dus NaN-waardes van maakt."
   ],
   "metadata": {
    "collapsed": false
   }
  },
  {
   "cell_type": "code",
   "execution_count": null,
   "outputs": [],
   "source": [
    "de_prog_duur = pd.to_numeric(sample[\"stm_progfh_in_duur\"], errors=\"coerce\")\n",
    "f\"De stm_progfh_in_duur kolom bestaat voor {percentage(de_prog_duur.isna().sum(), de_prog_duur.shape[0])}% uit NaN-waardes.\""
   ],
   "metadata": {
    "collapsed": false,
    "pycharm": {
     "name": "#%%\n"
    }
   }
  },
  {
   "cell_type": "markdown",
   "source": [
    "Een redelijke hoeveelheid. Om de verdeling te bekijken kunnen we NaN-waardes veilig verwijderen."
   ],
   "metadata": {
    "collapsed": false
   }
  },
  {
   "cell_type": "code",
   "execution_count": null,
   "outputs": [],
   "source": [
    "de_prog_duur = de_prog_duur.dropna()\n",
    "de_prog_duur.head(5)"
   ],
   "metadata": {
    "collapsed": false,
    "pycharm": {
     "name": "#%%\n"
    }
   }
  },
  {
   "cell_type": "code",
   "execution_count": null,
   "outputs": [],
   "source": [
    "de_prog_duur.hist(bins=50)"
   ],
   "metadata": {
    "collapsed": false,
    "pycharm": {
     "name": "#%%\n"
    }
   }
  },
  {
   "cell_type": "markdown",
   "source": [
    "Het histogram bij dit variabele is redelijk opvallend. Het inspecteren van de data bleek eerder uit dat deze veel numerieke waardes boven de 1 bevat. Toch zitten deze niet in het histogram. Mogelijk word het creeeren van het histogram verstoord door veel extreme hoge/lage waardes. Dit is wel interessant om te onderzoeken."
   ],
   "metadata": {
    "collapsed": false
   }
  },
  {
   "cell_type": "code",
   "execution_count": null,
   "outputs": [],
   "source": [
    "f\"De stm_progfh_in_duur kolom bestaat voor {percentage((de_prog_duur == 0.0).sum(), de_prog_duur.shape[0])}% uit 0.0.\""
   ],
   "metadata": {
    "collapsed": false,
    "pycharm": {
     "name": "#%%\n"
    }
   }
  },
  {
   "cell_type": "markdown",
   "source": [
    "Ook leek er een absurd hoge waarde te zijn die vaak ingevuld is, als onechte waarde. Deze kunnen we ook onderzoeken."
   ],
   "metadata": {
    "collapsed": false
   }
  },
  {
   "cell_type": "code",
   "execution_count": null,
   "outputs": [],
   "source": [
    "f\"De stm_progfh_in_duur kolom bestaat voor {percentage((de_prog_duur == 99999999.0).sum(), de_prog_duur.shape[0])}% uit de waarde 99999999.\""
   ],
   "metadata": {
    "collapsed": false,
    "pycharm": {
     "name": "#%%\n"
    }
   }
  },
  {
   "cell_type": "markdown",
   "source": [
    "De betekenis van de prognoseduur is ook niet helemaal duidelijk uit de gegeven informatie. Is deze duur van het moment dat de aannemer aankomt, en deze prognose maakt, tot het moment van functieherstel? Of dit vanaf het moment dat de storing begint? Om dit te onderzoeken hebben we ook de datum en het tijdstip waarop de prognose van functieherstel valt in de dataset. Hier kunnen we een apart variabele van maken."
   ],
   "metadata": {
    "collapsed": false
   }
  },
  {
   "cell_type": "code",
   "execution_count": null,
   "outputs": [],
   "source": [
    "de_prog_moment = sample[\"stm_progfh_in_datum\"] + \" \" + sample[\"stm_progfh_in_tijd\"]\n",
    "de_prog_moment = pd.to_datetime(de_prog_moment, errors=\"coerce\")\n",
    "de_prog_moment.head(2)"
   ],
   "metadata": {
    "collapsed": false,
    "pycharm": {
     "name": "#%%\n"
    }
   }
  },
  {
   "cell_type": "markdown",
   "source": [
    "Om vast te stellen of dit variabele inderdaad gelijk is aan dezelfde periode die we afdekken met ons targetvariabele, kunnen we het moment van prognose nemen, en hier het moment dat de aannemer aankomt van aftrekken. We kunnen volgens uit de dataset ook het tijdstip van aankomen van de aannemer halen, en hier vervolgens een variabele voor prognoseduur vanaf het moment dat de aannemer aankomt van maken."
   ],
   "metadata": {
    "collapsed": false
   }
  },
  {
   "cell_type": "code",
   "execution_count": null,
   "outputs": [],
   "source": [
    "de_prog_aankomst_aann = pd.to_datetime(sample[\"stm_aanntpl_ddt\"], errors=\"coerce\")\n",
    "de_prog_aankomst_aann.shape"
   ],
   "metadata": {
    "collapsed": false,
    "pycharm": {
     "name": "#%%\n"
    }
   }
  },
  {
   "cell_type": "code",
   "execution_count": null,
   "outputs": [],
   "source": [
    "de_prog_duur_2 = (de_prog_moment - de_prog_aankomst_aann).dt.total_seconds()"
   ],
   "metadata": {
    "collapsed": false,
    "pycharm": {
     "name": "#%%\n"
    }
   }
  },
  {
   "cell_type": "code",
   "execution_count": null,
   "outputs": [],
   "source": [
    "de_prog_duur_2.shape"
   ],
   "metadata": {
    "collapsed": false,
    "pycharm": {
     "name": "#%%\n"
    }
   }
  },
  {
   "cell_type": "markdown",
   "source": [
    "Van de_prog_duur_2 weten we dat dit in seconden is gemeten. Van de_prog_duur weten we dat niet zeker. Het is wel interessant om te kijken of deze 2 gelijk aan elkaar zijn, omdat de_prog_duur anders waarschijnlijk niet het beste featurevariabele is wat betreft businessdoelstelling. We nemen een foutmarge van 2 minuten met het vergelijken van de 2 tabellen, want als dit verschil er tussen zit, zouden ze nog steeds hetzelfde kunnen betekenen, met kleine notatiefouten."
   ],
   "metadata": {
    "collapsed": false
   }
  },
  {
   "cell_type": "code",
   "execution_count": null,
   "outputs": [],
   "source": [
    "de_prog_gelijk_in_seconden = ((np.abs(de_prog_duur_2 - de_prog_duur)) < 120).sum()\n",
    "f\"Wanneer je de tabellen als seconden behandeld, is {percentage(de_prog_gelijk_in_seconden, de_prog_duur_2.shape[0])}% van de kolommen (bijna) gelijk.\""
   ],
   "metadata": {
    "collapsed": false,
    "pycharm": {
     "name": "#%%\n"
    }
   }
  },
  {
   "cell_type": "markdown",
   "source": [
    "Dit is duidelijk niet genoeg, dus we kunnen ook kijken of de prognose duur kolom in minuten is gemeten, en dan dezelfde vergelijking doen."
   ],
   "metadata": {
    "collapsed": false
   }
  },
  {
   "cell_type": "code",
   "execution_count": null,
   "outputs": [],
   "source": [
    "de_prog_duur_2_min = convert_timeunit(de_prog_duur_2, TimeUnit.second, TimeUnit.minute)\n",
    "\n",
    "de_prog_gelijk_in_minuten = ((np.abs(de_prog_duur_2_min - de_prog_duur)) < 2).sum()\n",
    "f\"Wanneer je de tabellen als minuten behandeld, is {percentage(de_prog_gelijk_in_minuten, de_prog_duur_2.shape[0])}% van de kolommen (bijna) gelijk.\""
   ],
   "metadata": {
    "collapsed": false,
    "pycharm": {
     "name": "#%%\n"
    }
   }
  },
  {
   "cell_type": "markdown",
   "source": [
    "Hoewel zonder de NaN waardes, dit inderdaad de betekenis van de kolom lijkt te zijn, is de veiligere aanpak die meer correcte waardes in stand houd, de zelf gecreeërde kolom.\n",
    "\n",
    "We kunnen nu ook naar de waardes in deze kolom kijken. Hiervoor verwijderen we de NaN waardes."
   ],
   "metadata": {
    "collapsed": false
   }
  },
  {
   "cell_type": "code",
   "execution_count": null,
   "outputs": [],
   "source": [
    "de_prog_duur_2 = de_prog_duur_2.dropna()\n",
    "de_prog_duur_2.shape"
   ],
   "metadata": {
    "collapsed": false,
    "pycharm": {
     "name": "#%%\n"
    }
   }
  },
  {
   "cell_type": "markdown",
   "source": [
    "Om meer inzicht in deze gegevens te krijgen, is het ook noodzakelijk de outliers te verwijderen. Hiervoor gebruiken we dezelfde logica als bij het targetvariabele."
   ],
   "metadata": {
    "collapsed": false
   }
  },
  {
   "cell_type": "code",
   "execution_count": null,
   "outputs": [],
   "source": [
    "(de_prog_duur_2 < convert_timeunit(6, TimeUnit.hour, TimeUnit.second)).sum()"
   ],
   "metadata": {
    "collapsed": false,
    "pycharm": {
     "name": "#%%\n"
    }
   }
  },
  {
   "cell_type": "code",
   "execution_count": null,
   "outputs": [],
   "source": [
    "(de_prog_duur_2 > convert_timeunit(5, TimeUnit.minute, TimeUnit.second)).sum()"
   ],
   "metadata": {
    "collapsed": false,
    "pycharm": {
     "name": "#%%\n"
    }
   }
  },
  {
   "cell_type": "code",
   "execution_count": null,
   "outputs": [],
   "source": [
    "boven_5_min = de_prog_duur_2 > convert_timeunit(5, TimeUnit.minute, TimeUnit.second)\n",
    "onder_6_uur = de_prog_duur_2 < convert_timeunit(6, TimeUnit.hour, TimeUnit.second)\n",
    "\n",
    "de_prog_duur_2 = de_prog_duur_2.loc[boven_5_min & onder_6_uur]  # Gemeten in seconden.\n",
    "\n",
    "de_prog_duur_2.shape"
   ],
   "metadata": {
    "collapsed": false,
    "pycharm": {
     "name": "#%%\n"
    }
   }
  },
  {
   "cell_type": "code",
   "execution_count": null,
   "outputs": [],
   "source": [
    "de_prog_duur_2.hist(bins=20)"
   ],
   "metadata": {
    "collapsed": false,
    "pycharm": {
     "name": "#%%\n"
    }
   }
  },
  {
   "cell_type": "markdown",
   "source": [
    "Dit variabele waarschijnlijk heeft een redelijk gelijke exponentiële verdeling als ons targetvariabele. Zouden deze dan ook correleren?"
   ],
   "metadata": {
    "collapsed": false
   }
  },
  {
   "cell_type": "code",
   "execution_count": null,
   "outputs": [],
   "source": [
    "de_prog_duur_2.shape"
   ],
   "metadata": {
    "collapsed": false,
    "pycharm": {
     "name": "#%%\n"
    }
   }
  },
  {
   "cell_type": "code",
   "execution_count": null,
   "outputs": [],
   "source": [
    "de_prog_corr_matrix = pd.DataFrame({\"Target\": target,\n",
    "                                    \"Prognose\": de_prog_duur_2}).dropna()\n",
    "de_prog_corr_matrix.corr()"
   ],
   "metadata": {
    "collapsed": false,
    "pycharm": {
     "name": "#%%\n"
    }
   }
  },
  {
   "cell_type": "markdown",
   "source": [
    "Deze 2 variabele correleren sterk. Dit is dan visueel waarschijnlijk ook te zien."
   ],
   "metadata": {
    "collapsed": false
   }
  },
  {
   "cell_type": "code",
   "execution_count": null,
   "outputs": [],
   "source": [
    "plt.scatter(de_prog_corr_matrix[\"Target\"], de_prog_corr_matrix[\"Prognose\"], s=1, alpha=0.5)\n",
    "plt.xlabel(\"Target\")\n",
    "plt.ylabel(\"Prognose\")\n",
    "plt.title(\"Prognose tegenover target.\")"
   ],
   "metadata": {
    "collapsed": false,
    "pycharm": {
     "name": "#%%\n"
    }
   }
  },
  {
   "cell_type": "markdown",
   "source": [
    "Hiermee concluderen we dat dit een goed featurevariabele is, welke goed in een model gebruikt kan worden."
   ],
   "metadata": {
    "collapsed": false
   }
  },
  {
   "cell_type": "markdown",
   "source": [
    "<h3>Data preperation</h3>\n",
    "\n",
    "Nu dit featurevariabele is vastgesteld, blijft er alleen over deze goed te engineeren voor de hele dataset, en dit aan het dataframe voor het model toe te voegen."
   ],
   "metadata": {
    "collapsed": false
   }
  },
  {
   "cell_type": "code",
   "execution_count": null,
   "outputs": [],
   "source": [
    "progfh_formatted = df[\"stm_progfh_in_datum\"] + \" \" + df[\"stm_progfh_in_tijd\"]\n",
    "df[\"stm_progfh_as_pddt\"] = pd.to_datetime(progfh_formatted, errors=\"coerce\")"
   ],
   "metadata": {
    "collapsed": false,
    "pycharm": {
     "name": "#%%\n"
    }
   }
  },
  {
   "cell_type": "code",
   "execution_count": null,
   "outputs": [],
   "source": [
    "prognose = (df[\"stm_progfh_as_pddt\"] - df[\"stm_aanntpl_ddt_as_pddt\"]).dt.total_seconds()\n",
    "m1_df.head(2)"
   ],
   "metadata": {
    "collapsed": false,
    "pycharm": {
     "name": "#%%\n"
    }
   }
  },
  {
   "cell_type": "code",
   "execution_count": null,
   "outputs": [],
   "source": [
    "prognose.shape"
   ],
   "metadata": {
    "collapsed": false,
    "pycharm": {
     "name": "#%%\n"
    }
   }
  },
  {
   "cell_type": "code",
   "execution_count": null,
   "outputs": [],
   "source": [
    "boven_5_min = prognose > convert_timeunit(5, TimeUnit.minute, TimeUnit.second)\n",
    "onder_6_uur = prognose < convert_timeunit(6, TimeUnit.hour, TimeUnit.second)\n",
    "\n",
    "prognose = prognose.loc[boven_5_min & onder_6_uur]  # Gemeten in seconden.\n",
    "\n",
    "target.head(5)"
   ],
   "metadata": {
    "collapsed": false,
    "pycharm": {
     "name": "#%%\n"
    }
   }
  },
  {
   "cell_type": "code",
   "execution_count": null,
   "outputs": [],
   "source": [
    "prognose.shape"
   ],
   "metadata": {
    "collapsed": false,
    "pycharm": {
     "name": "#%%\n"
    }
   }
  },
  {
   "cell_type": "code",
   "execution_count": null,
   "outputs": [],
   "source": [
    "m1_df[\"Prognose\"] = prognose"
   ],
   "metadata": {
    "collapsed": false,
    "pycharm": {
     "name": "#%%\n"
    }
   }
  },
  {
   "cell_type": "code",
   "execution_count": null,
   "outputs": [],
   "source": [
    "m1_df[\"Prognose\"].hist(bins=20)"
   ],
   "metadata": {
    "collapsed": false,
    "pycharm": {
     "name": "#%%\n"
    }
   }
  },
  {
   "cell_type": "markdown",
   "source": [
    "<h2>Locatie storing</h2>\n",
    "\n",
    "<h3>Data exploration</h2>\n",
    "\n",
    "Uit ons businessonderzoek blijkt dat een idee van waar een storing gebeurt ook iets kan zeggen over de duur tot functieherstel. Een aantal kolommen zouden hier mogelijk voor gebruikt kunnen worden. Bijvoorbeeld \"stm_geo_mld\", \"stm_contractgeb_mld\" of \"stm_geo_gst\". Omdat één gebied niet persé volgordelijk zijn, kunnen we deze variabelen als nominaal beschouwen. Omdat een variabele met heel veel permutaties waarschijnlijk tot te veel dimensies voor nuttige modellen zou lijden, is het handig een variabele te kiezen met niet al te veel permutaties. Hier kunnen we naar kijken."
   ],
   "metadata": {
    "collapsed": false
   }
  },
  {
   "cell_type": "code",
   "execution_count": null,
   "outputs": [],
   "source": [
    "df[[\"stm_geo_mld\", \"stm_geo_gst\", \"stm_contractgeb_mld\"]].nunique()"
   ],
   "metadata": {
    "collapsed": false,
    "pycharm": {
     "name": "#%%\n"
    }
   }
  },
  {
   "cell_type": "markdown",
   "source": [
    "stm_contractgeb_mld heeft niet al te veel permutaties. Ook hebben we van ProRail hier de betekenissen van gekregen."
   ],
   "metadata": {
    "collapsed": false
   }
  },
  {
   "cell_type": "code",
   "execution_count": null,
   "outputs": [],
   "source": [
    "sample[\"stm_contractgeb_mld\"].head(5)"
   ],
   "metadata": {
    "collapsed": false,
    "pycharm": {
     "name": "#%%\n"
    }
   }
  },
  {
   "cell_type": "code",
   "execution_count": null,
   "outputs": [],
   "source": [
    "contractgebied_betekenissen = pd.read_excel(\"Contractgebiedcodes.xlsx\")\n",
    "contractgebied_betekenissen"
   ],
   "metadata": {
    "collapsed": false,
    "pycharm": {
     "name": "#%%\n"
    }
   }
  },
  {
   "cell_type": "markdown",
   "source": [
    "Elk van deze categoriën staat voor een bepaald contractgebied, bijvoorbeeld \"Utrecht\" of \"overig\". Uit de betekenissen weten we dat veel van deze gebiedscodes voor dezelfde gebieden staan.\n",
    "\n",
    "<h3>Data preperation.</h3>\n",
    "\n",
    "Om de permutaties te verminderen kunnen we met een replace operatie alle duplicaatbetekenissen naar 1 categorie veranderen. We kunnen alle codes met dezelfde betekenis naar één code veranderen."
   ],
   "metadata": {
    "collapsed": false
   }
  },
  {
   "cell_type": "code",
   "execution_count": null,
   "metadata": {
    "collapsed": false,
    "pycharm": {
     "name": "#%%\n"
    }
   },
   "outputs": [],
   "source": [
    "contractgebied = df[\"stm_contractgeb_mld\"]\n",
    "contractgebied = contractgebied.replace({81.0: 1.0,\n",
    "                                         71.0: 4.0,\n",
    "                                         7.0: 6.0,\n",
    "                                         11.0: 10.0,\n",
    "                                         16.0: 12.0,\n",
    "                                         14.0: 13.0,\n",
    "                                         15.0: 13.0,\n",
    "                                         18.0: 19.0,\n",
    "                                         20.0: 23.0,\n",
    "                                         21.0: 22.0,\n",
    "                                         24.0: 27.0,\n",
    "                                         28.0: 30.0,\n",
    "                                         29.0: 31.0,\n",
    "                                         33.0: 31.0,\n",
    "                                         34.0: 35.0,\n",
    "                                         36.0: 37.0,\n",
    "                                         63.0: 0.0,\n",
    "                                         61.0: 0.0,\n",
    "                                         51.0: 0.0,\n",
    "                                         52.0: 0.0,\n",
    "                                         60.0: 0.0,\n",
    "                                         58.0: 0.0,\n",
    "                                         59.0: 0.0,\n",
    "                                         70.0: 0.0,\n",
    "                                         25.0: 0.0,\n",
    "                                         26.0: 0.0})\n"
   ]
  },
  {
   "cell_type": "markdown",
   "source": [
    "En voor het volledige kan dit ook nog even naar een categorie datatype veranderd worden."
   ],
   "metadata": {
    "collapsed": false
   }
  },
  {
   "cell_type": "code",
   "execution_count": null,
   "outputs": [],
   "source": [
    "contractgebied = contractgebied.astype(\"category\")"
   ],
   "metadata": {
    "collapsed": false,
    "pycharm": {
     "name": "#%%\n"
    }
   }
  },
  {
   "cell_type": "markdown",
   "source": [
    "We kunnen dit met een dummyencoding bruikbaar maken voor een model."
   ],
   "metadata": {
    "collapsed": false
   }
  },
  {
   "cell_type": "code",
   "execution_count": null,
   "metadata": {
    "collapsed": false,
    "pycharm": {
     "name": "#%%\n"
    }
   },
   "outputs": [],
   "source": [
    "loc_encoded = pd.get_dummies(contractgebied, prefix=\"Contractgebied\")"
   ]
  },
  {
   "cell_type": "markdown",
   "source": [
    "En dit kan vervolgens toegevoegd worden aan het dataframe voor gebruik in een model."
   ],
   "metadata": {
    "collapsed": false
   }
  },
  {
   "cell_type": "code",
   "execution_count": null,
   "outputs": [],
   "source": [
    "m1_df = m1_df.merge(loc_encoded, left_index=True, right_index=True)"
   ],
   "metadata": {
    "collapsed": false,
    "pycharm": {
     "name": "#%%\n"
    }
   }
  },
  {
   "cell_type": "markdown",
   "source": [
    "<h2> Dingen voor modelling, maak mooier!</h2>"
   ],
   "metadata": {
    "collapsed": false
   }
  },
  {
   "cell_type": "code",
   "execution_count": null,
   "metadata": {
    "collapsed": false,
    "pycharm": {
     "name": "#%%\n"
    }
   },
   "outputs": [],
   "source": [
    "\n",
    "X_m1 = m1_df.drop(columns=\"Target\")\n",
    "y_m1 = m1_df[\"Target\"]"
   ]
  },
  {
   "cell_type": "code",
   "execution_count": null,
   "metadata": {
    "collapsed": false,
    "pycharm": {
     "name": "#%%\n"
    }
   },
   "outputs": [],
   "source": [
    "X_m1_train, X_m1_test, y_m1_train, y_m1_test = model_selection.train_test_split(X_m1, y_m1, random_state=0)"
   ]
  },
  {
   "cell_type": "code",
   "execution_count": null,
   "metadata": {
    "collapsed": false,
    "pycharm": {
     "name": "#%%\n"
    }
   },
   "outputs": [],
   "source": [
    "m1 = linear_model.LinearRegression()\n",
    "m1.fit(X_m1_train, y_m1_train)\n",
    "convert_timeunit(metrics.mean_squared_error(y_m1_test, m1.predict(X_m1_test), squared=False), TimeUnit.second, TimeUnit.minute)"
   ]
  },
  {
   "cell_type": "code",
   "execution_count": null,
   "metadata": {
    "collapsed": false,
    "pycharm": {
     "name": "#%%\n"
    }
   },
   "outputs": [],
   "source": [
    "m1_t = tree.DecisionTreeRegressor(max_depth=20)\n",
    "m1_t.fit(X_m1_train, y_m1_train)\n",
    "convert_timeunit(metrics.mean_squared_error(y_m1_test, m1_t.predict(X_m1_test), squared=False), TimeUnit.second, TimeUnit.minute)"
   ]
  },
  {
   "cell_type": "code",
   "execution_count": null,
   "metadata": {
    "collapsed": false,
    "pycharm": {
     "name": "#%%\n"
    }
   },
   "outputs": [],
   "source": [
    "degree = 2\n",
    "\n",
    "polyreg = make_pipeline(PolynomialFeatures(degree), LinearRegression())\n",
    "\n",
    "polyreg.fit(X_m1_train,y_m1_train)\n",
    "convert_timeunit(metrics.mean_squared_error(y_m1_test, polyreg.predict(X_m1_test), squared=False), TimeUnit.second, TimeUnit.minute)"
   ]
  },
  {
   "cell_type": "code",
   "execution_count": null,
   "outputs": [],
   "source": [
    "m1_df.head(2)"
   ],
   "metadata": {
    "collapsed": false,
    "pycharm": {
     "name": "#%%\n"
    }
   }
  },
  {
   "cell_type": "markdown",
   "source": [],
   "metadata": {
    "collapsed": false
   }
  },
  {
   "cell_type": "markdown",
   "source": [
    "RMSE prognose"
   ],
   "metadata": {
    "collapsed": false
   }
  },
  {
   "cell_type": "code",
   "execution_count": null,
   "outputs": [],
   "source": [
    "convert_timeunit(metrics.mean_squared_error(m1_df[\"Target\"], m1_df[\"Prognose\"], squared=False), TimeUnit.second, TimeUnit.minute)"
   ],
   "metadata": {
    "collapsed": false,
    "pycharm": {
     "name": "#%%\n"
    }
   }
  },
  {
   "cell_type": "markdown",
   "metadata": {
    "collapsed": false
   },
   "source": [
    "Meer tekst en moet verplaatst worden naar data prep lmao"
   ]
  },
  {
   "cell_type": "markdown",
   "source": [],
   "metadata": {
    "collapsed": false
   }
  },
  {
   "cell_type": "markdown",
   "metadata": {
    "collapsed": false,
    "pycharm": {
     "name": "#%% md\n"
    }
   },
   "source": []
  }
 ],
 "metadata": {
  "interpreter": {
   "hash": "b3ba2566441a7c06988d0923437866b63cedc61552a5af99d1f4fb67d367b25f"
  },
  "kernelspec": {
   "display_name": "Python 3.8.8 64-bit ('base': conda)",
   "name": "python3"
  },
  "language_info": {
   "codemirror_mode": {
    "name": "ipython",
    "version": 3
   },
   "file_extension": ".py",
   "mimetype": "text/x-python",
   "name": "python",
   "nbconvert_exporter": "python",
   "pygments_lexer": "ipython3",
   "version": "3.8.8"
  }
 },
 "nbformat": 4,
 "nbformat_minor": 0
}