{
 "cells": [
  {
   "cell_type": "markdown",
   "source": [
    "Dit tijdelijke document verkent de mogelijke targetvariabelen om de gestelde vragen vanuit ProRail te beantwoorden.\n",
    "\n",
    "ProRail is opzoek naar voorspelling wat betreft functieherstel aan het begin van een storing, door de gegeven dataset van storingen in het verleden.\n",
    "\n",
    "De geleverde informatie over mogelijke featurevariabelen die volgens de business-expert hoogstwaarschijnlijk grote invloed op de uiteindelijke duur van functieherstel van het spoor zijn, is hoogstwaarschijnlijk pas bij het arriveren van de monteur beschikbaar. Er vanuit gaande dat er dan pas een voorspelling gemaakt kan worden (in ieder geval met het eerste model), moet verkend worden of te tijd van monteur-aankomst tot functieherstel beschikbaar is in de dataset.\n",
    "\n",
    "Dit document is in afwachting van de conclusie over targetvariabelen vanuit de business-interviews. Om productief te zijn als team, is parralel werken op het moment redelijk essentieel. Omdat ik hier nog op wacht, rust dit document wel op een aantal aannames over de informatie die daar uit zal komen.\n",
    "\n",
    "Eerst laden we wat libraries, en de dataset in:"
   ],
   "metadata": {
    "collapsed": false
   }
  },
  {
   "cell_type": "code",
   "execution_count": null,
   "outputs": [],
   "source": [
    "import numpy as np\n",
    "import pandas as pd\n",
    "\n",
    "dataset = pd.read_csv(\"sap_storing_data_hu_project.csv\")"
   ],
   "metadata": {
    "collapsed": false,
    "pycharm": {
     "name": "#%%\n"
    }
   }
  },
  {
   "cell_type": "markdown",
   "source": [
    "Van de business-interviews weten we dat het te-voorspellen variabele het tijdstip van 'herstel' is. In de dataset staat een kolom voor tijdstip van 'functieherstel' en een tijdstip van 'einde storing'. Laten we deze in makkelijkere variabelenamen opslaan, en inspecteren:"
   ],
   "metadata": {
    "collapsed": false
   }
  },
  {
   "cell_type": "code",
   "execution_count": null,
   "outputs": [],
   "source": [
    "fh = \"stm_fh_ddt\"\n",
    "dataset[fh].head(5)"
   ],
   "metadata": {
    "collapsed": false,
    "pycharm": {
     "name": "#%%\n"
    }
   }
  },
  {
   "cell_type": "code",
   "execution_count": null,
   "outputs": [],
   "source": [
    "es = \"stm_sap_storeind_ddt\"\n",
    "dataset[es].head(5)"
   ],
   "metadata": {
    "collapsed": false,
    "pycharm": {
     "name": "#%%\n"
    }
   }
  },
  {
   "cell_type": "markdown",
   "source": [
    "In eerste oogopslag lijken de waardes in deze tabel gelijk te lijken. Laten we kijken voor welk deel van de dataset dat geld."
   ],
   "metadata": {
    "collapsed": false
   }
  },
  {
   "cell_type": "code",
   "execution_count": null,
   "outputs": [],
   "source": [
    "def percentage(prob: float) -> float:\n",
    "    \"\"\"Convert a probability (p > 0 ∧ p < 1) to a percentage.\n",
    "    Convenience function.\n",
    "\n",
    "    Args:\n",
    "        prob: probability between 0 and 1.\n",
    "\n",
    "    Returns:\n",
    "        percentage.\"\"\"\n",
    "    return prob * 100\n",
    "\n",
    "\n",
    "n_rows = dataset.shape[0]\n",
    "n_equal = (dataset[fh] == dataset[es]).sum()\n",
    "\n",
    "f\"{percentage(n_equal / n_rows)}%\""
   ],
   "metadata": {
    "collapsed": false,
    "pycharm": {
     "name": "#%%\n"
    }
   }
  },
  {
   "cell_type": "markdown",
   "source": [
    "We krijgen hier 16% uit, wat niet enorm overeen lijkt te komen met de resultaten die we handmatig kunnen observeren. Hoe zit het met de datatypes?"
   ],
   "metadata": {
    "collapsed": false
   }
  },
  {
   "cell_type": "code",
   "execution_count": null,
   "outputs": [],
   "source": [
    "dataset[[fh, es]].dtypes"
   ],
   "metadata": {
    "collapsed": false,
    "pycharm": {
     "name": "#%%\n"
    }
   }
  },
  {
   "cell_type": "markdown",
   "source": [
    "Objects, laten we dat aanpassen."
   ],
   "metadata": {
    "collapsed": false
   }
  },
  {
   "cell_type": "code",
   "execution_count": null,
   "outputs": [],
   "source": [
    "dataset[[fh, es]] = dataset[[fh, es]].convert_dtypes()\n",
    "dataset[[fh, es]].dtypes"
   ],
   "metadata": {
    "collapsed": false,
    "pycharm": {
     "name": "#%%\n"
    }
   }
  },
  {
   "cell_type": "markdown",
   "source": [
    "Nu zijn strings. Eigenlijk willen we datetimes, dus laten we kijken of dat aangepast kan. Waarschijnlijk worden er een aantal dan niet meegenomen, dus even controleren hoeveel nans er zijn."
   ],
   "metadata": {
    "collapsed": false
   }
  },
  {
   "cell_type": "code",
   "execution_count": null,
   "outputs": [],
   "source": [
    "f\"{dataset[fh].isna().sum()} and {dataset[es].isna().sum()} out of {dataset.shape[0]}\""
   ],
   "metadata": {
    "collapsed": false,
    "pycharm": {
     "name": "#%%\n"
    }
   }
  },
  {
   "cell_type": "markdown",
   "source": [
    "Even kijken of pandas het een beetje automatisch can converten"
   ],
   "metadata": {
    "collapsed": false
   }
  },
  {
   "cell_type": "code",
   "execution_count": null,
   "outputs": [],
   "source": [
    "new_fh = pd.to_datetime(dataset[fh], errors='coerce')\n",
    "new_se = pd.to_datetime(dataset[es], errors='coerce')\n",
    "\n",
    "f\"{new_fh.isna().sum()} and {new_se.isna().sum()} out of {dataset.shape[0]}\""
   ],
   "metadata": {
    "collapsed": false,
    "pycharm": {
     "name": "#%%\n"
    }
   }
  },
  {
   "cell_type": "markdown",
   "source": [
    "Goed genoeg.\n",
    "Nu we deze omgezet hebben, kunnen we kijken of deze gelijk zijn aan elkaar."
   ],
   "metadata": {
    "collapsed": false
   }
  },
  {
   "cell_type": "code",
   "execution_count": null,
   "outputs": [],
   "source": [
    "n_equal = (new_fh == new_se).sum()\n",
    "\n",
    "f\"{percentage(n_equal / n_rows)}%\""
   ],
   "metadata": {
    "collapsed": false,
    "pycharm": {
     "name": "#%%\n"
    }
   }
  },
  {
   "cell_type": "markdown",
   "source": [
    "Nog steeds niet heel erg.\n",
    "\n",
    "Waarschijnlijk willen we van een van deze 2 aftrekken wanneer de monteur aankwam.\n",
    "\n",
    "Dit is waarschijnlijk opgemaakt uit: stm_aanntpl_tijd en stm_aanntpl_dd.\n",
    "\n",
    "Of mss stm_aanntpl_ddt, daar staat wel een vraagteken bij in de dataset."
   ],
   "metadata": {
    "collapsed": false
   }
  },
  {
   "cell_type": "code",
   "execution_count": null,
   "outputs": [],
   "source": [
    "dataset[[\"stm_aanntpl_tijd\", \"stm_aanntpl_dd\", \"stm_aanntpl_ddt\"]]"
   ],
   "metadata": {
    "collapsed": false,
    "pycharm": {
     "name": "#%%\n"
    }
   }
  },
  {
   "cell_type": "code",
   "execution_count": null,
   "outputs": [],
   "source": [
    "for col in dataset[[\"stm_aanntpl_tijd\", \"stm_aanntpl_dd\", \"stm_aanntpl_ddt\"]].columns:\n",
    "    print(dataset[col].isna().sum())"
   ],
   "metadata": {
    "collapsed": false,
    "pycharm": {
     "name": "#%%\n"
    }
   }
  },
  {
   "cell_type": "markdown",
   "source": [
    " Er is een kolom, stm_progfh_in_duur, en een kolom stm_fh_duur. Is een van deze 2 gelijk aan wat we net uitgerekend hebben?"
   ],
   "metadata": {
    "collapsed": false
   }
  },
  {
   "cell_type": "code",
   "execution_count": null,
   "outputs": [],
   "source": [
    "dataset[[\"stm_progfh_in_duur\", \"stm_fh_duur\"]].head(5)"
   ],
   "metadata": {
    "collapsed": false,
    "pycharm": {
     "name": "#%%\n"
    }
   }
  },
  {
   "cell_type": "markdown",
   "source": [
    "Die eerste is waarschijnlijk niet heel nuttig. Die 2e dan? Dat zal dan waarschijnlijk in minuten, of uren zijn. Allebei bekijken."
   ],
   "metadata": {
    "collapsed": false
   }
  },
  {
   "cell_type": "code",
   "execution_count": null,
   "outputs": [],
   "source": [
    "tgt1 = \"stm_fh_duur\"\n",
    "dataset[tgt1].dtypes"
   ],
   "metadata": {
    "collapsed": false,
    "pycharm": {
     "name": "#%%\n"
    }
   }
  },
  {
   "cell_type": "code",
   "execution_count": null,
   "outputs": [],
   "source": [
    "dataset[tgt1].isna().sum()"
   ],
   "metadata": {
    "collapsed": false,
    "pycharm": {
     "name": "#%%\n"
    }
   }
  },
  {
   "cell_type": "code",
   "execution_count": null,
   "outputs": [],
   "source": [
    "dataset[tgt1].head(5)"
   ],
   "metadata": {
    "collapsed": false,
    "pycharm": {
     "name": "#%%\n"
    }
   }
  },
  {
   "cell_type": "markdown",
   "source": [
    "Wss is dat het targetvariabele. "
   ],
   "metadata": {
    "collapsed": false
   }
  },
  {
   "cell_type": "markdown",
   "source": [],
   "metadata": {
    "collapsed": false
   }
  }
 ],
 "metadata": {
  "kernelspec": {
   "display_name": "Python 3",
   "language": "python",
   "name": "python3"
  },
  "language_info": {
   "codemirror_mode": {
    "name": "ipython",
    "version": 2
   },
   "file_extension": ".py",
   "mimetype": "text/x-python",
   "name": "python",
   "nbconvert_exporter": "python",
   "pygments_lexer": "ipython2",
   "version": "2.7.6"
  }
 },
 "nbformat": 4,
 "nbformat_minor": 0
}