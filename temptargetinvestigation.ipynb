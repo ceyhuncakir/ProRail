{
 "cells": [
  {
   "cell_type": "markdown",
   "source": [
    "Dit tijdelijke document verkent de mogelijke targetvariabelen om de gestelde vragen vanuit ProRail te beantwoorden.\n",
    "\n",
    "ProRail is opzoek naar voorspelling wat betreft functieherstel aan het begin van een storing, door de gegeven dataset van storingen in het verleden.\n",
    "\n",
    "De geleverde informatie over mogelijke featurevariabelen die volgens de business-expert hoogstwaarschijnlijk grote invloed op de uiteindelijke duur van functieherstel van het spoor zijn, is hoogstwaarschijnlijk pas bij het arriveren van de monteur beschikbaar. Er vanuit gaande dat er dan pas een voorspelling gemaakt kan worden (in ieder geval met het eerste model), moet verkend worden of te tijd van monteur-aankomst tot functieherstel beschikbaar is in de dataset.\n",
    "\n",
    "Dit document is in afwachting van de conclusie over targetvariabelen vanuit de business-interviews. Om productief te zijn als team, is parralel werken op het moment redelijk essentieel. Omdat ik hier nog op wacht, rust dit document wel op een aantal aannames over de informatie die daar uit zal komen.\n",
    "\n",
    "Eerst laden we wat libraries, en de dataset in:"
   ],
   "metadata": {
    "collapsed": false
   }
  },
  {
   "cell_type": "code",
   "execution_count": 23,
   "outputs": [
    {
     "name": "stderr",
     "output_type": "stream",
     "text": [
      "C:\\anaconda\\lib\\site-packages\\IPython\\core\\interactiveshell.py:3165: DtypeWarning: Columns (11,19,21,24,25,27,32,33,36,37,38,39,40,46,47,48,49,51,53,55,56,60,73,75,78,80,82,83,86,87,91,95,99,102,103,104,107,108,109,110,111,112,113,116,118,120,121,122,123,124,129) have mixed types.Specify dtype option on import or set low_memory=False.\n",
      "  has_raised = await self.run_ast_nodes(code_ast.body, cell_name,\n"
     ]
    }
   ],
   "source": [
    "import numpy as np\n",
    "import pandas as pd\n",
    "\n",
    "dataset = pd.read_csv(\"sap_storing_data_hu_project.csv\")"
   ],
   "metadata": {
    "collapsed": false,
    "pycharm": {
     "name": "#%%\n"
    }
   }
  },
  {
   "cell_type": "markdown",
   "source": [
    "Van de business-interviews weten we dat het te-voorspellen variabele het tijdstip van 'herstel' is. In de dataset staat een kolom voor tijdstip van 'functieherstel' en een tijdstip van 'einde storing'. Laten we deze in makkelijkere variabelenamen opslaan, en inspecteren:"
   ],
   "metadata": {
    "collapsed": false
   }
  },
  {
   "cell_type": "code",
   "execution_count": 24,
   "outputs": [
    {
     "data": {
      "text/plain": "0                    NaN\n1    02/01/2006 09:00:00\n2    02/01/2006 13:26:00\n3    02/01/2006 17:20:00\n4    02/01/2006 22:36:00\nName: stm_fh_ddt, dtype: object"
     },
     "execution_count": 24,
     "metadata": {},
     "output_type": "execute_result"
    }
   ],
   "source": [
    "fh = \"stm_fh_ddt\"\n",
    "dataset[fh].head(5)"
   ],
   "metadata": {
    "collapsed": false,
    "pycharm": {
     "name": "#%%\n"
    }
   }
  },
  {
   "cell_type": "code",
   "execution_count": 25,
   "outputs": [
    {
     "data": {
      "text/plain": "0                    NaN\n1    02/01/2006 09:00:00\n2    02/01/2006 13:26:00\n3    02/01/2006 17:20:00\n4    02/01/2006 22:36:00\nName: stm_sap_storeind_ddt, dtype: object"
     },
     "execution_count": 25,
     "metadata": {},
     "output_type": "execute_result"
    }
   ],
   "source": [
    "es = \"stm_sap_storeind_ddt\"\n",
    "dataset[es].head(5)"
   ],
   "metadata": {
    "collapsed": false,
    "pycharm": {
     "name": "#%%\n"
    }
   }
  },
  {
   "cell_type": "markdown",
   "source": [
    "In eerste oogopslag lijken de waardes in deze tabel gelijk te lijken. Laten we kijken voor welk deel van de dataset dat geld."
   ],
   "metadata": {
    "collapsed": false
   }
  },
  {
   "cell_type": "code",
   "execution_count": 26,
   "outputs": [
    {
     "data": {
      "text/plain": "'19.96210953749065%'"
     },
     "execution_count": 26,
     "metadata": {},
     "output_type": "execute_result"
    }
   ],
   "source": [
    "def percentage(prob: float) -> float:\n",
    "    \"\"\"Convert a probability (p > 0 ∧ p < 1) to a percentage.\n",
    "    Convenience function.\n",
    "\n",
    "    Args:\n",
    "        prob: probability between 0 and 1.\n",
    "\n",
    "    Returns:\n",
    "        percentage.\"\"\"\n",
    "    return prob * 100\n",
    "\n",
    "\n",
    "n_rows = dataset.shape[0]\n",
    "n_equal = (dataset[fh] == dataset[es]).sum()\n",
    "\n",
    "f\"{percentage(n_equal / n_rows)}%\""
   ],
   "metadata": {
    "collapsed": false,
    "pycharm": {
     "name": "#%%\n"
    }
   }
  },
  {
   "cell_type": "markdown",
   "source": [
    "We krijgen hier 16% uit, wat niet enorm overeen lijkt te komen met de resultaten die we handmatig kunnen observeren. Hoe zit het met de datatypes?"
   ],
   "metadata": {
    "collapsed": false
   }
  },
  {
   "cell_type": "code",
   "execution_count": 27,
   "outputs": [
    {
     "data": {
      "text/plain": "stm_fh_ddt              object\nstm_sap_storeind_ddt    object\ndtype: object"
     },
     "execution_count": 27,
     "metadata": {},
     "output_type": "execute_result"
    }
   ],
   "source": [
    "dataset[[fh, es]].dtypes"
   ],
   "metadata": {
    "collapsed": false,
    "pycharm": {
     "name": "#%%\n"
    }
   }
  },
  {
   "cell_type": "markdown",
   "source": [
    "Objects, laten we dat aanpassen."
   ],
   "metadata": {
    "collapsed": false
   }
  },
  {
   "cell_type": "code",
   "execution_count": 28,
   "outputs": [
    {
     "data": {
      "text/plain": "stm_fh_ddt              string\nstm_sap_storeind_ddt    string\ndtype: object"
     },
     "execution_count": 28,
     "metadata": {},
     "output_type": "execute_result"
    }
   ],
   "source": [
    "dataset[[fh, es]] = dataset[[fh, es]].convert_dtypes()\n",
    "dataset[[fh, es]].dtypes"
   ],
   "metadata": {
    "collapsed": false,
    "pycharm": {
     "name": "#%%\n"
    }
   }
  },
  {
   "cell_type": "markdown",
   "source": [
    "Nu zijn strings. Eigenlijk willen we datetimes, dus laten we kijken of dat aangepast kan. Waarschijnlijk worden er een aantal dan niet meegenomen, dus even controleren hoeveel nans er zijn."
   ],
   "metadata": {
    "collapsed": false
   }
  },
  {
   "cell_type": "code",
   "execution_count": 29,
   "outputs": [
    {
     "data": {
      "text/plain": "'142213 and 160938 out of 463969'"
     },
     "execution_count": 29,
     "metadata": {},
     "output_type": "execute_result"
    }
   ],
   "source": [
    "f\"{dataset[fh].isna().sum()} and {dataset[es].isna().sum()} out of {dataset.shape[0]}\""
   ],
   "metadata": {
    "collapsed": false,
    "pycharm": {
     "name": "#%%\n"
    }
   }
  },
  {
   "cell_type": "markdown",
   "source": [
    "Even kijken of pandas het een beetje automatisch can converten"
   ],
   "metadata": {
    "collapsed": false
   }
  },
  {
   "cell_type": "code",
   "execution_count": 34,
   "outputs": [
    {
     "data": {
      "text/plain": "'142213 and 160938 out of 463969'"
     },
     "execution_count": 34,
     "metadata": {},
     "output_type": "execute_result"
    }
   ],
   "source": [
    "new_fh = pd.to_datetime(dataset[fh], errors='coerce')\n",
    "new_se = pd.to_datetime(dataset[es], errors='coerce')\n",
    "\n",
    "f\"{new_fh.isna().sum()} and {new_se.isna().sum()} out of {dataset.shape[0]}\""
   ],
   "metadata": {
    "collapsed": false,
    "pycharm": {
     "name": "#%%\n"
    }
   }
  },
  {
   "cell_type": "markdown",
   "source": [
    "Goed genoeg.\n",
    "Nu we deze omgezet hebben, kunnen we kijken of deze gelijk zijn aan elkaar."
   ],
   "metadata": {
    "collapsed": false
   }
  },
  {
   "cell_type": "code",
   "execution_count": 40,
   "outputs": [
    {
     "data": {
      "text/plain": "'19.96210953749065%'"
     },
     "execution_count": 40,
     "metadata": {},
     "output_type": "execute_result"
    }
   ],
   "source": [
    "n_equal = (new_fh == new_se).sum()\n",
    "\n",
    "f\"{percentage(n_equal / n_rows)}%\""
   ],
   "metadata": {
    "collapsed": false,
    "pycharm": {
     "name": "#%%\n"
    }
   }
  },
  {
   "cell_type": "markdown",
   "source": [
    "Nog steeds niet heel erg.\n",
    "\n",
    "Waarschijnlijk willen we van een van deze 2 aftrekken wanneer de monteur aankwam.\n",
    "\n",
    "Dit is waarschijnlijk opgemaakt uit: stm_aanntpl_tijd en stm_aanntpl_dd.\n",
    "\n",
    "Of mss stm_aanntpl_ddt, daar staat wel een vraagteken bij in de dataset."
   ],
   "metadata": {
    "collapsed": false
   }
  },
  {
   "cell_type": "code",
   "execution_count": 42,
   "outputs": [
    {
     "data": {
      "text/plain": "       stm_aanntpl_tijd stm_aanntpl_dd      stm_aanntpl_ddt\n0                   NaN            NaN                  NaN\n1              00:00:00            NaN                  NaN\n2              00:00:00            NaN                  NaN\n3              00:00:00            NaN                  NaN\n4              00:00:00            NaN                  NaN\n...                 ...            ...                  ...\n463964         10:28:00     10/02/2012  10/02/2012 10:28:00\n463965         11:15:00     10/02/2012  10/02/2012 11:15:00\n463966         11:41:00     10/02/2012  10/02/2012 11:41:00\n463967         11:13:00     10/02/2012  10/02/2012 11:13:00\n463968              NaN            NaN  10/02/2012 12:15:00\n\n[463969 rows x 3 columns]",
      "text/html": "<div>\n<style scoped>\n    .dataframe tbody tr th:only-of-type {\n        vertical-align: middle;\n    }\n\n    .dataframe tbody tr th {\n        vertical-align: top;\n    }\n\n    .dataframe thead th {\n        text-align: right;\n    }\n</style>\n<table border=\"1\" class=\"dataframe\">\n  <thead>\n    <tr style=\"text-align: right;\">\n      <th></th>\n      <th>stm_aanntpl_tijd</th>\n      <th>stm_aanntpl_dd</th>\n      <th>stm_aanntpl_ddt</th>\n    </tr>\n  </thead>\n  <tbody>\n    <tr>\n      <th>0</th>\n      <td>NaN</td>\n      <td>NaN</td>\n      <td>NaN</td>\n    </tr>\n    <tr>\n      <th>1</th>\n      <td>00:00:00</td>\n      <td>NaN</td>\n      <td>NaN</td>\n    </tr>\n    <tr>\n      <th>2</th>\n      <td>00:00:00</td>\n      <td>NaN</td>\n      <td>NaN</td>\n    </tr>\n    <tr>\n      <th>3</th>\n      <td>00:00:00</td>\n      <td>NaN</td>\n      <td>NaN</td>\n    </tr>\n    <tr>\n      <th>4</th>\n      <td>00:00:00</td>\n      <td>NaN</td>\n      <td>NaN</td>\n    </tr>\n    <tr>\n      <th>...</th>\n      <td>...</td>\n      <td>...</td>\n      <td>...</td>\n    </tr>\n    <tr>\n      <th>463964</th>\n      <td>10:28:00</td>\n      <td>10/02/2012</td>\n      <td>10/02/2012 10:28:00</td>\n    </tr>\n    <tr>\n      <th>463965</th>\n      <td>11:15:00</td>\n      <td>10/02/2012</td>\n      <td>10/02/2012 11:15:00</td>\n    </tr>\n    <tr>\n      <th>463966</th>\n      <td>11:41:00</td>\n      <td>10/02/2012</td>\n      <td>10/02/2012 11:41:00</td>\n    </tr>\n    <tr>\n      <th>463967</th>\n      <td>11:13:00</td>\n      <td>10/02/2012</td>\n      <td>10/02/2012 11:13:00</td>\n    </tr>\n    <tr>\n      <th>463968</th>\n      <td>NaN</td>\n      <td>NaN</td>\n      <td>10/02/2012 12:15:00</td>\n    </tr>\n  </tbody>\n</table>\n<p>463969 rows × 3 columns</p>\n</div>"
     },
     "execution_count": 42,
     "metadata": {},
     "output_type": "execute_result"
    }
   ],
   "source": [
    "dataset[[\"stm_aanntpl_tijd\", \"stm_aanntpl_dd\", \"stm_aanntpl_ddt\"]]"
   ],
   "metadata": {
    "collapsed": false,
    "pycharm": {
     "name": "#%%\n"
    }
   }
  },
  {
   "cell_type": "code",
   "execution_count": 46,
   "outputs": [
    {
     "name": "stdout",
     "output_type": "stream",
     "text": [
      "4\n",
      "166521\n",
      "166634\n"
     ]
    }
   ],
   "source": [
    "for col in dataset[[\"stm_aanntpl_tijd\", \"stm_aanntpl_dd\", \"stm_aanntpl_ddt\"]].columns:\n",
    "    print(dataset[col].isna().sum())"
   ],
   "metadata": {
    "collapsed": false,
    "pycharm": {
     "name": "#%%\n"
    }
   }
  },
  {
   "cell_type": "markdown",
   "source": [
    " Er is een kolom, stm_progfh_in_duur, en een kolom stm_fh_duur. Is een van deze 2 gelijk aan wat we net uitgerekend hebben?"
   ],
   "metadata": {
    "collapsed": false
   }
  },
  {
   "cell_type": "code",
   "execution_count": 35,
   "outputs": [
    {
     "data": {
      "text/plain": "  stm_progfh_in_duur  stm_fh_duur\n0                NaN          NaN\n1         99999999.0          0.0\n2         99999999.0         51.0\n3         99999999.0         40.0\n4         99999999.0          6.0",
      "text/html": "<div>\n<style scoped>\n    .dataframe tbody tr th:only-of-type {\n        vertical-align: middle;\n    }\n\n    .dataframe tbody tr th {\n        vertical-align: top;\n    }\n\n    .dataframe thead th {\n        text-align: right;\n    }\n</style>\n<table border=\"1\" class=\"dataframe\">\n  <thead>\n    <tr style=\"text-align: right;\">\n      <th></th>\n      <th>stm_progfh_in_duur</th>\n      <th>stm_fh_duur</th>\n    </tr>\n  </thead>\n  <tbody>\n    <tr>\n      <th>0</th>\n      <td>NaN</td>\n      <td>NaN</td>\n    </tr>\n    <tr>\n      <th>1</th>\n      <td>99999999.0</td>\n      <td>0.0</td>\n    </tr>\n    <tr>\n      <th>2</th>\n      <td>99999999.0</td>\n      <td>51.0</td>\n    </tr>\n    <tr>\n      <th>3</th>\n      <td>99999999.0</td>\n      <td>40.0</td>\n    </tr>\n    <tr>\n      <th>4</th>\n      <td>99999999.0</td>\n      <td>6.0</td>\n    </tr>\n  </tbody>\n</table>\n</div>"
     },
     "execution_count": 35,
     "metadata": {},
     "output_type": "execute_result"
    }
   ],
   "source": [
    "dataset[[\"stm_progfh_in_duur\", \"stm_fh_duur\"]].head(5)"
   ],
   "metadata": {
    "collapsed": false,
    "pycharm": {
     "name": "#%%\n"
    }
   }
  },
  {
   "cell_type": "markdown",
   "source": [
    "Die eerste is waarschijnlijk niet heel nuttig. Die 2e dan? Dat zal dan waarschijnlijk in minuten, of uren zijn. Allebei bekijken."
   ],
   "metadata": {
    "collapsed": false
   }
  },
  {
   "cell_type": "code",
   "execution_count": 39,
   "outputs": [
    {
     "data": {
      "text/plain": "dtype('float64')"
     },
     "execution_count": 39,
     "metadata": {},
     "output_type": "execute_result"
    }
   ],
   "source": [
    "tgt1 = \"stm_fh_duur\"\n",
    "dataset[tgt1].dtypes"
   ],
   "metadata": {
    "collapsed": false,
    "pycharm": {
     "name": "#%%\n"
    }
   }
  },
  {
   "cell_type": "code",
   "execution_count": 47,
   "outputs": [
    {
     "data": {
      "text/plain": "4"
     },
     "execution_count": 47,
     "metadata": {},
     "output_type": "execute_result"
    }
   ],
   "source": [
    "dataset[tgt1].isna().sum()"
   ],
   "metadata": {
    "collapsed": false,
    "pycharm": {
     "name": "#%%\n"
    }
   }
  },
  {
   "cell_type": "code",
   "execution_count": 49,
   "outputs": [
    {
     "data": {
      "text/plain": "0     NaN\n1     0.0\n2    51.0\n3    40.0\n4     6.0\nName: stm_fh_duur, dtype: float64"
     },
     "execution_count": 49,
     "metadata": {},
     "output_type": "execute_result"
    }
   ],
   "source": [
    "dataset[tgt1].head(5)"
   ],
   "metadata": {
    "collapsed": false,
    "pycharm": {
     "name": "#%%\n"
    }
   }
  },
  {
   "cell_type": "markdown",
   "source": [
    "Wss is dat het targetvariabele. "
   ],
   "metadata": {
    "collapsed": false
   }
  },
  {
   "cell_type": "markdown",
   "source": [],
   "metadata": {
    "collapsed": false
   }
  }
 ],
 "metadata": {
  "kernelspec": {
   "display_name": "Python 3",
   "language": "python",
   "name": "python3"
  },
  "language_info": {
   "codemirror_mode": {
    "name": "ipython",
    "version": 2
   },
   "file_extension": ".py",
   "mimetype": "text/x-python",
   "name": "python",
   "nbconvert_exporter": "python",
   "pygments_lexer": "ipython2",
   "version": "2.7.6"
  }
 },
 "nbformat": 4,
 "nbformat_minor": 0
}